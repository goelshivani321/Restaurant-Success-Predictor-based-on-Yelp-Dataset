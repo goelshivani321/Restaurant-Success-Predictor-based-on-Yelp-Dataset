{
 "cells": [
  {
   "cell_type": "code",
   "execution_count": 1,
   "metadata": {},
   "outputs": [],
   "source": [
    "import numpy as np\n",
    "import pandas as pd\n",
    "\n",
    "import matplotlib.pyplot as plt\n",
    "\n",
    "import seaborn as sns\n",
    "sns.set(style=\"whitegrid\")"
   ]
  },
  {
   "cell_type": "code",
   "execution_count": 4,
   "metadata": {},
   "outputs": [
    {
     "name": "stdout",
     "output_type": "stream",
     "text": [
      "RUNNING - Feature Engineering for location features\n",
      "This script will run the feature engineering steps \n",
      "that I have implemented for location-specific features \n",
      "and generate the following files - \n",
      "1. Plots for various analyses (png)\n",
      "2. Final feature engineered data files (csv & npz)\n"
     ]
    }
   ],
   "source": [
    "comment = \"\"\"RUNNING - Feature Engineering for location features\n",
    "This script will run the feature engineering steps \n",
    "that I have implemented for location-specific features \n",
    "and generate the following files - \n",
    "1. Plots for various analyses (png)\n",
    "2. Final feature engineered data files (csv & npz)\n",
    "NOTE: This script needs the output files of 1.0-sm-initial-eda-and-cleaning \n",
    "AND it will fail for the downsampled dataset.\n",
    "\"\"\"\n",
    "print(comment)\n",
    "from time import sleep\n",
    "sleep(5)"
   ]
  },
  {
   "cell_type": "markdown",
   "metadata": {},
   "source": [
    "# Obtain Data"
   ]
  },
  {
   "cell_type": "code",
   "execution_count": 3,
   "metadata": {},
   "outputs": [],
   "source": [
    "data = pd.read_csv('1.0-sm-business_cleaned-1.csv')"
   ]
  },
  {
   "cell_type": "code",
   "execution_count": 58,
   "metadata": {},
   "outputs": [
    {
     "data": {
      "text/html": [
       "<div>\n",
       "<style scoped>\n",
       "    .dataframe tbody tr th:only-of-type {\n",
       "        vertical-align: middle;\n",
       "    }\n",
       "\n",
       "    .dataframe tbody tr th {\n",
       "        vertical-align: top;\n",
       "    }\n",
       "\n",
       "    .dataframe thead th {\n",
       "        text-align: right;\n",
       "    }\n",
       "</style>\n",
       "<table border=\"1\" class=\"dataframe\">\n",
       "  <thead>\n",
       "    <tr style=\"text-align: right;\">\n",
       "      <th></th>\n",
       "      <th>stars</th>\n",
       "      <th>business_id</th>\n",
       "      <th>name</th>\n",
       "      <th>neighborhood</th>\n",
       "      <th>city</th>\n",
       "      <th>state</th>\n",
       "      <th>postal_code</th>\n",
       "      <th>latitude</th>\n",
       "      <th>longitude</th>\n",
       "      <th>categories</th>\n",
       "      <th>review_count</th>\n",
       "      <th>mean_user_review_counts</th>\n",
       "      <th>mean_months_since_yelping</th>\n",
       "      <th>mean_user_fans</th>\n",
       "      <th>mean_total_compliments</th>\n",
       "    </tr>\n",
       "  </thead>\n",
       "  <tbody>\n",
       "    <tr>\n",
       "      <th>0</th>\n",
       "      <td>4.0</td>\n",
       "      <td>45bWSZtniwPRiqlivpS8Og</td>\n",
       "      <td>the coffee bean &amp; tea leaf</td>\n",
       "      <td>not_available</td>\n",
       "      <td>phoenix</td>\n",
       "      <td>AZ</td>\n",
       "      <td>85024</td>\n",
       "      <td>33.671375</td>\n",
       "      <td>-112.030017</td>\n",
       "      <td>coffee &amp; tea, food</td>\n",
       "      <td>1.799341</td>\n",
       "      <td>71.855422</td>\n",
       "      <td>79.254341</td>\n",
       "      <td>8.807229</td>\n",
       "      <td>77.325301</td>\n",
       "    </tr>\n",
       "    <tr>\n",
       "      <th>1</th>\n",
       "      <td>2.5</td>\n",
       "      <td>8-NRKkPY1UiFXW20WXKiXg</td>\n",
       "      <td>filiberto's mexican food</td>\n",
       "      <td>not_available</td>\n",
       "      <td>avondale</td>\n",
       "      <td>AZ</td>\n",
       "      <td>85323</td>\n",
       "      <td>33.448106</td>\n",
       "      <td>-112.341302</td>\n",
       "      <td>mexican, restaurants</td>\n",
       "      <td>1.602060</td>\n",
       "      <td>96.235294</td>\n",
       "      <td>82.525937</td>\n",
       "      <td>5.960784</td>\n",
       "      <td>58.196078</td>\n",
       "    </tr>\n",
       "    <tr>\n",
       "      <th>2</th>\n",
       "      <td>4.0</td>\n",
       "      <td>_c3ixq9jYKxhLUB0czi0ug</td>\n",
       "      <td>original hamburger works</td>\n",
       "      <td>not_available</td>\n",
       "      <td>phoenix</td>\n",
       "      <td>AZ</td>\n",
       "      <td>85007</td>\n",
       "      <td>33.479807</td>\n",
       "      <td>-112.091188</td>\n",
       "      <td>bars, sports bars, dive bars, burgers, nightli...</td>\n",
       "      <td>2.442480</td>\n",
       "      <td>107.390244</td>\n",
       "      <td>83.152809</td>\n",
       "      <td>9.634146</td>\n",
       "      <td>144.167683</td>\n",
       "    </tr>\n",
       "    <tr>\n",
       "      <th>3</th>\n",
       "      <td>3.0</td>\n",
       "      <td>gJ5xSt6147gkcZ9Es0WxlA</td>\n",
       "      <td>rally's hamburgers</td>\n",
       "      <td>central</td>\n",
       "      <td>cleveland</td>\n",
       "      <td>OH</td>\n",
       "      <td>44115</td>\n",
       "      <td>41.499989</td>\n",
       "      <td>-81.666375</td>\n",
       "      <td>fast food, burgers, restaurants</td>\n",
       "      <td>0.698970</td>\n",
       "      <td>25.166667</td>\n",
       "      <td>36.790327</td>\n",
       "      <td>0.833333</td>\n",
       "      <td>2.333333</td>\n",
       "    </tr>\n",
       "    <tr>\n",
       "      <th>4</th>\n",
       "      <td>2.5</td>\n",
       "      <td>3ByGQOVgds2YEu6kzl-XEQ</td>\n",
       "      <td>rib shop</td>\n",
       "      <td>not_available</td>\n",
       "      <td>phoenix</td>\n",
       "      <td>AZ</td>\n",
       "      <td>85033</td>\n",
       "      <td>33.495298</td>\n",
       "      <td>-112.236076</td>\n",
       "      <td>nightlife, bars, american (traditional), sport...</td>\n",
       "      <td>0.477121</td>\n",
       "      <td>159.750000</td>\n",
       "      <td>79.200507</td>\n",
       "      <td>28.250000</td>\n",
       "      <td>546.250000</td>\n",
       "    </tr>\n",
       "  </tbody>\n",
       "</table>\n",
       "</div>"
      ],
      "text/plain": [
       "   stars             business_id                        name   neighborhood  \\\n",
       "0    4.0  45bWSZtniwPRiqlivpS8Og  the coffee bean & tea leaf  not_available   \n",
       "1    2.5  8-NRKkPY1UiFXW20WXKiXg    filiberto's mexican food  not_available   \n",
       "2    4.0  _c3ixq9jYKxhLUB0czi0ug    original hamburger works  not_available   \n",
       "3    3.0  gJ5xSt6147gkcZ9Es0WxlA          rally's hamburgers        central   \n",
       "4    2.5  3ByGQOVgds2YEu6kzl-XEQ                    rib shop  not_available   \n",
       "\n",
       "        city state postal_code   latitude   longitude  \\\n",
       "0    phoenix    AZ       85024  33.671375 -112.030017   \n",
       "1   avondale    AZ       85323  33.448106 -112.341302   \n",
       "2    phoenix    AZ       85007  33.479807 -112.091188   \n",
       "3  cleveland    OH       44115  41.499989  -81.666375   \n",
       "4    phoenix    AZ       85033  33.495298 -112.236076   \n",
       "\n",
       "                                          categories  review_count  \\\n",
       "0                                 coffee & tea, food      1.799341   \n",
       "1                               mexican, restaurants      1.602060   \n",
       "2  bars, sports bars, dive bars, burgers, nightli...      2.442480   \n",
       "3                    fast food, burgers, restaurants      0.698970   \n",
       "4  nightlife, bars, american (traditional), sport...      0.477121   \n",
       "\n",
       "   mean_user_review_counts  mean_months_since_yelping  mean_user_fans  \\\n",
       "0                71.855422                  79.254341        8.807229   \n",
       "1                96.235294                  82.525937        5.960784   \n",
       "2               107.390244                  83.152809        9.634146   \n",
       "3                25.166667                  36.790327        0.833333   \n",
       "4               159.750000                  79.200507       28.250000   \n",
       "\n",
       "   mean_total_compliments  \n",
       "0               77.325301  \n",
       "1               58.196078  \n",
       "2              144.167683  \n",
       "3                2.333333  \n",
       "4              546.250000  "
      ]
     },
     "execution_count": 58,
     "metadata": {},
     "output_type": "execute_result"
    }
   ],
   "source": [
    "data.head()"
   ]
  },
  {
   "cell_type": "code",
   "execution_count": 59,
   "metadata": {},
   "outputs": [
    {
     "name": "stdout",
     "output_type": "stream",
     "text": [
      "<class 'pandas.core.frame.DataFrame'>\n",
      "RangeIndex: 31758 entries, 0 to 31757\n",
      "Data columns (total 15 columns):\n",
      "stars                        31758 non-null float64\n",
      "business_id                  31758 non-null object\n",
      "name                         31758 non-null object\n",
      "neighborhood                 31758 non-null object\n",
      "city                         31758 non-null object\n",
      "state                        31758 non-null object\n",
      "postal_code                  31758 non-null object\n",
      "latitude                     31758 non-null float64\n",
      "longitude                    31758 non-null float64\n",
      "categories                   31758 non-null object\n",
      "review_count                 31758 non-null float64\n",
      "mean_user_review_counts      31758 non-null float64\n",
      "mean_months_since_yelping    31758 non-null float64\n",
      "mean_user_fans               31758 non-null float64\n",
      "mean_total_compliments       31758 non-null float64\n",
      "dtypes: float64(8), object(7)\n",
      "memory usage: 3.6+ MB\n"
     ]
    }
   ],
   "source": [
    "data.info()"
   ]
  },
  {
   "cell_type": "markdown",
   "metadata": {},
   "source": [
    "# Feature Engineering"
   ]
  },
  {
   "cell_type": "markdown",
   "metadata": {},
   "source": [
    "## Clustering Lat/Lon to identify closeby businesses"
   ]
  },
  {
   "cell_type": "markdown",
   "metadata": {},
   "source": [
    "Using DBSCAN to cluster businesses within a 2km radius i.e. eps=2kms and parameterizing such that every point gets a cluster, no noise i.e. min_samples=1"
   ]
  },
  {
   "cell_type": "code",
   "execution_count": 60,
   "metadata": {},
   "outputs": [],
   "source": [
    "coords = data[['latitude', 'longitude']].values"
   ]
  },
  {
   "cell_type": "code",
   "execution_count": 61,
   "metadata": {},
   "outputs": [],
   "source": [
    "from sklearn.cluster import DBSCAN"
   ]
  },
  {
   "cell_type": "code",
   "execution_count": 62,
   "metadata": {},
   "outputs": [],
   "source": [
    "kms_per_radian = 6371.0088\n",
    "epsilon = 2 / kms_per_radian\n",
    "db = DBSCAN(eps=epsilon, min_samples=1, algorithm='ball_tree', metric='haversine')"
   ]
  },
  {
   "cell_type": "code",
   "execution_count": 63,
   "metadata": {},
   "outputs": [],
   "source": [
    "labels = db.fit_predict(np.radians(coords))"
   ]
  },
  {
   "cell_type": "code",
   "execution_count": 64,
   "metadata": {},
   "outputs": [
    {
     "data": {
      "text/plain": [
       "443"
      ]
     },
     "execution_count": 64,
     "metadata": {},
     "output_type": "execute_result"
    }
   ],
   "source": [
    "len(set(db.labels_))"
   ]
  },
  {
   "cell_type": "code",
   "execution_count": 65,
   "metadata": {},
   "outputs": [],
   "source": [
    "data['location_cluster'] = labels"
   ]
  },
  {
   "cell_type": "code",
   "execution_count": 66,
   "metadata": {},
   "outputs": [
    {
     "data": {
      "text/html": [
       "<div>\n",
       "<style scoped>\n",
       "    .dataframe tbody tr th:only-of-type {\n",
       "        vertical-align: middle;\n",
       "    }\n",
       "\n",
       "    .dataframe tbody tr th {\n",
       "        vertical-align: top;\n",
       "    }\n",
       "\n",
       "    .dataframe thead th {\n",
       "        text-align: right;\n",
       "    }\n",
       "</style>\n",
       "<table border=\"1\" class=\"dataframe\">\n",
       "  <thead>\n",
       "    <tr style=\"text-align: right;\">\n",
       "      <th></th>\n",
       "      <th>stars</th>\n",
       "      <th>business_id</th>\n",
       "      <th>name</th>\n",
       "      <th>neighborhood</th>\n",
       "      <th>city</th>\n",
       "      <th>state</th>\n",
       "      <th>postal_code</th>\n",
       "      <th>latitude</th>\n",
       "      <th>longitude</th>\n",
       "      <th>categories</th>\n",
       "      <th>review_count</th>\n",
       "      <th>mean_user_review_counts</th>\n",
       "      <th>mean_months_since_yelping</th>\n",
       "      <th>mean_user_fans</th>\n",
       "      <th>mean_total_compliments</th>\n",
       "      <th>location_cluster</th>\n",
       "    </tr>\n",
       "  </thead>\n",
       "  <tbody>\n",
       "    <tr>\n",
       "      <th>0</th>\n",
       "      <td>4.0</td>\n",
       "      <td>45bWSZtniwPRiqlivpS8Og</td>\n",
       "      <td>the coffee bean &amp; tea leaf</td>\n",
       "      <td>not_available</td>\n",
       "      <td>phoenix</td>\n",
       "      <td>AZ</td>\n",
       "      <td>85024</td>\n",
       "      <td>33.671375</td>\n",
       "      <td>-112.030017</td>\n",
       "      <td>coffee &amp; tea, food</td>\n",
       "      <td>1.799341</td>\n",
       "      <td>71.855422</td>\n",
       "      <td>79.254341</td>\n",
       "      <td>8.807229</td>\n",
       "      <td>77.325301</td>\n",
       "      <td>0</td>\n",
       "    </tr>\n",
       "    <tr>\n",
       "      <th>1</th>\n",
       "      <td>2.5</td>\n",
       "      <td>8-NRKkPY1UiFXW20WXKiXg</td>\n",
       "      <td>filiberto's mexican food</td>\n",
       "      <td>not_available</td>\n",
       "      <td>avondale</td>\n",
       "      <td>AZ</td>\n",
       "      <td>85323</td>\n",
       "      <td>33.448106</td>\n",
       "      <td>-112.341302</td>\n",
       "      <td>mexican, restaurants</td>\n",
       "      <td>1.602060</td>\n",
       "      <td>96.235294</td>\n",
       "      <td>82.525937</td>\n",
       "      <td>5.960784</td>\n",
       "      <td>58.196078</td>\n",
       "      <td>0</td>\n",
       "    </tr>\n",
       "    <tr>\n",
       "      <th>2</th>\n",
       "      <td>4.0</td>\n",
       "      <td>_c3ixq9jYKxhLUB0czi0ug</td>\n",
       "      <td>original hamburger works</td>\n",
       "      <td>not_available</td>\n",
       "      <td>phoenix</td>\n",
       "      <td>AZ</td>\n",
       "      <td>85007</td>\n",
       "      <td>33.479807</td>\n",
       "      <td>-112.091188</td>\n",
       "      <td>bars, sports bars, dive bars, burgers, nightli...</td>\n",
       "      <td>2.442480</td>\n",
       "      <td>107.390244</td>\n",
       "      <td>83.152809</td>\n",
       "      <td>9.634146</td>\n",
       "      <td>144.167683</td>\n",
       "      <td>0</td>\n",
       "    </tr>\n",
       "    <tr>\n",
       "      <th>3</th>\n",
       "      <td>3.0</td>\n",
       "      <td>gJ5xSt6147gkcZ9Es0WxlA</td>\n",
       "      <td>rally's hamburgers</td>\n",
       "      <td>central</td>\n",
       "      <td>cleveland</td>\n",
       "      <td>OH</td>\n",
       "      <td>44115</td>\n",
       "      <td>41.499989</td>\n",
       "      <td>-81.666375</td>\n",
       "      <td>fast food, burgers, restaurants</td>\n",
       "      <td>0.698970</td>\n",
       "      <td>25.166667</td>\n",
       "      <td>36.790327</td>\n",
       "      <td>0.833333</td>\n",
       "      <td>2.333333</td>\n",
       "      <td>1</td>\n",
       "    </tr>\n",
       "    <tr>\n",
       "      <th>4</th>\n",
       "      <td>2.5</td>\n",
       "      <td>3ByGQOVgds2YEu6kzl-XEQ</td>\n",
       "      <td>rib shop</td>\n",
       "      <td>not_available</td>\n",
       "      <td>phoenix</td>\n",
       "      <td>AZ</td>\n",
       "      <td>85033</td>\n",
       "      <td>33.495298</td>\n",
       "      <td>-112.236076</td>\n",
       "      <td>nightlife, bars, american (traditional), sport...</td>\n",
       "      <td>0.477121</td>\n",
       "      <td>159.750000</td>\n",
       "      <td>79.200507</td>\n",
       "      <td>28.250000</td>\n",
       "      <td>546.250000</td>\n",
       "      <td>0</td>\n",
       "    </tr>\n",
       "  </tbody>\n",
       "</table>\n",
       "</div>"
      ],
      "text/plain": [
       "   stars             business_id                        name   neighborhood  \\\n",
       "0    4.0  45bWSZtniwPRiqlivpS8Og  the coffee bean & tea leaf  not_available   \n",
       "1    2.5  8-NRKkPY1UiFXW20WXKiXg    filiberto's mexican food  not_available   \n",
       "2    4.0  _c3ixq9jYKxhLUB0czi0ug    original hamburger works  not_available   \n",
       "3    3.0  gJ5xSt6147gkcZ9Es0WxlA          rally's hamburgers        central   \n",
       "4    2.5  3ByGQOVgds2YEu6kzl-XEQ                    rib shop  not_available   \n",
       "\n",
       "        city state postal_code   latitude   longitude  \\\n",
       "0    phoenix    AZ       85024  33.671375 -112.030017   \n",
       "1   avondale    AZ       85323  33.448106 -112.341302   \n",
       "2    phoenix    AZ       85007  33.479807 -112.091188   \n",
       "3  cleveland    OH       44115  41.499989  -81.666375   \n",
       "4    phoenix    AZ       85033  33.495298 -112.236076   \n",
       "\n",
       "                                          categories  review_count  \\\n",
       "0                                 coffee & tea, food      1.799341   \n",
       "1                               mexican, restaurants      1.602060   \n",
       "2  bars, sports bars, dive bars, burgers, nightli...      2.442480   \n",
       "3                    fast food, burgers, restaurants      0.698970   \n",
       "4  nightlife, bars, american (traditional), sport...      0.477121   \n",
       "\n",
       "   mean_user_review_counts  mean_months_since_yelping  mean_user_fans  \\\n",
       "0                71.855422                  79.254341        8.807229   \n",
       "1                96.235294                  82.525937        5.960784   \n",
       "2               107.390244                  83.152809        9.634146   \n",
       "3                25.166667                  36.790327        0.833333   \n",
       "4               159.750000                  79.200507       28.250000   \n",
       "\n",
       "   mean_total_compliments  location_cluster  \n",
       "0               77.325301                 0  \n",
       "1               58.196078                 0  \n",
       "2              144.167683                 0  \n",
       "3                2.333333                 1  \n",
       "4              546.250000                 0  "
      ]
     },
     "execution_count": 66,
     "metadata": {},
     "output_type": "execute_result"
    }
   ],
   "source": [
    "data.head()"
   ]
  },
  {
   "cell_type": "code",
   "execution_count": 67,
   "metadata": {},
   "outputs": [
    {
     "data": {
      "text/plain": [
       "<matplotlib.axes._subplots.AxesSubplot at 0x1a22051080>"
      ]
     },
     "execution_count": 67,
     "metadata": {},
     "output_type": "execute_result"
    },
    {
     "data": {
      "image/png": "[encoded data removed]",
      "text/plain": [
       "<Figure size 432x288 with 1 Axes>"
      ]
     },
     "metadata": {},
     "output_type": "display_data"
    }
   ],
   "source": [
    "sns.scatterplot(x = \"longitude\", y = \"latitude\", hue=\"location_cluster\", data=data)"
   ]
  },
  {
   "cell_type": "code",
   "execution_count": 68,
   "metadata": {},
   "outputs": [],
   "source": [
    "# import plotly\n",
    "# plotly.offline.init_notebook_mode(connected=True)\n",
    "\n",
    "# import plotly.offline as py\n",
    "# data['text'] = data['name'] + '' + data['city'] + ', ' + data['state']\n",
    "\n",
    "# scl = [ [0,\"rgb(5, 10, 172)\"],[0.35,\"rgb(40, 60, 190)\"],[0.5,\"rgb(70, 100, 245)\"],\\\n",
    "#     [0.6,\"rgb(90, 120, 245)\"],[0.7,\"rgb(106, 137, 247)\"],[1,\"rgb(220, 220, 220)\"] ]\n",
    "\n",
    "# map_data = [ dict(\n",
    "#         type = 'scattergeo',\n",
    "#         locationmode = 'USA-states',\n",
    "#         lon = data['longitude'],\n",
    "#         lat = data['latitude'],\n",
    "#         text = data['text'],\n",
    "#         mode = 'markers',\n",
    "#         marker = dict(\n",
    "#             size = 8,\n",
    "#             opacity = 0.8,\n",
    "#             reversescale = True,\n",
    "#             autocolorscale = False,\n",
    "#             symbol = 'square',\n",
    "#             line = dict(\n",
    "#                 width=1,\n",
    "#                 color='rgba(102, 102, 102)'\n",
    "#             ),\n",
    "#             colorscale = scl,\n",
    "#             cmin = 0,\n",
    "#             color = data['location_cluster'],\n",
    "#             cmax = data['location_cluster'].max(),\n",
    "#             colorbar=dict(\n",
    "#                 title=\"Restaurants on Yelp\"\n",
    "#             )\n",
    "#         ))]\n",
    "\n",
    "# layout = dict(\n",
    "#         title = 'Restaurants on Yelp <br>(Hover for business names)',\n",
    "#         colorbar = True,\n",
    "#         geo = dict(\n",
    "#             scope='usa',\n",
    "#             projection=dict( type='albers usa' ),\n",
    "#             showland = True,\n",
    "#             landcolor = \"rgb(250, 250, 250)\",\n",
    "#             subunitcolor = \"rgb(217, 217, 217)\",\n",
    "#             countrycolor = \"rgb(217, 217, 217)\",\n",
    "#             countrywidth = 0.5,\n",
    "#             subunitwidth = 0.5\n",
    "#         ),\n",
    "#     )\n",
    "\n",
    "# fig = dict( data=map_data, layout=layout )\n",
    "# py.iplot( fig, validate=False)"
   ]
  },
  {
   "cell_type": "markdown",
   "metadata": {},
   "source": [
    "## Count of nearby restaurants with similar categories"
   ]
  },
  {
   "cell_type": "code",
   "execution_count": 69,
   "metadata": {},
   "outputs": [],
   "source": [
    "from sklearn.feature_extraction.text import TfidfVectorizer"
   ]
  },
  {
   "cell_type": "code",
   "execution_count": 70,
   "metadata": {},
   "outputs": [],
   "source": [
    "vect = TfidfVectorizer(analyzer='word', stop_words='english')"
   ]
  },
  {
   "cell_type": "code",
   "execution_count": 71,
   "metadata": {},
   "outputs": [],
   "source": [
    "from sklearn.metrics.pairwise import linear_kernel"
   ]
  },
  {
   "cell_type": "code",
   "execution_count": 72,
   "metadata": {},
   "outputs": [],
   "source": [
    "def count_similar(a):\n",
    "    sims = np.where(a>0.9)\n",
    "    return len(sims[0])"
   ]
  },
  {
   "cell_type": "code",
   "execution_count": 73,
   "metadata": {},
   "outputs": [],
   "source": [
    "def get_sim_counts(temp):\n",
    "    X = vect.fit_transform(temp.categories)\n",
    "    cosine_sim = linear_kernel(X)\n",
    "    sim_counts = np.apply_along_axis(count_similar, 1, cosine_sim)\n",
    "    return sim_counts"
   ]
  },
  {
   "cell_type": "code",
   "execution_count": 74,
   "metadata": {},
   "outputs": [],
   "source": [
    "for cluster in data.location_cluster.unique():\n",
    "    temp = data[data.location_cluster == cluster]\n",
    "    sim_counts = get_sim_counts(temp)\n",
    "    data.loc[data.business_id.isin(temp.business_id), 'sim_counts'] = sim_counts"
   ]
  },
  {
   "cell_type": "code",
   "execution_count": 75,
   "metadata": {},
   "outputs": [
    {
     "data": {
      "text/plain": [
       "count    31758.000000\n",
       "mean        36.612129\n",
       "std         75.727099\n",
       "min          1.000000\n",
       "25%          1.000000\n",
       "50%          4.000000\n",
       "75%         32.000000\n",
       "max        462.000000\n",
       "Name: sim_counts, dtype: float64"
      ]
     },
     "execution_count": 75,
     "metadata": {},
     "output_type": "execute_result"
    }
   ],
   "source": [
    "data.sim_counts.describe()"
   ]
  },
  {
   "cell_type": "code",
   "execution_count": 76,
   "metadata": {},
   "outputs": [
    {
     "data": {
      "text/plain": [
       "<matplotlib.axes._subplots.AxesSubplot at 0x1a22e10358>"
      ]
     },
     "execution_count": 76,
     "metadata": {},
     "output_type": "execute_result"
    },
    {
     "data": {
      "image/png": "[encoded data removed]",
      "text/plain": [
       "<Figure size 432x288 with 1 Axes>"
      ]
     },
     "metadata": {},
     "output_type": "display_data"
    }
   ],
   "source": [
    "sns.boxplot(x='stars', y='sim_counts', data=data)"
   ]
  },
  {
   "cell_type": "markdown",
   "metadata": {},
   "source": [
    "## Count of nearby restaurants with similar users visiting"
   ]
  },
  {
   "cell_type": "code",
   "execution_count": 77,
   "metadata": {},
   "outputs": [],
   "source": [
    "from sklearn.preprocessing import normalize"
   ]
  },
  {
   "cell_type": "code",
   "execution_count": 78,
   "metadata": {},
   "outputs": [],
   "source": [
    "def get_user_sim_counts(temp):\n",
    "    X = normalize(temp[['mean_user_review_counts', 'mean_months_since_yelping', 'mean_user_fans', 'mean_total_compliments']])\n",
    "    cosine_sim = linear_kernel(X)\n",
    "    user_sim_counts = np.apply_along_axis(count_similar, 1, cosine_sim)\n",
    "    return user_sim_counts"
   ]
  },
  {
   "cell_type": "code",
   "execution_count": 79,
   "metadata": {},
   "outputs": [],
   "source": [
    "for cluster in data.location_cluster.unique():\n",
    "    temp = data[data.location_cluster == cluster]\n",
    "    user_sim_counts = get_user_sim_counts(temp)\n",
    "    data.loc[data.business_id.isin(temp.business_id), 'user_sim_counts'] = user_sim_counts"
   ]
  },
  {
   "cell_type": "code",
   "execution_count": 80,
   "metadata": {},
   "outputs": [
    {
     "data": {
      "text/plain": [
       "count    31758.000000\n",
       "mean      2357.387430\n",
       "std       1712.469461\n",
       "min          1.000000\n",
       "25%        847.000000\n",
       "50%       1960.000000\n",
       "75%       4141.000000\n",
       "max       5235.000000\n",
       "Name: user_sim_counts, dtype: float64"
      ]
     },
     "execution_count": 80,
     "metadata": {},
     "output_type": "execute_result"
    }
   ],
   "source": [
    "data.user_sim_counts.describe()"
   ]
  },
  {
   "cell_type": "code",
   "execution_count": 81,
   "metadata": {},
   "outputs": [
    {
     "data": {
      "text/plain": [
       "<matplotlib.axes._subplots.AxesSubplot at 0x1a22e62dd8>"
      ]
     },
     "execution_count": 81,
     "metadata": {},
     "output_type": "execute_result"
    },
    {
     "data": {
      "image/png": "[encoded data removed]",
      "text/plain": [
       "<Figure size 432x288 with 1 Axes>"
      ]
     },
     "metadata": {},
     "output_type": "display_data"
    }
   ],
   "source": [
    "sns.boxplot(x='stars', y='user_sim_counts', data=data)"
   ]
  },
  {
   "cell_type": "markdown",
   "metadata": {},
   "source": [
    "## Transforming Categorical to Dummies"
   ]
  },
  {
   "cell_type": "code",
   "execution_count": 82,
   "metadata": {},
   "outputs": [],
   "source": [
    "data = pd.get_dummies(data, columns=['neighborhood', 'city', 'state', 'postal_code'])"
   ]
  },
  {
   "cell_type": "code",
   "execution_count": 83,
   "metadata": {},
   "outputs": [
    {
     "data": {
      "text/html": [
       "<div>\n",
       "<style scoped>\n",
       "    .dataframe tbody tr th:only-of-type {\n",
       "        vertical-align: middle;\n",
       "    }\n",
       "\n",
       "    .dataframe tbody tr th {\n",
       "        vertical-align: top;\n",
       "    }\n",
       "\n",
       "    .dataframe thead th {\n",
       "        text-align: right;\n",
       "    }\n",
       "</style>\n",
       "<table border=\"1\" class=\"dataframe\">\n",
       "  <thead>\n",
       "    <tr style=\"text-align: right;\">\n",
       "      <th></th>\n",
       "      <th>stars</th>\n",
       "      <th>business_id</th>\n",
       "      <th>name</th>\n",
       "      <th>latitude</th>\n",
       "      <th>longitude</th>\n",
       "      <th>categories</th>\n",
       "      <th>review_count</th>\n",
       "      <th>mean_user_review_counts</th>\n",
       "      <th>mean_months_since_yelping</th>\n",
       "      <th>mean_user_fans</th>\n",
       "      <th>...</th>\n",
       "      <th>postal_code_89166</th>\n",
       "      <th>postal_code_89169</th>\n",
       "      <th>postal_code_89178</th>\n",
       "      <th>postal_code_89179</th>\n",
       "      <th>postal_code_89183</th>\n",
       "      <th>postal_code_89191</th>\n",
       "      <th>postal_code_89502</th>\n",
       "      <th>postal_code_93013</th>\n",
       "      <th>postal_code_97535</th>\n",
       "      <th>postal_code_not_available</th>\n",
       "    </tr>\n",
       "  </thead>\n",
       "  <tbody>\n",
       "    <tr>\n",
       "      <th>0</th>\n",
       "      <td>4.0</td>\n",
       "      <td>45bWSZtniwPRiqlivpS8Og</td>\n",
       "      <td>the coffee bean &amp; tea leaf</td>\n",
       "      <td>33.671375</td>\n",
       "      <td>-112.030017</td>\n",
       "      <td>coffee &amp; tea, food</td>\n",
       "      <td>1.799341</td>\n",
       "      <td>71.855422</td>\n",
       "      <td>79.254341</td>\n",
       "      <td>8.807229</td>\n",
       "      <td>...</td>\n",
       "      <td>0</td>\n",
       "      <td>0</td>\n",
       "      <td>0</td>\n",
       "      <td>0</td>\n",
       "      <td>0</td>\n",
       "      <td>0</td>\n",
       "      <td>0</td>\n",
       "      <td>0</td>\n",
       "      <td>0</td>\n",
       "      <td>0</td>\n",
       "    </tr>\n",
       "    <tr>\n",
       "      <th>1</th>\n",
       "      <td>2.5</td>\n",
       "      <td>8-NRKkPY1UiFXW20WXKiXg</td>\n",
       "      <td>filiberto's mexican food</td>\n",
       "      <td>33.448106</td>\n",
       "      <td>-112.341302</td>\n",
       "      <td>mexican, restaurants</td>\n",
       "      <td>1.602060</td>\n",
       "      <td>96.235294</td>\n",
       "      <td>82.525937</td>\n",
       "      <td>5.960784</td>\n",
       "      <td>...</td>\n",
       "      <td>0</td>\n",
       "      <td>0</td>\n",
       "      <td>0</td>\n",
       "      <td>0</td>\n",
       "      <td>0</td>\n",
       "      <td>0</td>\n",
       "      <td>0</td>\n",
       "      <td>0</td>\n",
       "      <td>0</td>\n",
       "      <td>0</td>\n",
       "    </tr>\n",
       "    <tr>\n",
       "      <th>2</th>\n",
       "      <td>4.0</td>\n",
       "      <td>_c3ixq9jYKxhLUB0czi0ug</td>\n",
       "      <td>original hamburger works</td>\n",
       "      <td>33.479807</td>\n",
       "      <td>-112.091188</td>\n",
       "      <td>bars, sports bars, dive bars, burgers, nightli...</td>\n",
       "      <td>2.442480</td>\n",
       "      <td>107.390244</td>\n",
       "      <td>83.152809</td>\n",
       "      <td>9.634146</td>\n",
       "      <td>...</td>\n",
       "      <td>0</td>\n",
       "      <td>0</td>\n",
       "      <td>0</td>\n",
       "      <td>0</td>\n",
       "      <td>0</td>\n",
       "      <td>0</td>\n",
       "      <td>0</td>\n",
       "      <td>0</td>\n",
       "      <td>0</td>\n",
       "      <td>0</td>\n",
       "    </tr>\n",
       "    <tr>\n",
       "      <th>3</th>\n",
       "      <td>3.0</td>\n",
       "      <td>gJ5xSt6147gkcZ9Es0WxlA</td>\n",
       "      <td>rally's hamburgers</td>\n",
       "      <td>41.499989</td>\n",
       "      <td>-81.666375</td>\n",
       "      <td>fast food, burgers, restaurants</td>\n",
       "      <td>0.698970</td>\n",
       "      <td>25.166667</td>\n",
       "      <td>36.790327</td>\n",
       "      <td>0.833333</td>\n",
       "      <td>...</td>\n",
       "      <td>0</td>\n",
       "      <td>0</td>\n",
       "      <td>0</td>\n",
       "      <td>0</td>\n",
       "      <td>0</td>\n",
       "      <td>0</td>\n",
       "      <td>0</td>\n",
       "      <td>0</td>\n",
       "      <td>0</td>\n",
       "      <td>0</td>\n",
       "    </tr>\n",
       "    <tr>\n",
       "      <th>4</th>\n",
       "      <td>2.5</td>\n",
       "      <td>3ByGQOVgds2YEu6kzl-XEQ</td>\n",
       "      <td>rib shop</td>\n",
       "      <td>33.495298</td>\n",
       "      <td>-112.236076</td>\n",
       "      <td>nightlife, bars, american (traditional), sport...</td>\n",
       "      <td>0.477121</td>\n",
       "      <td>159.750000</td>\n",
       "      <td>79.200507</td>\n",
       "      <td>28.250000</td>\n",
       "      <td>...</td>\n",
       "      <td>0</td>\n",
       "      <td>0</td>\n",
       "      <td>0</td>\n",
       "      <td>0</td>\n",
       "      <td>0</td>\n",
       "      <td>0</td>\n",
       "      <td>0</td>\n",
       "      <td>0</td>\n",
       "      <td>0</td>\n",
       "      <td>0</td>\n",
       "    </tr>\n",
       "  </tbody>\n",
       "</table>\n",
       "<p>5 rows × 1141 columns</p>\n",
       "</div>"
      ],
      "text/plain": [
       "   stars             business_id                        name   latitude  \\\n",
       "0    4.0  45bWSZtniwPRiqlivpS8Og  the coffee bean & tea leaf  33.671375   \n",
       "1    2.5  8-NRKkPY1UiFXW20WXKiXg    filiberto's mexican food  33.448106   \n",
       "2    4.0  _c3ixq9jYKxhLUB0czi0ug    original hamburger works  33.479807   \n",
       "3    3.0  gJ5xSt6147gkcZ9Es0WxlA          rally's hamburgers  41.499989   \n",
       "4    2.5  3ByGQOVgds2YEu6kzl-XEQ                    rib shop  33.495298   \n",
       "\n",
       "    longitude                                         categories  \\\n",
       "0 -112.030017                                 coffee & tea, food   \n",
       "1 -112.341302                               mexican, restaurants   \n",
       "2 -112.091188  bars, sports bars, dive bars, burgers, nightli...   \n",
       "3  -81.666375                    fast food, burgers, restaurants   \n",
       "4 -112.236076  nightlife, bars, american (traditional), sport...   \n",
       "\n",
       "   review_count  mean_user_review_counts  mean_months_since_yelping  \\\n",
       "0      1.799341                71.855422                  79.254341   \n",
       "1      1.602060                96.235294                  82.525937   \n",
       "2      2.442480               107.390244                  83.152809   \n",
       "3      0.698970                25.166667                  36.790327   \n",
       "4      0.477121               159.750000                  79.200507   \n",
       "\n",
       "   mean_user_fans            ...              postal_code_89166  \\\n",
       "0        8.807229            ...                              0   \n",
       "1        5.960784            ...                              0   \n",
       "2        9.634146            ...                              0   \n",
       "3        0.833333            ...                              0   \n",
       "4       28.250000            ...                              0   \n",
       "\n",
       "   postal_code_89169  postal_code_89178  postal_code_89179  postal_code_89183  \\\n",
       "0                  0                  0                  0                  0   \n",
       "1                  0                  0                  0                  0   \n",
       "2                  0                  0                  0                  0   \n",
       "3                  0                  0                  0                  0   \n",
       "4                  0                  0                  0                  0   \n",
       "\n",
       "   postal_code_89191  postal_code_89502  postal_code_93013  postal_code_97535  \\\n",
       "0                  0                  0                  0                  0   \n",
       "1                  0                  0                  0                  0   \n",
       "2                  0                  0                  0                  0   \n",
       "3                  0                  0                  0                  0   \n",
       "4                  0                  0                  0                  0   \n",
       "\n",
       "   postal_code_not_available  \n",
       "0                          0  \n",
       "1                          0  \n",
       "2                          0  \n",
       "3                          0  \n",
       "4                          0  \n",
       "\n",
       "[5 rows x 1141 columns]"
      ]
     },
     "execution_count": 83,
     "metadata": {},
     "output_type": "execute_result"
    }
   ],
   "source": [
    "data.head()"
   ]
  },
  {
   "cell_type": "markdown",
   "metadata": {},
   "source": [
    "# Exporting transformed data for Modelling"
   ]
  },
  {
   "cell_type": "code",
   "execution_count": 84,
   "metadata": {},
   "outputs": [
    {
     "data": {
      "text/html": [
       "<div>\n",
       "<style scoped>\n",
       "    .dataframe tbody tr th:only-of-type {\n",
       "        vertical-align: middle;\n",
       "    }\n",
       "\n",
       "    .dataframe tbody tr th {\n",
       "        vertical-align: top;\n",
       "    }\n",
       "\n",
       "    .dataframe thead th {\n",
       "        text-align: right;\n",
       "    }\n",
       "</style>\n",
       "<table border=\"1\" class=\"dataframe\">\n",
       "  <thead>\n",
       "    <tr style=\"text-align: right;\">\n",
       "      <th></th>\n",
       "      <th>stars</th>\n",
       "      <th>business_id</th>\n",
       "      <th>name</th>\n",
       "      <th>latitude</th>\n",
       "      <th>longitude</th>\n",
       "      <th>categories</th>\n",
       "      <th>review_count</th>\n",
       "      <th>mean_user_review_counts</th>\n",
       "      <th>mean_months_since_yelping</th>\n",
       "      <th>mean_user_fans</th>\n",
       "      <th>...</th>\n",
       "      <th>postal_code_89166</th>\n",
       "      <th>postal_code_89169</th>\n",
       "      <th>postal_code_89178</th>\n",
       "      <th>postal_code_89179</th>\n",
       "      <th>postal_code_89183</th>\n",
       "      <th>postal_code_89191</th>\n",
       "      <th>postal_code_89502</th>\n",
       "      <th>postal_code_93013</th>\n",
       "      <th>postal_code_97535</th>\n",
       "      <th>postal_code_not_available</th>\n",
       "    </tr>\n",
       "  </thead>\n",
       "  <tbody>\n",
       "    <tr>\n",
       "      <th>0</th>\n",
       "      <td>4.0</td>\n",
       "      <td>45bWSZtniwPRiqlivpS8Og</td>\n",
       "      <td>the coffee bean &amp; tea leaf</td>\n",
       "      <td>33.671375</td>\n",
       "      <td>-112.030017</td>\n",
       "      <td>coffee &amp; tea, food</td>\n",
       "      <td>1.799341</td>\n",
       "      <td>71.855422</td>\n",
       "      <td>79.254341</td>\n",
       "      <td>8.807229</td>\n",
       "      <td>...</td>\n",
       "      <td>0</td>\n",
       "      <td>0</td>\n",
       "      <td>0</td>\n",
       "      <td>0</td>\n",
       "      <td>0</td>\n",
       "      <td>0</td>\n",
       "      <td>0</td>\n",
       "      <td>0</td>\n",
       "      <td>0</td>\n",
       "      <td>0</td>\n",
       "    </tr>\n",
       "    <tr>\n",
       "      <th>1</th>\n",
       "      <td>2.5</td>\n",
       "      <td>8-NRKkPY1UiFXW20WXKiXg</td>\n",
       "      <td>filiberto's mexican food</td>\n",
       "      <td>33.448106</td>\n",
       "      <td>-112.341302</td>\n",
       "      <td>mexican, restaurants</td>\n",
       "      <td>1.602060</td>\n",
       "      <td>96.235294</td>\n",
       "      <td>82.525937</td>\n",
       "      <td>5.960784</td>\n",
       "      <td>...</td>\n",
       "      <td>0</td>\n",
       "      <td>0</td>\n",
       "      <td>0</td>\n",
       "      <td>0</td>\n",
       "      <td>0</td>\n",
       "      <td>0</td>\n",
       "      <td>0</td>\n",
       "      <td>0</td>\n",
       "      <td>0</td>\n",
       "      <td>0</td>\n",
       "    </tr>\n",
       "    <tr>\n",
       "      <th>2</th>\n",
       "      <td>4.0</td>\n",
       "      <td>_c3ixq9jYKxhLUB0czi0ug</td>\n",
       "      <td>original hamburger works</td>\n",
       "      <td>33.479807</td>\n",
       "      <td>-112.091188</td>\n",
       "      <td>bars, sports bars, dive bars, burgers, nightli...</td>\n",
       "      <td>2.442480</td>\n",
       "      <td>107.390244</td>\n",
       "      <td>83.152809</td>\n",
       "      <td>9.634146</td>\n",
       "      <td>...</td>\n",
       "      <td>0</td>\n",
       "      <td>0</td>\n",
       "      <td>0</td>\n",
       "      <td>0</td>\n",
       "      <td>0</td>\n",
       "      <td>0</td>\n",
       "      <td>0</td>\n",
       "      <td>0</td>\n",
       "      <td>0</td>\n",
       "      <td>0</td>\n",
       "    </tr>\n",
       "    <tr>\n",
       "      <th>3</th>\n",
       "      <td>3.0</td>\n",
       "      <td>gJ5xSt6147gkcZ9Es0WxlA</td>\n",
       "      <td>rally's hamburgers</td>\n",
       "      <td>41.499989</td>\n",
       "      <td>-81.666375</td>\n",
       "      <td>fast food, burgers, restaurants</td>\n",
       "      <td>0.698970</td>\n",
       "      <td>25.166667</td>\n",
       "      <td>36.790327</td>\n",
       "      <td>0.833333</td>\n",
       "      <td>...</td>\n",
       "      <td>0</td>\n",
       "      <td>0</td>\n",
       "      <td>0</td>\n",
       "      <td>0</td>\n",
       "      <td>0</td>\n",
       "      <td>0</td>\n",
       "      <td>0</td>\n",
       "      <td>0</td>\n",
       "      <td>0</td>\n",
       "      <td>0</td>\n",
       "    </tr>\n",
       "    <tr>\n",
       "      <th>4</th>\n",
       "      <td>2.5</td>\n",
       "      <td>3ByGQOVgds2YEu6kzl-XEQ</td>\n",
       "      <td>rib shop</td>\n",
       "      <td>33.495298</td>\n",
       "      <td>-112.236076</td>\n",
       "      <td>nightlife, bars, american (traditional), sport...</td>\n",
       "      <td>0.477121</td>\n",
       "      <td>159.750000</td>\n",
       "      <td>79.200507</td>\n",
       "      <td>28.250000</td>\n",
       "      <td>...</td>\n",
       "      <td>0</td>\n",
       "      <td>0</td>\n",
       "      <td>0</td>\n",
       "      <td>0</td>\n",
       "      <td>0</td>\n",
       "      <td>0</td>\n",
       "      <td>0</td>\n",
       "      <td>0</td>\n",
       "      <td>0</td>\n",
       "      <td>0</td>\n",
       "    </tr>\n",
       "  </tbody>\n",
       "</table>\n",
       "<p>5 rows × 1141 columns</p>\n",
       "</div>"
      ],
      "text/plain": [
       "   stars             business_id                        name   latitude  \\\n",
       "0    4.0  45bWSZtniwPRiqlivpS8Og  the coffee bean & tea leaf  33.671375   \n",
       "1    2.5  8-NRKkPY1UiFXW20WXKiXg    filiberto's mexican food  33.448106   \n",
       "2    4.0  _c3ixq9jYKxhLUB0czi0ug    original hamburger works  33.479807   \n",
       "3    3.0  gJ5xSt6147gkcZ9Es0WxlA          rally's hamburgers  41.499989   \n",
       "4    2.5  3ByGQOVgds2YEu6kzl-XEQ                    rib shop  33.495298   \n",
       "\n",
       "    longitude                                         categories  \\\n",
       "0 -112.030017                                 coffee & tea, food   \n",
       "1 -112.341302                               mexican, restaurants   \n",
       "2 -112.091188  bars, sports bars, dive bars, burgers, nightli...   \n",
       "3  -81.666375                    fast food, burgers, restaurants   \n",
       "4 -112.236076  nightlife, bars, american (traditional), sport...   \n",
       "\n",
       "   review_count  mean_user_review_counts  mean_months_since_yelping  \\\n",
       "0      1.799341                71.855422                  79.254341   \n",
       "1      1.602060                96.235294                  82.525937   \n",
       "2      2.442480               107.390244                  83.152809   \n",
       "3      0.698970                25.166667                  36.790327   \n",
       "4      0.477121               159.750000                  79.200507   \n",
       "\n",
       "   mean_user_fans            ...              postal_code_89166  \\\n",
       "0        8.807229            ...                              0   \n",
       "1        5.960784            ...                              0   \n",
       "2        9.634146            ...                              0   \n",
       "3        0.833333            ...                              0   \n",
       "4       28.250000            ...                              0   \n",
       "\n",
       "   postal_code_89169  postal_code_89178  postal_code_89179  postal_code_89183  \\\n",
       "0                  0                  0                  0                  0   \n",
       "1                  0                  0                  0                  0   \n",
       "2                  0                  0                  0                  0   \n",
       "3                  0                  0                  0                  0   \n",
       "4                  0                  0                  0                  0   \n",
       "\n",
       "   postal_code_89191  postal_code_89502  postal_code_93013  postal_code_97535  \\\n",
       "0                  0                  0                  0                  0   \n",
       "1                  0                  0                  0                  0   \n",
       "2                  0                  0                  0                  0   \n",
       "3                  0                  0                  0                  0   \n",
       "4                  0                  0                  0                  0   \n",
       "\n",
       "   postal_code_not_available  \n",
       "0                          0  \n",
       "1                          0  \n",
       "2                          0  \n",
       "3                          0  \n",
       "4                          0  \n",
       "\n",
       "[5 rows x 1141 columns]"
      ]
     },
     "execution_count": 84,
     "metadata": {},
     "output_type": "execute_result"
    }
   ],
   "source": [
    "data.head()"
   ]
  },
  {
   "cell_type": "code",
   "execution_count": 85,
   "metadata": {},
   "outputs": [
    {
     "name": "stdout",
     "output_type": "stream",
     "text": [
      "<class 'pandas.core.frame.DataFrame'>\n",
      "RangeIndex: 31758 entries, 0 to 31757\n",
      "Columns: 1141 entries, stars to postal_code_not_available\n",
      "dtypes: float64(10), int64(1), object(3), uint8(1127)\n",
      "memory usage: 37.5+ MB\n"
     ]
    }
   ],
   "source": [
    "data.info()"
   ]
  },
  {
   "cell_type": "code",
   "execution_count": 86,
   "metadata": {},
   "outputs": [],
   "source": [
    "data.stars = (data.stars * 2).astype(np.int)"
   ]
  },
  {
   "cell_type": "code",
   "execution_count": 87,
   "metadata": {},
   "outputs": [
    {
     "data": {
      "text/plain": [
       "8     7600\n",
       "7     6719\n",
       "6     4924\n",
       "9     4588\n",
       "5     3265\n",
       "4     2008\n",
       "10    1577\n",
       "3      815\n",
       "2      262\n",
       "Name: stars, dtype: int64"
      ]
     },
     "execution_count": 87,
     "metadata": {},
     "output_type": "execute_result"
    }
   ],
   "source": [
    "data.stars.value_counts()"
   ]
  },
  {
   "cell_type": "code",
   "execution_count": 88,
   "metadata": {},
   "outputs": [
    {
     "name": "stdout",
     "output_type": "stream",
     "text": [
      "<class 'pandas.core.frame.DataFrame'>\n",
      "RangeIndex: 31758 entries, 0 to 31757\n",
      "Columns: 1141 entries, stars to postal_code_not_available\n",
      "dtypes: float64(9), int64(2), object(3), uint8(1127)\n",
      "memory usage: 37.5+ MB\n"
     ]
    }
   ],
   "source": [
    "data.info()"
   ]
  },
  {
   "cell_type": "code",
   "execution_count": 89,
   "metadata": {},
   "outputs": [
    {
     "data": {
      "text/html": [
       "<div>\n",
       "<style scoped>\n",
       "    .dataframe tbody tr th:only-of-type {\n",
       "        vertical-align: middle;\n",
       "    }\n",
       "\n",
       "    .dataframe tbody tr th {\n",
       "        vertical-align: top;\n",
       "    }\n",
       "\n",
       "    .dataframe thead th {\n",
       "        text-align: right;\n",
       "    }\n",
       "</style>\n",
       "<table border=\"1\" class=\"dataframe\">\n",
       "  <thead>\n",
       "    <tr style=\"text-align: right;\">\n",
       "      <th></th>\n",
       "      <th>business_id</th>\n",
       "      <th>name</th>\n",
       "      <th>categories</th>\n",
       "    </tr>\n",
       "  </thead>\n",
       "  <tbody>\n",
       "    <tr>\n",
       "      <th>0</th>\n",
       "      <td>45bWSZtniwPRiqlivpS8Og</td>\n",
       "      <td>the coffee bean &amp; tea leaf</td>\n",
       "      <td>coffee &amp; tea, food</td>\n",
       "    </tr>\n",
       "    <tr>\n",
       "      <th>1</th>\n",
       "      <td>8-NRKkPY1UiFXW20WXKiXg</td>\n",
       "      <td>filiberto's mexican food</td>\n",
       "      <td>mexican, restaurants</td>\n",
       "    </tr>\n",
       "    <tr>\n",
       "      <th>2</th>\n",
       "      <td>_c3ixq9jYKxhLUB0czi0ug</td>\n",
       "      <td>original hamburger works</td>\n",
       "      <td>bars, sports bars, dive bars, burgers, nightli...</td>\n",
       "    </tr>\n",
       "    <tr>\n",
       "      <th>3</th>\n",
       "      <td>gJ5xSt6147gkcZ9Es0WxlA</td>\n",
       "      <td>rally's hamburgers</td>\n",
       "      <td>fast food, burgers, restaurants</td>\n",
       "    </tr>\n",
       "    <tr>\n",
       "      <th>4</th>\n",
       "      <td>3ByGQOVgds2YEu6kzl-XEQ</td>\n",
       "      <td>rib shop</td>\n",
       "      <td>nightlife, bars, american (traditional), sport...</td>\n",
       "    </tr>\n",
       "  </tbody>\n",
       "</table>\n",
       "</div>"
      ],
      "text/plain": [
       "              business_id                        name  \\\n",
       "0  45bWSZtniwPRiqlivpS8Og  the coffee bean & tea leaf   \n",
       "1  8-NRKkPY1UiFXW20WXKiXg    filiberto's mexican food   \n",
       "2  _c3ixq9jYKxhLUB0czi0ug    original hamburger works   \n",
       "3  gJ5xSt6147gkcZ9Es0WxlA          rally's hamburgers   \n",
       "4  3ByGQOVgds2YEu6kzl-XEQ                    rib shop   \n",
       "\n",
       "                                          categories  \n",
       "0                                 coffee & tea, food  \n",
       "1                               mexican, restaurants  \n",
       "2  bars, sports bars, dive bars, burgers, nightli...  \n",
       "3                    fast food, burgers, restaurants  \n",
       "4  nightlife, bars, american (traditional), sport...  "
      ]
     },
     "execution_count": 89,
     "metadata": {},
     "output_type": "execute_result"
    }
   ],
   "source": [
    "data.select_dtypes(include='object').head()"
   ]
  },
  {
   "cell_type": "code",
   "execution_count": 90,
   "metadata": {},
   "outputs": [],
   "source": [
    "from scipy.sparse import csr_matrix, save_npz"
   ]
  },
  {
   "cell_type": "code",
   "execution_count": 91,
   "metadata": {},
   "outputs": [],
   "source": [
    "csr = csr_matrix(data.drop(['name','business_id', 'categories','stars'], axis=1).values)"
   ]
  },
  {
   "cell_type": "code",
   "execution_count": 92,
   "metadata": {},
   "outputs": [],
   "source": [
    "save_npz(matrix=csr, file='1.4-sm-feature-engineered-location.npz')"
   ]
  },
  {
   "cell_type": "code",
   "execution_count": 93,
   "metadata": {},
   "outputs": [],
   "source": [
    "data.stars.to_csv('1.4-sm-feature-engineered-location-labels.csv', index=False, header=True)"
   ]
  },
  {
   "cell_type": "code",
   "execution_count": 94,
   "metadata": {},
   "outputs": [],
   "source": [
    "data.drop(['name','business_id', 'categories','stars'], axis=1).to_csv('1.4-sm-feature-engineered-location.csv', index=False)"
   ]
  },
  {
   "cell_type": "code",
   "execution_count": null,
   "metadata": {},
   "outputs": [],
   "source": []
  }
 ],
 "metadata": {
  "kernelspec": {
   "display_name": "Python 3",
   "language": "python",
   "name": "python3"
  },
  "language_info": {
   "codemirror_mode": {
    "name": "ipython",
    "version": 3
   },
   "file_extension": ".py",
   "mimetype": "text/x-python",
   "name": "python",
   "nbconvert_exporter": "python",
   "pygments_lexer": "ipython3",
   "version": "3.6.5"
  }
 },
 "nbformat": 4,
 "nbformat_minor": 2
}
