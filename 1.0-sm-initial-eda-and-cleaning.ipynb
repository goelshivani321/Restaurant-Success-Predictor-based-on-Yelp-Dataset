{
 "cells": [
  {
   "cell_type": "code",
   "execution_count": 24,
   "metadata": {},
   "outputs": [],
   "source": [
    "import numpy as np\n",
    "import pandas as pd\n",
    "\n",
    "import matplotlib.pyplot as plt\n",
    "\n",
    "import seaborn as sns\n",
    "sns.set(style=\"whitegrid\")\n",
    "import os.path"
   ]
  },
  {
   "cell_type": "code",
   "execution_count": 25,
   "metadata": {},
   "outputs": [
    {
     "name": "stdout",
     "output_type": "stream",
     "text": [
      "RUNNING - Initial EDA and Cleaning.\n",
      "This script will run the initial cleaning and exploratory analysis \n",
      "and generate the following files - \n",
      "1. Plots for various analyses (png)\n",
      "2. Final cleaned data files (csv)\n"
     ]
    }
   ],
   "source": [
    "comment = \"\"\"RUNNING - Initial EDA and Cleaning.\n",
    "This script will run the initial cleaning and exploratory analysis \n",
    "and generate the following files - \n",
    "1. Plots for various analyses (png)\n",
    "2. Final cleaned data files (csv)\"\"\"\n",
    "print(comment)\n",
    "from time import sleep\n",
    "sleep(5)"
   ]
  },
  {
   "cell_type": "markdown",
   "metadata": {},
   "source": [
    "# Obtain Data"
   ]
  },
  {
   "cell_type": "code",
   "execution_count": 26,
   "metadata": {},
   "outputs": [],
   "source": [
    "fpath = 'yelp_academic_dataset_business.csv'\n",
    "business = pd.read_csv(fpath)"
   ]
  },
  {
   "cell_type": "code",
   "execution_count": 27,
   "metadata": {},
   "outputs": [
    {
     "data": {
      "text/html": [
       "<div>\n",
       "<style scoped>\n",
       "    .dataframe tbody tr th:only-of-type {\n",
       "        vertical-align: middle;\n",
       "    }\n",
       "\n",
       "    .dataframe tbody tr th {\n",
       "        vertical-align: top;\n",
       "    }\n",
       "\n",
       "    .dataframe thead th {\n",
       "        text-align: right;\n",
       "    }\n",
       "</style>\n",
       "<table border=\"1\" class=\"dataframe\">\n",
       "  <thead>\n",
       "    <tr style=\"text-align: right;\">\n",
       "      <th></th>\n",
       "      <th>is_open</th>\n",
       "      <th>hours.Monday</th>\n",
       "      <th>attributes.BusinessAcceptsCreditCards</th>\n",
       "      <th>hours.Tuesday</th>\n",
       "      <th>attributes.HappyHour</th>\n",
       "      <th>attributes.Ambience</th>\n",
       "      <th>attributes.NoiseLevel</th>\n",
       "      <th>hours.Wednesday</th>\n",
       "      <th>attributes.GoodForKids</th>\n",
       "      <th>attributes.AgesAllowed</th>\n",
       "      <th>...</th>\n",
       "      <th>attributes.WheelchairAccessible</th>\n",
       "      <th>attributes.RestaurantsGoodForGroups</th>\n",
       "      <th>attributes.Smoking</th>\n",
       "      <th>attributes.CoatCheck</th>\n",
       "      <th>hours.Saturday</th>\n",
       "      <th>review_count</th>\n",
       "      <th>hours.Thursday</th>\n",
       "      <th>state</th>\n",
       "      <th>hours</th>\n",
       "      <th>attributes.RestaurantsAttire</th>\n",
       "    </tr>\n",
       "  </thead>\n",
       "  <tbody>\n",
       "    <tr>\n",
       "      <th>0</th>\n",
       "      <td>1</td>\n",
       "      <td>8:30-17:0</td>\n",
       "      <td>True</td>\n",
       "      <td>11:0-21:0</td>\n",
       "      <td>NaN</td>\n",
       "      <td>NaN</td>\n",
       "      <td>average</td>\n",
       "      <td>11:0-21:0</td>\n",
       "      <td>True</td>\n",
       "      <td>NaN</td>\n",
       "      <td>...</td>\n",
       "      <td>NaN</td>\n",
       "      <td>True</td>\n",
       "      <td>NaN</td>\n",
       "      <td>NaN</td>\n",
       "      <td>11:0-21:0</td>\n",
       "      <td>24</td>\n",
       "      <td>11:0-21:0</td>\n",
       "      <td>AB</td>\n",
       "      <td>{'Monday': '8:30-17:0', 'Tuesday': '11:0-21:0'...</td>\n",
       "      <td>casual</td>\n",
       "    </tr>\n",
       "    <tr>\n",
       "      <th>1</th>\n",
       "      <td>0</td>\n",
       "      <td>NaN</td>\n",
       "      <td>True</td>\n",
       "      <td>NaN</td>\n",
       "      <td>NaN</td>\n",
       "      <td>NaN</td>\n",
       "      <td>NaN</td>\n",
       "      <td>NaN</td>\n",
       "      <td>True</td>\n",
       "      <td>NaN</td>\n",
       "      <td>...</td>\n",
       "      <td>True</td>\n",
       "      <td>True</td>\n",
       "      <td>NaN</td>\n",
       "      <td>NaN</td>\n",
       "      <td>17:0-23:0</td>\n",
       "      <td>3</td>\n",
       "      <td>NaN</td>\n",
       "      <td>NV</td>\n",
       "      <td>{'Friday': '17:0-23:0', 'Saturday': '17:0-23:0...</td>\n",
       "      <td>casual</td>\n",
       "    </tr>\n",
       "    <tr>\n",
       "      <th>2</th>\n",
       "      <td>0</td>\n",
       "      <td>10:0-22:0</td>\n",
       "      <td>False</td>\n",
       "      <td>10:0-22:0</td>\n",
       "      <td>NaN</td>\n",
       "      <td>{'romantic': False, 'intimate': False, 'classy...</td>\n",
       "      <td>average</td>\n",
       "      <td>10:0-22:0</td>\n",
       "      <td>True</td>\n",
       "      <td>NaN</td>\n",
       "      <td>...</td>\n",
       "      <td>NaN</td>\n",
       "      <td>True</td>\n",
       "      <td>NaN</td>\n",
       "      <td>NaN</td>\n",
       "      <td>10:0-22:0</td>\n",
       "      <td>5</td>\n",
       "      <td>10:0-22:0</td>\n",
       "      <td>QC</td>\n",
       "      <td>{'Monday': '10:0-22:0', 'Tuesday': '10:0-22:0'...</td>\n",
       "      <td>casual</td>\n",
       "    </tr>\n",
       "    <tr>\n",
       "      <th>3</th>\n",
       "      <td>1</td>\n",
       "      <td>NaN</td>\n",
       "      <td>NaN</td>\n",
       "      <td>NaN</td>\n",
       "      <td>NaN</td>\n",
       "      <td>NaN</td>\n",
       "      <td>NaN</td>\n",
       "      <td>NaN</td>\n",
       "      <td>NaN</td>\n",
       "      <td>NaN</td>\n",
       "      <td>...</td>\n",
       "      <td>NaN</td>\n",
       "      <td>NaN</td>\n",
       "      <td>NaN</td>\n",
       "      <td>NaN</td>\n",
       "      <td>NaN</td>\n",
       "      <td>8</td>\n",
       "      <td>NaN</td>\n",
       "      <td>AZ</td>\n",
       "      <td>NaN</td>\n",
       "      <td>NaN</td>\n",
       "    </tr>\n",
       "    <tr>\n",
       "      <th>4</th>\n",
       "      <td>1</td>\n",
       "      <td>8:0-17:0</td>\n",
       "      <td>True</td>\n",
       "      <td>8:0-17:0</td>\n",
       "      <td>NaN</td>\n",
       "      <td>NaN</td>\n",
       "      <td>NaN</td>\n",
       "      <td>8:0-17:0</td>\n",
       "      <td>NaN</td>\n",
       "      <td>NaN</td>\n",
       "      <td>...</td>\n",
       "      <td>NaN</td>\n",
       "      <td>NaN</td>\n",
       "      <td>NaN</td>\n",
       "      <td>NaN</td>\n",
       "      <td>NaN</td>\n",
       "      <td>4</td>\n",
       "      <td>8:0-17:0</td>\n",
       "      <td>AB</td>\n",
       "      <td>{'Monday': '8:0-17:0', 'Tuesday': '8:0-17:0', ...</td>\n",
       "      <td>NaN</td>\n",
       "    </tr>\n",
       "  </tbody>\n",
       "</table>\n",
       "<p>5 rows × 61 columns</p>\n",
       "</div>"
      ],
      "text/plain": [
       "   is_open hours.Monday attributes.BusinessAcceptsCreditCards hours.Tuesday  \\\n",
       "0        1    8:30-17:0                                  True     11:0-21:0   \n",
       "1        0          NaN                                  True           NaN   \n",
       "2        0    10:0-22:0                                 False     10:0-22:0   \n",
       "3        1          NaN                                   NaN           NaN   \n",
       "4        1     8:0-17:0                                  True      8:0-17:0   \n",
       "\n",
       "  attributes.HappyHour                                attributes.Ambience  \\\n",
       "0                  NaN                                                NaN   \n",
       "1                  NaN                                                NaN   \n",
       "2                  NaN  {'romantic': False, 'intimate': False, 'classy...   \n",
       "3                  NaN                                                NaN   \n",
       "4                  NaN                                                NaN   \n",
       "\n",
       "  attributes.NoiseLevel hours.Wednesday attributes.GoodForKids  \\\n",
       "0               average       11:0-21:0                   True   \n",
       "1                   NaN             NaN                   True   \n",
       "2               average       10:0-22:0                   True   \n",
       "3                   NaN             NaN                    NaN   \n",
       "4                   NaN        8:0-17:0                    NaN   \n",
       "\n",
       "  attributes.AgesAllowed             ...               \\\n",
       "0                    NaN             ...                \n",
       "1                    NaN             ...                \n",
       "2                    NaN             ...                \n",
       "3                    NaN             ...                \n",
       "4                    NaN             ...                \n",
       "\n",
       "  attributes.WheelchairAccessible attributes.RestaurantsGoodForGroups  \\\n",
       "0                             NaN                                True   \n",
       "1                            True                                True   \n",
       "2                             NaN                                True   \n",
       "3                             NaN                                 NaN   \n",
       "4                             NaN                                 NaN   \n",
       "\n",
       "  attributes.Smoking attributes.CoatCheck hours.Saturday review_count  \\\n",
       "0                NaN                  NaN      11:0-21:0           24   \n",
       "1                NaN                  NaN      17:0-23:0            3   \n",
       "2                NaN                  NaN      10:0-22:0            5   \n",
       "3                NaN                  NaN            NaN            8   \n",
       "4                NaN                  NaN            NaN            4   \n",
       "\n",
       "  hours.Thursday state                                              hours  \\\n",
       "0      11:0-21:0    AB  {'Monday': '8:30-17:0', 'Tuesday': '11:0-21:0'...   \n",
       "1            NaN    NV  {'Friday': '17:0-23:0', 'Saturday': '17:0-23:0...   \n",
       "2      10:0-22:0    QC  {'Monday': '10:0-22:0', 'Tuesday': '10:0-22:0'...   \n",
       "3            NaN    AZ                                                NaN   \n",
       "4       8:0-17:0    AB  {'Monday': '8:0-17:0', 'Tuesday': '8:0-17:0', ...   \n",
       "\n",
       "  attributes.RestaurantsAttire  \n",
       "0                       casual  \n",
       "1                       casual  \n",
       "2                       casual  \n",
       "3                          NaN  \n",
       "4                          NaN  \n",
       "\n",
       "[5 rows x 61 columns]"
      ]
     },
     "execution_count": 27,
     "metadata": {},
     "output_type": "execute_result"
    }
   ],
   "source": [
    "business.head()"
   ]
  },
  {
   "cell_type": "code",
   "execution_count": 28,
   "metadata": {},
   "outputs": [
    {
     "name": "stdout",
     "output_type": "stream",
     "text": [
      "<class 'pandas.core.frame.DataFrame'>\n",
      "RangeIndex: 188593 entries, 0 to 188592\n",
      "Data columns (total 61 columns):\n",
      "is_open                                  188593 non-null int64\n",
      "hours.Monday                             132761 non-null object\n",
      "attributes.BusinessAcceptsCreditCards    140391 non-null object\n",
      "hours.Tuesday                            140607 non-null object\n",
      "attributes.HappyHour                     9285 non-null object\n",
      "attributes.Ambience                      47577 non-null object\n",
      "attributes.NoiseLevel                    43710 non-null object\n",
      "hours.Wednesday                          141843 non-null object\n",
      "attributes.GoodForKids                   64931 non-null object\n",
      "attributes.AgesAllowed                   397 non-null object\n",
      "neighborhood                             68655 non-null object\n",
      "attributes.Corkage                       657 non-null object\n",
      "categories                               188052 non-null object\n",
      "attributes.AcceptsInsurance              11671 non-null object\n",
      "attributes.Alcohol                       47892 non-null object\n",
      "attributes.WiFi                          49026 non-null object\n",
      "attributes.Music                         8807 non-null object\n",
      "attributes.RestaurantsReservations       51363 non-null object\n",
      "postal_code                              187912 non-null object\n",
      "attributes.HairSpecializesIn             1881 non-null object\n",
      "name                                     188593 non-null object\n",
      "longitude                                188587 non-null float64\n",
      "attributes.BikeParking                   84891 non-null object\n",
      "attributes.RestaurantsTableService       43325 non-null object\n",
      "attributes.RestaurantsDelivery           51668 non-null object\n",
      "attributes.RestaurantsTakeOut            61206 non-null object\n",
      "hours.Friday                             141796 non-null object\n",
      "attributes.RestaurantsPriceRange2        107120 non-null float64\n",
      "attributes.DriveThru                     6754 non-null object\n",
      "city                                     188583 non-null object\n",
      "attributes.DogsAllowed                   13681 non-null object\n",
      "attributes.GoodForMeal                   47483 non-null object\n",
      "attributes.RestaurantsCounterService     397 non-null object\n",
      "attributes.DietaryRestrictions           138 non-null object\n",
      "latitude                                 188587 non-null float64\n",
      "attributes                               162807 non-null object\n",
      "attributes.BusinessParking               103424 non-null object\n",
      "stars                                    188593 non-null float64\n",
      "business_id                              188593 non-null object\n",
      "attributes.BestNights                    6844 non-null object\n",
      "address                                  180970 non-null object\n",
      "attributes.ByAppointmentOnly             45423 non-null object\n",
      "attributes.BYOB                          911 non-null object\n",
      "attributes.BusinessAcceptsBitcoin        12674 non-null object\n",
      "attributes.BYOBCorkage                   1409 non-null object\n",
      "attributes.Caters                        40038 non-null object\n",
      "attributes.Open24Hours                   352 non-null object\n",
      "attributes.HasTV                         47533 non-null object\n",
      "attributes.OutdoorSeating                54181 non-null object\n",
      "hours.Sunday                             93387 non-null object\n",
      "attributes.GoodForDancing                9162 non-null object\n",
      "attributes.WheelchairAccessible          52023 non-null object\n",
      "attributes.RestaurantsGoodForGroups      53839 non-null object\n",
      "attributes.Smoking                       8113 non-null object\n",
      "attributes.CoatCheck                     8531 non-null object\n",
      "hours.Saturday                           125376 non-null object\n",
      "review_count                             188593 non-null int64\n",
      "hours.Thursday                           142359 non-null object\n",
      "state                                    188593 non-null object\n",
      "hours                                    143791 non-null object\n",
      "attributes.RestaurantsAttire             48182 non-null object\n",
      "dtypes: float64(4), int64(2), object(55)\n",
      "memory usage: 87.8+ MB\n"
     ]
    }
   ],
   "source": [
    "business.info()"
   ]
  },
  {
   "cell_type": "markdown",
   "metadata": {
    "toc-hr-collapsed": false
   },
   "source": [
    "# Scrub and Explore"
   ]
  },
  {
   "cell_type": "markdown",
   "metadata": {},
   "source": [
    "We will explore the following features for our study - \n",
    "1. Stars\n",
    "- Is Open\n",
    "- State\n",
    "- City\n",
    "- Review Count\n",
    "- Name\n",
    "- Neighborhood\n",
    "- Postal Code\n",
    "- Categories\n",
    "- Latitude/Longitude\n",
    "- Address"
   ]
  },
  {
   "cell_type": "markdown",
   "metadata": {},
   "source": [
    "## 1. stars feature"
   ]
  },
  {
   "cell_type": "code",
   "execution_count": 29,
   "metadata": {},
   "outputs": [
    {
     "data": {
      "text/plain": [
       "4.0    35123\n",
       "3.5    33974\n",
       "5.0    30941\n",
       "4.5    26707\n",
       "3.0    24704\n",
       "2.5    17808\n",
       "2.0    10266\n",
       "1.5     4727\n",
       "1.0     4343\n",
       "Name: stars, dtype: int64"
      ]
     },
     "execution_count": 29,
     "metadata": {},
     "output_type": "execute_result"
    }
   ],
   "source": [
    "business.stars.value_counts()"
   ]
  },
  {
   "cell_type": "code",
   "execution_count": 30,
   "metadata": {},
   "outputs": [],
   "source": [
    "business.stars = business.stars.astype('category')"
   ]
  },
  {
   "cell_type": "code",
   "execution_count": 31,
   "metadata": {},
   "outputs": [
    {
     "data": {
      "text/plain": [
       "count     188593.0\n",
       "unique         9.0\n",
       "top            4.0\n",
       "freq       35123.0\n",
       "Name: stars, dtype: float64"
      ]
     },
     "execution_count": 31,
     "metadata": {},
     "output_type": "execute_result"
    }
   ],
   "source": [
    "business.stars.describe()"
   ]
  },
  {
   "cell_type": "code",
   "execution_count": 32,
   "metadata": {},
   "outputs": [
    {
     "data": {
      "text/plain": [
       "CategoricalDtype(categories=[1.0, 1.5, 2.0, 2.5, 3.0, 3.5, 4.0, 4.5, 5.0], ordered=False)"
      ]
     },
     "execution_count": 32,
     "metadata": {},
     "output_type": "execute_result"
    }
   ],
   "source": [
    "business.stars.dtype"
   ]
  },
  {
   "cell_type": "markdown",
   "metadata": {},
   "source": [
    "No null values, all values spread among 9 categories"
   ]
  },
  {
   "cell_type": "markdown",
   "metadata": {},
   "source": [
    "## 2. is_open feature"
   ]
  },
  {
   "cell_type": "code",
   "execution_count": 33,
   "metadata": {},
   "outputs": [
    {
     "data": {
      "text/plain": [
       "1    156606\n",
       "0     31987\n",
       "Name: is_open, dtype: int64"
      ]
     },
     "execution_count": 33,
     "metadata": {},
     "output_type": "execute_result"
    }
   ],
   "source": [
    "business.is_open.value_counts()"
   ]
  },
  {
   "cell_type": "code",
   "execution_count": 34,
   "metadata": {},
   "outputs": [
    {
     "data": {
      "text/html": [
       "<div>\n",
       "<style scoped>\n",
       "    .dataframe tbody tr th:only-of-type {\n",
       "        vertical-align: middle;\n",
       "    }\n",
       "\n",
       "    .dataframe tbody tr th {\n",
       "        vertical-align: top;\n",
       "    }\n",
       "\n",
       "    .dataframe thead th {\n",
       "        text-align: right;\n",
       "    }\n",
       "</style>\n",
       "<table border=\"1\" class=\"dataframe\">\n",
       "  <thead>\n",
       "    <tr style=\"text-align: right;\">\n",
       "      <th></th>\n",
       "      <th>name</th>\n",
       "      <th>city</th>\n",
       "      <th>state</th>\n",
       "    </tr>\n",
       "  </thead>\n",
       "  <tbody>\n",
       "    <tr>\n",
       "      <th>1</th>\n",
       "      <td>CK'S BBQ &amp; Catering</td>\n",
       "      <td>Henderson</td>\n",
       "      <td>NV</td>\n",
       "    </tr>\n",
       "    <tr>\n",
       "      <th>2</th>\n",
       "      <td>La Bastringue</td>\n",
       "      <td>Montréal</td>\n",
       "      <td>QC</td>\n",
       "    </tr>\n",
       "    <tr>\n",
       "      <th>6</th>\n",
       "      <td>Bnc Cake House</td>\n",
       "      <td>Toronto</td>\n",
       "      <td>ON</td>\n",
       "    </tr>\n",
       "    <tr>\n",
       "      <th>10</th>\n",
       "      <td>Sushi 8</td>\n",
       "      <td>Markham</td>\n",
       "      <td>ON</td>\n",
       "    </tr>\n",
       "    <tr>\n",
       "      <th>11</th>\n",
       "      <td>Southern Accent Restaurant</td>\n",
       "      <td>Toronto</td>\n",
       "      <td>ON</td>\n",
       "    </tr>\n",
       "  </tbody>\n",
       "</table>\n",
       "</div>"
      ],
      "text/plain": [
       "                          name       city state\n",
       "1          CK'S BBQ & Catering  Henderson    NV\n",
       "2                La Bastringue   Montréal    QC\n",
       "6               Bnc Cake House    Toronto    ON\n",
       "10                     Sushi 8    Markham    ON\n",
       "11  Southern Accent Restaurant    Toronto    ON"
      ]
     },
     "execution_count": 34,
     "metadata": {},
     "output_type": "execute_result"
    }
   ],
   "source": [
    "business[business.is_open == 0][['name','city','state']].head()"
   ]
  },
  {
   "cell_type": "markdown",
   "metadata": {},
   "source": [
    "Validated that these business listings are closed. e.g. https://www.yelp.com/biz/cks-bbq-and-catering-henderson?osq=CK%27S+BBQ+%26+Catering\n",
    "Only working with open businesses in this study."
   ]
  },
  {
   "cell_type": "code",
   "execution_count": 35,
   "metadata": {},
   "outputs": [],
   "source": [
    "business = business[business.is_open == 1]"
   ]
  },
  {
   "cell_type": "markdown",
   "metadata": {
    "toc-hr-collapsed": true
   },
   "source": [
    "## 3-4 state and city features"
   ]
  },
  {
   "cell_type": "code",
   "execution_count": 36,
   "metadata": {},
   "outputs": [
    {
     "data": {
      "text/plain": [
       "AZ     47168\n",
       "NV     29232\n",
       "ON     26031\n",
       "NC     12196\n",
       "OH     11742\n",
       "PA      9296\n",
       "QC      7290\n",
       "AB      6486\n",
       "WI      4168\n",
       "IL      1574\n",
       "SC       651\n",
       "NYK      156\n",
       "NI       118\n",
       "IN        81\n",
       "OR        57\n",
       "BY        52\n",
       "CO        42\n",
       "ST        42\n",
       "C         32\n",
       "HE        31\n",
       "XGM       22\n",
       "NLK       22\n",
       "NY        19\n",
       "RP        18\n",
       "01        11\n",
       "CA         7\n",
       "VS         7\n",
       "O          3\n",
       "NW         3\n",
       "6          3\n",
       "       ...  \n",
       "AL         2\n",
       "B          2\n",
       "WHT        1\n",
       "FL         1\n",
       "NE         1\n",
       "TAM        1\n",
       "SP         1\n",
       "CC         1\n",
       "MN         1\n",
       "LU         1\n",
       "HH         1\n",
       "11         1\n",
       "HU         1\n",
       "RCC        1\n",
       "4          1\n",
       "45         1\n",
       "VA         1\n",
       "MA         1\n",
       "KY         1\n",
       "BC         1\n",
       "WAR        1\n",
       "WA         1\n",
       "DE         1\n",
       "CS         1\n",
       "XMS        1\n",
       "AG         1\n",
       "PO         1\n",
       "CRF        1\n",
       "GA         1\n",
       "10         1\n",
       "Name: state, Length: 67, dtype: int64"
      ]
     },
     "execution_count": 36,
     "metadata": {},
     "output_type": "execute_result"
    }
   ],
   "source": [
    "business.state.value_counts()"
   ]
  },
  {
   "cell_type": "code",
   "execution_count": 37,
   "metadata": {},
   "outputs": [
    {
     "data": {
      "text/html": [
       "<div>\n",
       "<style scoped>\n",
       "    .dataframe tbody tr th:only-of-type {\n",
       "        vertical-align: middle;\n",
       "    }\n",
       "\n",
       "    .dataframe tbody tr th {\n",
       "        vertical-align: top;\n",
       "    }\n",
       "\n",
       "    .dataframe thead th {\n",
       "        text-align: right;\n",
       "    }\n",
       "</style>\n",
       "<table border=\"1\" class=\"dataframe\">\n",
       "  <thead>\n",
       "    <tr style=\"text-align: right;\">\n",
       "      <th></th>\n",
       "      <th>name</th>\n",
       "      <th>city</th>\n",
       "      <th>state</th>\n",
       "    </tr>\n",
       "  </thead>\n",
       "  <tbody>\n",
       "    <tr>\n",
       "      <th>26737</th>\n",
       "      <td>La Chamade</td>\n",
       "      <td>Montreal</td>\n",
       "      <td>CA</td>\n",
       "    </tr>\n",
       "    <tr>\n",
       "      <th>32452</th>\n",
       "      <td>Hatchtag</td>\n",
       "      <td>Las Vegas</td>\n",
       "      <td>CA</td>\n",
       "    </tr>\n",
       "    <tr>\n",
       "      <th>48232</th>\n",
       "      <td>Tiffany Rogers, MD, M.P.T</td>\n",
       "      <td>Suite 120</td>\n",
       "      <td>CA</td>\n",
       "    </tr>\n",
       "    <tr>\n",
       "      <th>56775</th>\n",
       "      <td>Casa Bonita Green Cleaning</td>\n",
       "      <td>Pittsburgh</td>\n",
       "      <td>CA</td>\n",
       "    </tr>\n",
       "    <tr>\n",
       "      <th>72894</th>\n",
       "      <td>Viva Las Vegas Rockabilly Weekend</td>\n",
       "      <td>Las Vegas</td>\n",
       "      <td>CA</td>\n",
       "    </tr>\n",
       "    <tr>\n",
       "      <th>136486</th>\n",
       "      <td>Makeup By Kassandra Franco</td>\n",
       "      <td>Las Vegas Nv</td>\n",
       "      <td>CA</td>\n",
       "    </tr>\n",
       "    <tr>\n",
       "      <th>163678</th>\n",
       "      <td>Natural Bridge Canyon</td>\n",
       "      <td>Las Vegas</td>\n",
       "      <td>CA</td>\n",
       "    </tr>\n",
       "  </tbody>\n",
       "</table>\n",
       "</div>"
      ],
      "text/plain": [
       "                                     name          city state\n",
       "26737                          La Chamade      Montreal    CA\n",
       "32452                            Hatchtag     Las Vegas    CA\n",
       "48232           Tiffany Rogers, MD, M.P.T     Suite 120    CA\n",
       "56775          Casa Bonita Green Cleaning    Pittsburgh    CA\n",
       "72894   Viva Las Vegas Rockabilly Weekend     Las Vegas    CA\n",
       "136486         Makeup By Kassandra Franco  Las Vegas Nv    CA\n",
       "163678              Natural Bridge Canyon     Las Vegas    CA"
      ]
     },
     "execution_count": 37,
     "metadata": {},
     "output_type": "execute_result"
    }
   ],
   "source": [
    "business[business.state == 'CA'][['name','city', 'state']]"
   ]
  },
  {
   "cell_type": "markdown",
   "metadata": {},
   "source": [
    "A lot of invalid data. More than 50 states. Las Vegas shown as in CA."
   ]
  },
  {
   "cell_type": "markdown",
   "metadata": {},
   "source": [
    "### Problem 1 - More than 50 states"
   ]
  },
  {
   "cell_type": "markdown",
   "metadata": {},
   "source": [
    "https://statetable.com/"
   ]
  },
  {
   "cell_type": "code",
   "execution_count": 38,
   "metadata": {},
   "outputs": [],
   "source": [
    "true_states = pd.read_csv('state_table.csv')"
   ]
  },
  {
   "cell_type": "code",
   "execution_count": 39,
   "metadata": {},
   "outputs": [
    {
     "data": {
      "text/html": [
       "<div>\n",
       "<style scoped>\n",
       "    .dataframe tbody tr th:only-of-type {\n",
       "        vertical-align: middle;\n",
       "    }\n",
       "\n",
       "    .dataframe tbody tr th {\n",
       "        vertical-align: top;\n",
       "    }\n",
       "\n",
       "    .dataframe thead th {\n",
       "        text-align: right;\n",
       "    }\n",
       "</style>\n",
       "<table border=\"1\" class=\"dataframe\">\n",
       "  <thead>\n",
       "    <tr style=\"text-align: right;\">\n",
       "      <th></th>\n",
       "      <th>id</th>\n",
       "      <th>name</th>\n",
       "      <th>abbreviation</th>\n",
       "      <th>country</th>\n",
       "      <th>type</th>\n",
       "      <th>sort</th>\n",
       "      <th>status</th>\n",
       "      <th>occupied</th>\n",
       "      <th>notes</th>\n",
       "      <th>fips_state</th>\n",
       "      <th>assoc_press</th>\n",
       "      <th>standard_federal_region</th>\n",
       "      <th>census_region</th>\n",
       "      <th>census_region_name</th>\n",
       "      <th>census_division</th>\n",
       "      <th>census_division_name</th>\n",
       "      <th>circuit_court</th>\n",
       "    </tr>\n",
       "  </thead>\n",
       "  <tbody>\n",
       "    <tr>\n",
       "      <th>0</th>\n",
       "      <td>1</td>\n",
       "      <td>Alabama</td>\n",
       "      <td>AL</td>\n",
       "      <td>USA</td>\n",
       "      <td>state</td>\n",
       "      <td>10</td>\n",
       "      <td>current</td>\n",
       "      <td>occupied</td>\n",
       "      <td>NaN</td>\n",
       "      <td>1.0</td>\n",
       "      <td>Ala.</td>\n",
       "      <td>IV</td>\n",
       "      <td>3.0</td>\n",
       "      <td>South</td>\n",
       "      <td>6.0</td>\n",
       "      <td>East South Central</td>\n",
       "      <td>11</td>\n",
       "    </tr>\n",
       "    <tr>\n",
       "      <th>1</th>\n",
       "      <td>2</td>\n",
       "      <td>Alaska</td>\n",
       "      <td>AK</td>\n",
       "      <td>USA</td>\n",
       "      <td>state</td>\n",
       "      <td>10</td>\n",
       "      <td>current</td>\n",
       "      <td>occupied</td>\n",
       "      <td>NaN</td>\n",
       "      <td>2.0</td>\n",
       "      <td>Alaska</td>\n",
       "      <td>X</td>\n",
       "      <td>4.0</td>\n",
       "      <td>West</td>\n",
       "      <td>9.0</td>\n",
       "      <td>Pacific</td>\n",
       "      <td>9</td>\n",
       "    </tr>\n",
       "    <tr>\n",
       "      <th>2</th>\n",
       "      <td>3</td>\n",
       "      <td>Arizona</td>\n",
       "      <td>AZ</td>\n",
       "      <td>USA</td>\n",
       "      <td>state</td>\n",
       "      <td>10</td>\n",
       "      <td>current</td>\n",
       "      <td>occupied</td>\n",
       "      <td>NaN</td>\n",
       "      <td>4.0</td>\n",
       "      <td>Ariz.</td>\n",
       "      <td>IX</td>\n",
       "      <td>4.0</td>\n",
       "      <td>West</td>\n",
       "      <td>8.0</td>\n",
       "      <td>Mountain</td>\n",
       "      <td>9</td>\n",
       "    </tr>\n",
       "    <tr>\n",
       "      <th>3</th>\n",
       "      <td>4</td>\n",
       "      <td>Arkansas</td>\n",
       "      <td>AR</td>\n",
       "      <td>USA</td>\n",
       "      <td>state</td>\n",
       "      <td>10</td>\n",
       "      <td>current</td>\n",
       "      <td>occupied</td>\n",
       "      <td>NaN</td>\n",
       "      <td>5.0</td>\n",
       "      <td>Ark.</td>\n",
       "      <td>VI</td>\n",
       "      <td>3.0</td>\n",
       "      <td>South</td>\n",
       "      <td>7.0</td>\n",
       "      <td>West South Central</td>\n",
       "      <td>8</td>\n",
       "    </tr>\n",
       "    <tr>\n",
       "      <th>4</th>\n",
       "      <td>5</td>\n",
       "      <td>California</td>\n",
       "      <td>CA</td>\n",
       "      <td>USA</td>\n",
       "      <td>state</td>\n",
       "      <td>10</td>\n",
       "      <td>current</td>\n",
       "      <td>occupied</td>\n",
       "      <td>NaN</td>\n",
       "      <td>6.0</td>\n",
       "      <td>Calif.</td>\n",
       "      <td>IX</td>\n",
       "      <td>4.0</td>\n",
       "      <td>West</td>\n",
       "      <td>9.0</td>\n",
       "      <td>Pacific</td>\n",
       "      <td>9</td>\n",
       "    </tr>\n",
       "  </tbody>\n",
       "</table>\n",
       "</div>"
      ],
      "text/plain": [
       "   id        name abbreviation country   type  sort   status  occupied notes  \\\n",
       "0   1     Alabama           AL     USA  state    10  current  occupied   NaN   \n",
       "1   2      Alaska           AK     USA  state    10  current  occupied   NaN   \n",
       "2   3     Arizona           AZ     USA  state    10  current  occupied   NaN   \n",
       "3   4    Arkansas           AR     USA  state    10  current  occupied   NaN   \n",
       "4   5  California           CA     USA  state    10  current  occupied   NaN   \n",
       "\n",
       "   fips_state assoc_press standard_federal_region  census_region  \\\n",
       "0         1.0        Ala.                      IV            3.0   \n",
       "1         2.0      Alaska                       X            4.0   \n",
       "2         4.0       Ariz.                      IX            4.0   \n",
       "3         5.0        Ark.                      VI            3.0   \n",
       "4         6.0      Calif.                      IX            4.0   \n",
       "\n",
       "  census_region_name  census_division census_division_name circuit_court  \n",
       "0              South              6.0   East South Central            11  \n",
       "1               West              9.0              Pacific             9  \n",
       "2               West              8.0             Mountain             9  \n",
       "3              South              7.0   West South Central             8  \n",
       "4               West              9.0              Pacific             9  "
      ]
     },
     "execution_count": 39,
     "metadata": {},
     "output_type": "execute_result"
    }
   ],
   "source": [
    "true_states.head()"
   ]
  },
  {
   "cell_type": "code",
   "execution_count": 40,
   "metadata": {},
   "outputs": [],
   "source": [
    "true_states = true_states[['name','abbreviation','country','census_region','census_division']]"
   ]
  },
  {
   "cell_type": "code",
   "execution_count": 41,
   "metadata": {},
   "outputs": [],
   "source": [
    "true_states = true_states.rename(index=str, columns={\"name\" : \"state_full\", \"abbreviation\" : \"true_state\"})"
   ]
  },
  {
   "cell_type": "code",
   "execution_count": 42,
   "metadata": {},
   "outputs": [
    {
     "data": {
      "text/html": [
       "<div>\n",
       "<style scoped>\n",
       "    .dataframe tbody tr th:only-of-type {\n",
       "        vertical-align: middle;\n",
       "    }\n",
       "\n",
       "    .dataframe tbody tr th {\n",
       "        vertical-align: top;\n",
       "    }\n",
       "\n",
       "    .dataframe thead th {\n",
       "        text-align: right;\n",
       "    }\n",
       "</style>\n",
       "<table border=\"1\" class=\"dataframe\">\n",
       "  <thead>\n",
       "    <tr style=\"text-align: right;\">\n",
       "      <th></th>\n",
       "      <th>state_full</th>\n",
       "      <th>true_state</th>\n",
       "      <th>country</th>\n",
       "      <th>census_region</th>\n",
       "      <th>census_division</th>\n",
       "    </tr>\n",
       "  </thead>\n",
       "  <tbody>\n",
       "    <tr>\n",
       "      <th>0</th>\n",
       "      <td>Alabama</td>\n",
       "      <td>AL</td>\n",
       "      <td>USA</td>\n",
       "      <td>3.0</td>\n",
       "      <td>6.0</td>\n",
       "    </tr>\n",
       "    <tr>\n",
       "      <th>1</th>\n",
       "      <td>Alaska</td>\n",
       "      <td>AK</td>\n",
       "      <td>USA</td>\n",
       "      <td>4.0</td>\n",
       "      <td>9.0</td>\n",
       "    </tr>\n",
       "    <tr>\n",
       "      <th>2</th>\n",
       "      <td>Arizona</td>\n",
       "      <td>AZ</td>\n",
       "      <td>USA</td>\n",
       "      <td>4.0</td>\n",
       "      <td>8.0</td>\n",
       "    </tr>\n",
       "    <tr>\n",
       "      <th>3</th>\n",
       "      <td>Arkansas</td>\n",
       "      <td>AR</td>\n",
       "      <td>USA</td>\n",
       "      <td>3.0</td>\n",
       "      <td>7.0</td>\n",
       "    </tr>\n",
       "    <tr>\n",
       "      <th>4</th>\n",
       "      <td>California</td>\n",
       "      <td>CA</td>\n",
       "      <td>USA</td>\n",
       "      <td>4.0</td>\n",
       "      <td>9.0</td>\n",
       "    </tr>\n",
       "  </tbody>\n",
       "</table>\n",
       "</div>"
      ],
      "text/plain": [
       "   state_full true_state country  census_region  census_division\n",
       "0     Alabama         AL     USA            3.0              6.0\n",
       "1      Alaska         AK     USA            4.0              9.0\n",
       "2     Arizona         AZ     USA            4.0              8.0\n",
       "3    Arkansas         AR     USA            3.0              7.0\n",
       "4  California         CA     USA            4.0              9.0"
      ]
     },
     "execution_count": 42,
     "metadata": {},
     "output_type": "execute_result"
    }
   ],
   "source": [
    "true_states.head()"
   ]
  },
  {
   "cell_type": "code",
   "execution_count": 43,
   "metadata": {},
   "outputs": [],
   "source": [
    "business = pd.merge(business, true_states, left_on='state', right_on='true_state', how='left')"
   ]
  },
  {
   "cell_type": "code",
   "execution_count": 44,
   "metadata": {},
   "outputs": [
    {
     "data": {
      "text/html": [
       "<div>\n",
       "<style scoped>\n",
       "    .dataframe tbody tr th:only-of-type {\n",
       "        vertical-align: middle;\n",
       "    }\n",
       "\n",
       "    .dataframe tbody tr th {\n",
       "        vertical-align: top;\n",
       "    }\n",
       "\n",
       "    .dataframe thead th {\n",
       "        text-align: right;\n",
       "    }\n",
       "</style>\n",
       "<table border=\"1\" class=\"dataframe\">\n",
       "  <thead>\n",
       "    <tr style=\"text-align: right;\">\n",
       "      <th></th>\n",
       "      <th>is_open</th>\n",
       "      <th>hours.Monday</th>\n",
       "      <th>attributes.BusinessAcceptsCreditCards</th>\n",
       "      <th>hours.Tuesday</th>\n",
       "      <th>attributes.HappyHour</th>\n",
       "      <th>attributes.Ambience</th>\n",
       "      <th>attributes.NoiseLevel</th>\n",
       "      <th>hours.Wednesday</th>\n",
       "      <th>attributes.GoodForKids</th>\n",
       "      <th>attributes.AgesAllowed</th>\n",
       "      <th>...</th>\n",
       "      <th>review_count</th>\n",
       "      <th>hours.Thursday</th>\n",
       "      <th>state</th>\n",
       "      <th>hours</th>\n",
       "      <th>attributes.RestaurantsAttire</th>\n",
       "      <th>state_full</th>\n",
       "      <th>true_state</th>\n",
       "      <th>country</th>\n",
       "      <th>census_region</th>\n",
       "      <th>census_division</th>\n",
       "    </tr>\n",
       "  </thead>\n",
       "  <tbody>\n",
       "    <tr>\n",
       "      <th>0</th>\n",
       "      <td>1</td>\n",
       "      <td>8:30-17:0</td>\n",
       "      <td>True</td>\n",
       "      <td>11:0-21:0</td>\n",
       "      <td>NaN</td>\n",
       "      <td>NaN</td>\n",
       "      <td>average</td>\n",
       "      <td>11:0-21:0</td>\n",
       "      <td>True</td>\n",
       "      <td>NaN</td>\n",
       "      <td>...</td>\n",
       "      <td>24</td>\n",
       "      <td>11:0-21:0</td>\n",
       "      <td>AB</td>\n",
       "      <td>{'Monday': '8:30-17:0', 'Tuesday': '11:0-21:0'...</td>\n",
       "      <td>casual</td>\n",
       "      <td>Alberta</td>\n",
       "      <td>AB</td>\n",
       "      <td>Canada</td>\n",
       "      <td>NaN</td>\n",
       "      <td>NaN</td>\n",
       "    </tr>\n",
       "    <tr>\n",
       "      <th>1</th>\n",
       "      <td>1</td>\n",
       "      <td>NaN</td>\n",
       "      <td>NaN</td>\n",
       "      <td>NaN</td>\n",
       "      <td>NaN</td>\n",
       "      <td>NaN</td>\n",
       "      <td>NaN</td>\n",
       "      <td>NaN</td>\n",
       "      <td>NaN</td>\n",
       "      <td>NaN</td>\n",
       "      <td>...</td>\n",
       "      <td>8</td>\n",
       "      <td>NaN</td>\n",
       "      <td>AZ</td>\n",
       "      <td>NaN</td>\n",
       "      <td>NaN</td>\n",
       "      <td>Arizona</td>\n",
       "      <td>AZ</td>\n",
       "      <td>USA</td>\n",
       "      <td>4.0</td>\n",
       "      <td>8.0</td>\n",
       "    </tr>\n",
       "    <tr>\n",
       "      <th>2</th>\n",
       "      <td>1</td>\n",
       "      <td>8:0-17:0</td>\n",
       "      <td>True</td>\n",
       "      <td>8:0-17:0</td>\n",
       "      <td>NaN</td>\n",
       "      <td>NaN</td>\n",
       "      <td>NaN</td>\n",
       "      <td>8:0-17:0</td>\n",
       "      <td>NaN</td>\n",
       "      <td>NaN</td>\n",
       "      <td>...</td>\n",
       "      <td>4</td>\n",
       "      <td>8:0-17:0</td>\n",
       "      <td>AB</td>\n",
       "      <td>{'Monday': '8:0-17:0', 'Tuesday': '8:0-17:0', ...</td>\n",
       "      <td>NaN</td>\n",
       "      <td>Alberta</td>\n",
       "      <td>AB</td>\n",
       "      <td>Canada</td>\n",
       "      <td>NaN</td>\n",
       "      <td>NaN</td>\n",
       "    </tr>\n",
       "    <tr>\n",
       "      <th>3</th>\n",
       "      <td>1</td>\n",
       "      <td>5:30-20:0</td>\n",
       "      <td>True</td>\n",
       "      <td>5:30-20:0</td>\n",
       "      <td>NaN</td>\n",
       "      <td>NaN</td>\n",
       "      <td>NaN</td>\n",
       "      <td>5:30-20:0</td>\n",
       "      <td>NaN</td>\n",
       "      <td>NaN</td>\n",
       "      <td>...</td>\n",
       "      <td>63</td>\n",
       "      <td>5:30-20:0</td>\n",
       "      <td>AZ</td>\n",
       "      <td>{'Monday': '5:30-20:0', 'Tuesday': '5:30-20:0'...</td>\n",
       "      <td>NaN</td>\n",
       "      <td>Arizona</td>\n",
       "      <td>AZ</td>\n",
       "      <td>USA</td>\n",
       "      <td>4.0</td>\n",
       "      <td>8.0</td>\n",
       "    </tr>\n",
       "    <tr>\n",
       "      <th>4</th>\n",
       "      <td>1</td>\n",
       "      <td>NaN</td>\n",
       "      <td>True</td>\n",
       "      <td>NaN</td>\n",
       "      <td>NaN</td>\n",
       "      <td>NaN</td>\n",
       "      <td>NaN</td>\n",
       "      <td>NaN</td>\n",
       "      <td>True</td>\n",
       "      <td>NaN</td>\n",
       "      <td>...</td>\n",
       "      <td>7</td>\n",
       "      <td>NaN</td>\n",
       "      <td>ON</td>\n",
       "      <td>NaN</td>\n",
       "      <td>casual</td>\n",
       "      <td>Ontario</td>\n",
       "      <td>ON</td>\n",
       "      <td>Canada</td>\n",
       "      <td>NaN</td>\n",
       "      <td>NaN</td>\n",
       "    </tr>\n",
       "  </tbody>\n",
       "</table>\n",
       "<p>5 rows × 66 columns</p>\n",
       "</div>"
      ],
      "text/plain": [
       "   is_open hours.Monday attributes.BusinessAcceptsCreditCards hours.Tuesday  \\\n",
       "0        1    8:30-17:0                                  True     11:0-21:0   \n",
       "1        1          NaN                                   NaN           NaN   \n",
       "2        1     8:0-17:0                                  True      8:0-17:0   \n",
       "3        1    5:30-20:0                                  True     5:30-20:0   \n",
       "4        1          NaN                                  True           NaN   \n",
       "\n",
       "  attributes.HappyHour attributes.Ambience attributes.NoiseLevel  \\\n",
       "0                  NaN                 NaN               average   \n",
       "1                  NaN                 NaN                   NaN   \n",
       "2                  NaN                 NaN                   NaN   \n",
       "3                  NaN                 NaN                   NaN   \n",
       "4                  NaN                 NaN                   NaN   \n",
       "\n",
       "  hours.Wednesday attributes.GoodForKids attributes.AgesAllowed  \\\n",
       "0       11:0-21:0                   True                    NaN   \n",
       "1             NaN                    NaN                    NaN   \n",
       "2        8:0-17:0                    NaN                    NaN   \n",
       "3       5:30-20:0                    NaN                    NaN   \n",
       "4             NaN                   True                    NaN   \n",
       "\n",
       "        ...       review_count hours.Thursday state  \\\n",
       "0       ...                 24      11:0-21:0    AB   \n",
       "1       ...                  8            NaN    AZ   \n",
       "2       ...                  4       8:0-17:0    AB   \n",
       "3       ...                 63      5:30-20:0    AZ   \n",
       "4       ...                  7            NaN    ON   \n",
       "\n",
       "                                               hours  \\\n",
       "0  {'Monday': '8:30-17:0', 'Tuesday': '11:0-21:0'...   \n",
       "1                                                NaN   \n",
       "2  {'Monday': '8:0-17:0', 'Tuesday': '8:0-17:0', ...   \n",
       "3  {'Monday': '5:30-20:0', 'Tuesday': '5:30-20:0'...   \n",
       "4                                                NaN   \n",
       "\n",
       "  attributes.RestaurantsAttire state_full true_state country census_region  \\\n",
       "0                       casual    Alberta         AB  Canada           NaN   \n",
       "1                          NaN    Arizona         AZ     USA           4.0   \n",
       "2                          NaN    Alberta         AB  Canada           NaN   \n",
       "3                          NaN    Arizona         AZ     USA           4.0   \n",
       "4                       casual    Ontario         ON  Canada           NaN   \n",
       "\n",
       "  census_division  \n",
       "0             NaN  \n",
       "1             8.0  \n",
       "2             NaN  \n",
       "3             8.0  \n",
       "4             NaN  \n",
       "\n",
       "[5 rows x 66 columns]"
      ]
     },
     "execution_count": 44,
     "metadata": {},
     "output_type": "execute_result"
    }
   ],
   "source": [
    "business.head()"
   ]
  },
  {
   "cell_type": "code",
   "execution_count": 45,
   "metadata": {},
   "outputs": [
    {
     "data": {
      "text/html": [
       "<div>\n",
       "<style scoped>\n",
       "    .dataframe tbody tr th:only-of-type {\n",
       "        vertical-align: middle;\n",
       "    }\n",
       "\n",
       "    .dataframe tbody tr th {\n",
       "        vertical-align: top;\n",
       "    }\n",
       "\n",
       "    .dataframe thead th {\n",
       "        text-align: right;\n",
       "    }\n",
       "</style>\n",
       "<table border=\"1\" class=\"dataframe\">\n",
       "  <thead>\n",
       "    <tr style=\"text-align: right;\">\n",
       "      <th></th>\n",
       "      <th>address</th>\n",
       "      <th>city</th>\n",
       "      <th>state</th>\n",
       "    </tr>\n",
       "  </thead>\n",
       "  <tbody>\n",
       "    <tr>\n",
       "      <th>224</th>\n",
       "      <td>Esplanade</td>\n",
       "      <td>Scarborough</td>\n",
       "      <td>NYK</td>\n",
       "    </tr>\n",
       "    <tr>\n",
       "      <th>262</th>\n",
       "      <td>Seamer Road</td>\n",
       "      <td>Scarborough</td>\n",
       "      <td>NYK</td>\n",
       "    </tr>\n",
       "    <tr>\n",
       "      <th>1015</th>\n",
       "      <td>Church Street</td>\n",
       "      <td>Whitby</td>\n",
       "      <td>NYK</td>\n",
       "    </tr>\n",
       "    <tr>\n",
       "      <th>1450</th>\n",
       "      <td>Av. Maipu 2320</td>\n",
       "      <td>Olivos</td>\n",
       "      <td>C</td>\n",
       "    </tr>\n",
       "    <tr>\n",
       "      <th>1530</th>\n",
       "      <td>Rosengasse 4</td>\n",
       "      <td>Lam</td>\n",
       "      <td>BY</td>\n",
       "    </tr>\n",
       "    <tr>\n",
       "      <th>1614</th>\n",
       "      <td>214/215 Ashley Road</td>\n",
       "      <td>Trafford</td>\n",
       "      <td>XGM</td>\n",
       "    </tr>\n",
       "    <tr>\n",
       "      <th>1796</th>\n",
       "      <td>Waldkater 1</td>\n",
       "      <td>Thale</td>\n",
       "      <td>ST</td>\n",
       "    </tr>\n",
       "    <tr>\n",
       "      <th>1988</th>\n",
       "      <td>Edenkobenerstr. 38</td>\n",
       "      <td>St Martin</td>\n",
       "      <td>RP</td>\n",
       "    </tr>\n",
       "    <tr>\n",
       "      <th>2475</th>\n",
       "      <td>10 Sandside</td>\n",
       "      <td>Scarborough</td>\n",
       "      <td>NYK</td>\n",
       "    </tr>\n",
       "    <tr>\n",
       "      <th>2509</th>\n",
       "      <td>6 Cecil Road, Hale</td>\n",
       "      <td>Trafford</td>\n",
       "      <td>XGM</td>\n",
       "    </tr>\n",
       "    <tr>\n",
       "      <th>2886</th>\n",
       "      <td>Front Street</td>\n",
       "      <td>Brampton</td>\n",
       "      <td>CMA</td>\n",
       "    </tr>\n",
       "    <tr>\n",
       "      <th>3026</th>\n",
       "      <td>Altländer Str. 91</td>\n",
       "      <td>Stade</td>\n",
       "      <td>NI</td>\n",
       "    </tr>\n",
       "    <tr>\n",
       "      <th>3106</th>\n",
       "      <td>24 Alexander Street</td>\n",
       "      <td>Airdrie</td>\n",
       "      <td>NLK</td>\n",
       "    </tr>\n",
       "    <tr>\n",
       "      <th>3151</th>\n",
       "      <td>125 Church Street</td>\n",
       "      <td>Whitby</td>\n",
       "      <td>NYK</td>\n",
       "    </tr>\n",
       "    <tr>\n",
       "      <th>4344</th>\n",
       "      <td>Arberstr. 3</td>\n",
       "      <td>Lam</td>\n",
       "      <td>BY</td>\n",
       "    </tr>\n",
       "  </tbody>\n",
       "</table>\n",
       "</div>"
      ],
      "text/plain": [
       "                  address         city state\n",
       "224             Esplanade  Scarborough   NYK\n",
       "262           Seamer Road  Scarborough   NYK\n",
       "1015        Church Street       Whitby   NYK\n",
       "1450       Av. Maipu 2320       Olivos     C\n",
       "1530         Rosengasse 4          Lam    BY\n",
       "1614  214/215 Ashley Road     Trafford   XGM\n",
       "1796          Waldkater 1        Thale    ST\n",
       "1988   Edenkobenerstr. 38    St Martin    RP\n",
       "2475          10 Sandside  Scarborough   NYK\n",
       "2509   6 Cecil Road, Hale     Trafford   XGM\n",
       "2886         Front Street     Brampton   CMA\n",
       "3026    Altländer Str. 91        Stade    NI\n",
       "3106  24 Alexander Street      Airdrie   NLK\n",
       "3151    125 Church Street       Whitby   NYK\n",
       "4344          Arberstr. 3          Lam    BY"
      ]
     },
     "execution_count": 45,
     "metadata": {},
     "output_type": "execute_result"
    }
   ],
   "source": [
    "business[business.true_state.isna()][['address','city', 'state']].head(15)"
   ]
  },
  {
   "cell_type": "markdown",
   "metadata": {},
   "source": [
    "Looks like these are businesses that are probably outside North America and since there are just 590 of them, dropping them from our analysis."
   ]
  },
  {
   "cell_type": "code",
   "execution_count": 46,
   "metadata": {},
   "outputs": [],
   "source": [
    "business = business[pd.notnull(business.true_state)]"
   ]
  },
  {
   "cell_type": "code",
   "execution_count": 47,
   "metadata": {},
   "outputs": [
    {
     "data": {
      "text/plain": [
       "USA       116250\n",
       "Canada     39808\n",
       "Name: country, dtype: int64"
      ]
     },
     "execution_count": 47,
     "metadata": {},
     "output_type": "execute_result"
    }
   ],
   "source": [
    "business.country.value_counts()"
   ]
  },
  {
   "cell_type": "markdown",
   "metadata": {},
   "source": [
    "For the sake of simplicity, keeping the study just to USA."
   ]
  },
  {
   "cell_type": "code",
   "execution_count": 48,
   "metadata": {},
   "outputs": [],
   "source": [
    "business = business[business.country == 'USA']"
   ]
  },
  {
   "cell_type": "code",
   "execution_count": 49,
   "metadata": {},
   "outputs": [
    {
     "name": "stdout",
     "output_type": "stream",
     "text": [
      "<class 'pandas.core.frame.DataFrame'>\n",
      "Int64Index: 116250 entries, 1 to 156605\n",
      "Data columns (total 66 columns):\n",
      "is_open                                  116250 non-null int64\n",
      "hours.Monday                             88221 non-null object\n",
      "attributes.BusinessAcceptsCreditCards    91682 non-null object\n",
      "hours.Tuesday                            91915 non-null object\n",
      "attributes.HappyHour                     4928 non-null object\n",
      "attributes.Ambience                      22337 non-null object\n",
      "attributes.NoiseLevel                    19810 non-null object\n",
      "hours.Wednesday                          92410 non-null object\n",
      "attributes.GoodForKids                   32013 non-null object\n",
      "attributes.AgesAllowed                   154 non-null object\n",
      "neighborhood                             33043 non-null object\n",
      "attributes.Corkage                       429 non-null object\n",
      "categories                               115856 non-null object\n",
      "attributes.AcceptsInsurance              9926 non-null object\n",
      "attributes.Alcohol                       21965 non-null object\n",
      "attributes.WiFi                          24500 non-null object\n",
      "attributes.Music                         4522 non-null object\n",
      "attributes.RestaurantsReservations       23312 non-null object\n",
      "postal_code                              115866 non-null object\n",
      "attributes.HairSpecializesIn             1320 non-null object\n",
      "name                                     116250 non-null object\n",
      "longitude                                116247 non-null float64\n",
      "attributes.BikeParking                   51211 non-null object\n",
      "attributes.RestaurantsTableService       18931 non-null object\n",
      "attributes.RestaurantsDelivery           23710 non-null object\n",
      "attributes.RestaurantsTakeOut            28821 non-null object\n",
      "hours.Friday                             92013 non-null object\n",
      "attributes.RestaurantsPriceRange2        55482 non-null float64\n",
      "attributes.DriveThru                     4441 non-null object\n",
      "city                                     116244 non-null object\n",
      "attributes.DogsAllowed                   7629 non-null object\n",
      "attributes.GoodForMeal                   21347 non-null object\n",
      "attributes.RestaurantsCounterService     264 non-null object\n",
      "attributes.DietaryRestrictions           69 non-null object\n",
      "latitude                                 116247 non-null float64\n",
      "attributes                               99085 non-null object\n",
      "attributes.BusinessParking               55684 non-null object\n",
      "stars                                    116250 non-null category\n",
      "business_id                              116250 non-null object\n",
      "attributes.BestNights                    3588 non-null object\n",
      "address                                  109771 non-null object\n",
      "attributes.ByAppointmentOnly             35233 non-null object\n",
      "attributes.BYOB                          560 non-null object\n",
      "attributes.BusinessAcceptsBitcoin        11418 non-null object\n",
      "attributes.BYOBCorkage                   878 non-null object\n",
      "attributes.Caters                        21616 non-null object\n",
      "attributes.Open24Hours                   230 non-null object\n",
      "attributes.HasTV                         22149 non-null object\n",
      "attributes.OutdoorSeating                24023 non-null object\n",
      "hours.Sunday                             56605 non-null object\n",
      "attributes.GoodForDancing                4820 non-null object\n",
      "attributes.WheelchairAccessible          29678 non-null object\n",
      "attributes.RestaurantsGoodForGroups      23709 non-null object\n",
      "attributes.Smoking                       4026 non-null object\n",
      "attributes.CoatCheck                     4349 non-null object\n",
      "hours.Saturday                           78403 non-null object\n",
      "review_count                             116250 non-null int64\n",
      "hours.Thursday                           92618 non-null object\n",
      "state                                    116250 non-null object\n",
      "hours                                    93521 non-null object\n",
      "attributes.RestaurantsAttire             21043 non-null object\n",
      "state_full                               116250 non-null object\n",
      "true_state                               116250 non-null object\n",
      "country                                  116250 non-null object\n",
      "census_region                            116250 non-null float64\n",
      "census_division                          116250 non-null float64\n",
      "dtypes: category(1), float64(5), int64(2), object(58)\n",
      "memory usage: 58.6+ MB\n"
     ]
    }
   ],
   "source": [
    "business.info()"
   ]
  },
  {
   "cell_type": "code",
   "execution_count": 50,
   "metadata": {},
   "outputs": [],
   "source": [
    "business = business.drop(['state_full','true_state','country'], axis=1)"
   ]
  },
  {
   "cell_type": "markdown",
   "metadata": {},
   "source": [
    "### Problem 2 - Wrong City/State combination"
   ]
  },
  {
   "cell_type": "markdown",
   "metadata": {},
   "source": [
    "https://simplemaps.com/data/us-cities"
   ]
  },
  {
   "cell_type": "code",
   "execution_count": 51,
   "metadata": {},
   "outputs": [],
   "source": [
    "cities = pd.read_csv('uscitiesv1.4.csv')"
   ]
  },
  {
   "cell_type": "code",
   "execution_count": 52,
   "metadata": {},
   "outputs": [
    {
     "data": {
      "text/html": [
       "<div>\n",
       "<style scoped>\n",
       "    .dataframe tbody tr th:only-of-type {\n",
       "        vertical-align: middle;\n",
       "    }\n",
       "\n",
       "    .dataframe tbody tr th {\n",
       "        vertical-align: top;\n",
       "    }\n",
       "\n",
       "    .dataframe thead th {\n",
       "        text-align: right;\n",
       "    }\n",
       "</style>\n",
       "<table border=\"1\" class=\"dataframe\">\n",
       "  <thead>\n",
       "    <tr style=\"text-align: right;\">\n",
       "      <th></th>\n",
       "      <th>city</th>\n",
       "      <th>city_ascii</th>\n",
       "      <th>state_id</th>\n",
       "      <th>state_name</th>\n",
       "      <th>county_fips</th>\n",
       "      <th>county_name</th>\n",
       "      <th>lat</th>\n",
       "      <th>lng</th>\n",
       "      <th>population</th>\n",
       "      <th>population_proper</th>\n",
       "      <th>density</th>\n",
       "      <th>source</th>\n",
       "      <th>incorporated</th>\n",
       "      <th>timezone</th>\n",
       "      <th>zips</th>\n",
       "      <th>id</th>\n",
       "    </tr>\n",
       "  </thead>\n",
       "  <tbody>\n",
       "    <tr>\n",
       "      <th>0</th>\n",
       "      <td>Prairie Ridge</td>\n",
       "      <td>Prairie Ridge</td>\n",
       "      <td>WA</td>\n",
       "      <td>Washington</td>\n",
       "      <td>53053</td>\n",
       "      <td>Pierce</td>\n",
       "      <td>47.1443</td>\n",
       "      <td>-122.1408</td>\n",
       "      <td>NaN</td>\n",
       "      <td>NaN</td>\n",
       "      <td>1349.8</td>\n",
       "      <td>polygon</td>\n",
       "      <td>False</td>\n",
       "      <td>America/Los_Angeles</td>\n",
       "      <td>98360 98391</td>\n",
       "      <td>1840037882</td>\n",
       "    </tr>\n",
       "    <tr>\n",
       "      <th>1</th>\n",
       "      <td>Edison</td>\n",
       "      <td>Edison</td>\n",
       "      <td>WA</td>\n",
       "      <td>Washington</td>\n",
       "      <td>53057</td>\n",
       "      <td>Skagit</td>\n",
       "      <td>48.5602</td>\n",
       "      <td>-122.4311</td>\n",
       "      <td>NaN</td>\n",
       "      <td>NaN</td>\n",
       "      <td>127.4</td>\n",
       "      <td>polygon</td>\n",
       "      <td>False</td>\n",
       "      <td>America/Los_Angeles</td>\n",
       "      <td>98232</td>\n",
       "      <td>1840017314</td>\n",
       "    </tr>\n",
       "    <tr>\n",
       "      <th>2</th>\n",
       "      <td>Packwood</td>\n",
       "      <td>Packwood</td>\n",
       "      <td>WA</td>\n",
       "      <td>Washington</td>\n",
       "      <td>53041</td>\n",
       "      <td>Lewis</td>\n",
       "      <td>46.6085</td>\n",
       "      <td>-121.6702</td>\n",
       "      <td>NaN</td>\n",
       "      <td>NaN</td>\n",
       "      <td>213.9</td>\n",
       "      <td>polygon</td>\n",
       "      <td>False</td>\n",
       "      <td>America/Los_Angeles</td>\n",
       "      <td>98361</td>\n",
       "      <td>1840025265</td>\n",
       "    </tr>\n",
       "    <tr>\n",
       "      <th>3</th>\n",
       "      <td>Wautauga Beach</td>\n",
       "      <td>Wautauga Beach</td>\n",
       "      <td>WA</td>\n",
       "      <td>Washington</td>\n",
       "      <td>53035</td>\n",
       "      <td>Kitsap</td>\n",
       "      <td>47.5862</td>\n",
       "      <td>-122.5482</td>\n",
       "      <td>NaN</td>\n",
       "      <td>NaN</td>\n",
       "      <td>261.7</td>\n",
       "      <td>point</td>\n",
       "      <td>False</td>\n",
       "      <td>America/Los_Angeles</td>\n",
       "      <td>98366</td>\n",
       "      <td>1840037725</td>\n",
       "    </tr>\n",
       "    <tr>\n",
       "      <th>4</th>\n",
       "      <td>Harper</td>\n",
       "      <td>Harper</td>\n",
       "      <td>WA</td>\n",
       "      <td>Washington</td>\n",
       "      <td>53035</td>\n",
       "      <td>Kitsap</td>\n",
       "      <td>47.5207</td>\n",
       "      <td>-122.5196</td>\n",
       "      <td>NaN</td>\n",
       "      <td>NaN</td>\n",
       "      <td>342.1</td>\n",
       "      <td>point</td>\n",
       "      <td>False</td>\n",
       "      <td>America/Los_Angeles</td>\n",
       "      <td>98366</td>\n",
       "      <td>1840037659</td>\n",
       "    </tr>\n",
       "  </tbody>\n",
       "</table>\n",
       "</div>"
      ],
      "text/plain": [
       "             city      city_ascii state_id  state_name  county_fips  \\\n",
       "0   Prairie Ridge   Prairie Ridge       WA  Washington        53053   \n",
       "1          Edison          Edison       WA  Washington        53057   \n",
       "2        Packwood        Packwood       WA  Washington        53041   \n",
       "3  Wautauga Beach  Wautauga Beach       WA  Washington        53035   \n",
       "4          Harper          Harper       WA  Washington        53035   \n",
       "\n",
       "  county_name      lat       lng  population  population_proper  density  \\\n",
       "0      Pierce  47.1443 -122.1408         NaN                NaN   1349.8   \n",
       "1      Skagit  48.5602 -122.4311         NaN                NaN    127.4   \n",
       "2       Lewis  46.6085 -121.6702         NaN                NaN    213.9   \n",
       "3      Kitsap  47.5862 -122.5482         NaN                NaN    261.7   \n",
       "4      Kitsap  47.5207 -122.5196         NaN                NaN    342.1   \n",
       "\n",
       "    source  incorporated             timezone         zips          id  \n",
       "0  polygon         False  America/Los_Angeles  98360 98391  1840037882  \n",
       "1  polygon         False  America/Los_Angeles        98232  1840017314  \n",
       "2  polygon         False  America/Los_Angeles        98361  1840025265  \n",
       "3    point         False  America/Los_Angeles        98366  1840037725  \n",
       "4    point         False  America/Los_Angeles        98366  1840037659  "
      ]
     },
     "execution_count": 52,
     "metadata": {},
     "output_type": "execute_result"
    }
   ],
   "source": [
    "cities.head()"
   ]
  },
  {
   "cell_type": "code",
   "execution_count": 53,
   "metadata": {},
   "outputs": [],
   "source": [
    "cities.city = cities.city.str.lower()"
   ]
  },
  {
   "cell_type": "code",
   "execution_count": 54,
   "metadata": {},
   "outputs": [],
   "source": [
    "cities = cities.drop(['city_ascii','county_fips','lat','lng','source','incorporated','timezone','id'], axis=1)"
   ]
  },
  {
   "cell_type": "code",
   "execution_count": 55,
   "metadata": {},
   "outputs": [
    {
     "data": {
      "text/html": [
       "<div>\n",
       "<style scoped>\n",
       "    .dataframe tbody tr th:only-of-type {\n",
       "        vertical-align: middle;\n",
       "    }\n",
       "\n",
       "    .dataframe tbody tr th {\n",
       "        vertical-align: top;\n",
       "    }\n",
       "\n",
       "    .dataframe thead th {\n",
       "        text-align: right;\n",
       "    }\n",
       "</style>\n",
       "<table border=\"1\" class=\"dataframe\">\n",
       "  <thead>\n",
       "    <tr style=\"text-align: right;\">\n",
       "      <th></th>\n",
       "      <th>city</th>\n",
       "      <th>state</th>\n",
       "    </tr>\n",
       "  </thead>\n",
       "  <tbody>\n",
       "    <tr>\n",
       "      <th>1</th>\n",
       "      <td>Phoenix</td>\n",
       "      <td>AZ</td>\n",
       "    </tr>\n",
       "    <tr>\n",
       "      <th>3</th>\n",
       "      <td>Phoenix</td>\n",
       "      <td>AZ</td>\n",
       "    </tr>\n",
       "    <tr>\n",
       "      <th>5</th>\n",
       "      <td>Avondale</td>\n",
       "      <td>AZ</td>\n",
       "    </tr>\n",
       "    <tr>\n",
       "      <th>6</th>\n",
       "      <td>Pittsburgh</td>\n",
       "      <td>PA</td>\n",
       "    </tr>\n",
       "    <tr>\n",
       "      <th>7</th>\n",
       "      <td>Phoenix</td>\n",
       "      <td>AZ</td>\n",
       "    </tr>\n",
       "  </tbody>\n",
       "</table>\n",
       "</div>"
      ],
      "text/plain": [
       "         city state\n",
       "1     Phoenix    AZ\n",
       "3     Phoenix    AZ\n",
       "5    Avondale    AZ\n",
       "6  Pittsburgh    PA\n",
       "7     Phoenix    AZ"
      ]
     },
     "execution_count": 55,
     "metadata": {},
     "output_type": "execute_result"
    }
   ],
   "source": [
    "business[['city','state']].head()"
   ]
  },
  {
   "cell_type": "code",
   "execution_count": 56,
   "metadata": {},
   "outputs": [],
   "source": [
    "business.city = business.city.str.lower()"
   ]
  },
  {
   "cell_type": "code",
   "execution_count": 57,
   "metadata": {},
   "outputs": [],
   "source": [
    "business = pd.merge(business, cities, left_on=['city','state'], right_on=['city','state_id'], how='left')"
   ]
  },
  {
   "cell_type": "code",
   "execution_count": 58,
   "metadata": {},
   "outputs": [
    {
     "name": "stdout",
     "output_type": "stream",
     "text": [
      "<class 'pandas.core.frame.DataFrame'>\n",
      "Int64Index: 116250 entries, 0 to 116249\n",
      "Data columns (total 70 columns):\n",
      "is_open                                  116250 non-null int64\n",
      "hours.Monday                             88221 non-null object\n",
      "attributes.BusinessAcceptsCreditCards    91682 non-null object\n",
      "hours.Tuesday                            91915 non-null object\n",
      "attributes.HappyHour                     4928 non-null object\n",
      "attributes.Ambience                      22337 non-null object\n",
      "attributes.NoiseLevel                    19810 non-null object\n",
      "hours.Wednesday                          92410 non-null object\n",
      "attributes.GoodForKids                   32013 non-null object\n",
      "attributes.AgesAllowed                   154 non-null object\n",
      "neighborhood                             33043 non-null object\n",
      "attributes.Corkage                       429 non-null object\n",
      "categories                               115856 non-null object\n",
      "attributes.AcceptsInsurance              9926 non-null object\n",
      "attributes.Alcohol                       21965 non-null object\n",
      "attributes.WiFi                          24500 non-null object\n",
      "attributes.Music                         4522 non-null object\n",
      "attributes.RestaurantsReservations       23312 non-null object\n",
      "postal_code                              115866 non-null object\n",
      "attributes.HairSpecializesIn             1320 non-null object\n",
      "name                                     116250 non-null object\n",
      "longitude                                116247 non-null float64\n",
      "attributes.BikeParking                   51211 non-null object\n",
      "attributes.RestaurantsTableService       18931 non-null object\n",
      "attributes.RestaurantsDelivery           23710 non-null object\n",
      "attributes.RestaurantsTakeOut            28821 non-null object\n",
      "hours.Friday                             92013 non-null object\n",
      "attributes.RestaurantsPriceRange2        55482 non-null float64\n",
      "attributes.DriveThru                     4441 non-null object\n",
      "city                                     116244 non-null object\n",
      "attributes.DogsAllowed                   7629 non-null object\n",
      "attributes.GoodForMeal                   21347 non-null object\n",
      "attributes.RestaurantsCounterService     264 non-null object\n",
      "attributes.DietaryRestrictions           69 non-null object\n",
      "latitude                                 116247 non-null float64\n",
      "attributes                               99085 non-null object\n",
      "attributes.BusinessParking               55684 non-null object\n",
      "stars                                    116250 non-null category\n",
      "business_id                              116250 non-null object\n",
      "attributes.BestNights                    3588 non-null object\n",
      "address                                  109771 non-null object\n",
      "attributes.ByAppointmentOnly             35233 non-null object\n",
      "attributes.BYOB                          560 non-null object\n",
      "attributes.BusinessAcceptsBitcoin        11418 non-null object\n",
      "attributes.BYOBCorkage                   878 non-null object\n",
      "attributes.Caters                        21616 non-null object\n",
      "attributes.Open24Hours                   230 non-null object\n",
      "attributes.HasTV                         22149 non-null object\n",
      "attributes.OutdoorSeating                24023 non-null object\n",
      "hours.Sunday                             56605 non-null object\n",
      "attributes.GoodForDancing                4820 non-null object\n",
      "attributes.WheelchairAccessible          29678 non-null object\n",
      "attributes.RestaurantsGoodForGroups      23709 non-null object\n",
      "attributes.Smoking                       4026 non-null object\n",
      "attributes.CoatCheck                     4349 non-null object\n",
      "hours.Saturday                           78403 non-null object\n",
      "review_count                             116250 non-null int64\n",
      "hours.Thursday                           92618 non-null object\n",
      "state                                    116250 non-null object\n",
      "hours                                    93521 non-null object\n",
      "attributes.RestaurantsAttire             21043 non-null object\n",
      "census_region                            116250 non-null float64\n",
      "census_division                          116250 non-null float64\n",
      "state_id                                 115118 non-null object\n",
      "state_name                               115118 non-null object\n",
      "county_name                              115118 non-null object\n",
      "population                               113558 non-null float64\n",
      "population_proper                        113558 non-null float64\n",
      "density                                  115118 non-null float64\n",
      "zips                                     115118 non-null object\n",
      "dtypes: category(1), float64(8), int64(2), object(59)\n",
      "memory usage: 62.2+ MB\n"
     ]
    }
   ],
   "source": [
    "business.info()"
   ]
  },
  {
   "cell_type": "code",
   "execution_count": 59,
   "metadata": {},
   "outputs": [
    {
     "data": {
      "text/html": [
       "<div>\n",
       "<style scoped>\n",
       "    .dataframe tbody tr th:only-of-type {\n",
       "        vertical-align: middle;\n",
       "    }\n",
       "\n",
       "    .dataframe tbody tr th {\n",
       "        vertical-align: top;\n",
       "    }\n",
       "\n",
       "    .dataframe thead th {\n",
       "        text-align: right;\n",
       "    }\n",
       "</style>\n",
       "<table border=\"1\" class=\"dataframe\">\n",
       "  <thead>\n",
       "    <tr style=\"text-align: right;\">\n",
       "      <th></th>\n",
       "      <th>city</th>\n",
       "      <th>state</th>\n",
       "    </tr>\n",
       "  </thead>\n",
       "  <tbody>\n",
       "    <tr>\n",
       "      <th>23</th>\n",
       "      <td>upper st clair</td>\n",
       "      <td>PA</td>\n",
       "    </tr>\n",
       "    <tr>\n",
       "      <th>116</th>\n",
       "      <td>laveen village</td>\n",
       "      <td>AZ</td>\n",
       "    </tr>\n",
       "    <tr>\n",
       "      <th>263</th>\n",
       "      <td>maricopa county</td>\n",
       "      <td>AZ</td>\n",
       "    </tr>\n",
       "    <tr>\n",
       "      <th>265</th>\n",
       "      <td>waddell</td>\n",
       "      <td>AZ</td>\n",
       "    </tr>\n",
       "    <tr>\n",
       "      <th>327</th>\n",
       "      <td>moon twp</td>\n",
       "      <td>PA</td>\n",
       "    </tr>\n",
       "  </tbody>\n",
       "</table>\n",
       "</div>"
      ],
      "text/plain": [
       "                city state\n",
       "23    upper st clair    PA\n",
       "116   laveen village    AZ\n",
       "263  maricopa county    AZ\n",
       "265          waddell    AZ\n",
       "327         moon twp    PA"
      ]
     },
     "execution_count": 59,
     "metadata": {},
     "output_type": "execute_result"
    }
   ],
   "source": [
    "business[business.state_id.isna()][['city','state']].head()"
   ]
  },
  {
   "cell_type": "code",
   "execution_count": 60,
   "metadata": {},
   "outputs": [
    {
     "data": {
      "text/html": [
       "<div>\n",
       "<style scoped>\n",
       "    .dataframe tbody tr th:only-of-type {\n",
       "        vertical-align: middle;\n",
       "    }\n",
       "\n",
       "    .dataframe tbody tr th {\n",
       "        vertical-align: top;\n",
       "    }\n",
       "\n",
       "    .dataframe thead th {\n",
       "        text-align: right;\n",
       "    }\n",
       "</style>\n",
       "<table border=\"1\" class=\"dataframe\">\n",
       "  <thead>\n",
       "    <tr style=\"text-align: right;\">\n",
       "      <th></th>\n",
       "      <th>city</th>\n",
       "      <th>state_id</th>\n",
       "      <th>state</th>\n",
       "    </tr>\n",
       "  </thead>\n",
       "  <tbody>\n",
       "    <tr>\n",
       "      <th>15775</th>\n",
       "      <td>montreal</td>\n",
       "      <td>NaN</td>\n",
       "      <td>CA</td>\n",
       "    </tr>\n",
       "    <tr>\n",
       "      <th>19158</th>\n",
       "      <td>las vegas</td>\n",
       "      <td>NaN</td>\n",
       "      <td>CA</td>\n",
       "    </tr>\n",
       "    <tr>\n",
       "      <th>28948</th>\n",
       "      <td>suite 120</td>\n",
       "      <td>NaN</td>\n",
       "      <td>CA</td>\n",
       "    </tr>\n",
       "    <tr>\n",
       "      <th>34174</th>\n",
       "      <td>pittsburgh</td>\n",
       "      <td>NaN</td>\n",
       "      <td>CA</td>\n",
       "    </tr>\n",
       "    <tr>\n",
       "      <th>43839</th>\n",
       "      <td>las vegas</td>\n",
       "      <td>NaN</td>\n",
       "      <td>CA</td>\n",
       "    </tr>\n",
       "    <tr>\n",
       "      <th>83363</th>\n",
       "      <td>las vegas nv</td>\n",
       "      <td>NaN</td>\n",
       "      <td>CA</td>\n",
       "    </tr>\n",
       "    <tr>\n",
       "      <th>100454</th>\n",
       "      <td>las vegas</td>\n",
       "      <td>NaN</td>\n",
       "      <td>CA</td>\n",
       "    </tr>\n",
       "  </tbody>\n",
       "</table>\n",
       "</div>"
      ],
      "text/plain": [
       "                city state_id state\n",
       "15775       montreal      NaN    CA\n",
       "19158      las vegas      NaN    CA\n",
       "28948      suite 120      NaN    CA\n",
       "34174     pittsburgh      NaN    CA\n",
       "43839      las vegas      NaN    CA\n",
       "83363   las vegas nv      NaN    CA\n",
       "100454     las vegas      NaN    CA"
      ]
     },
     "execution_count": 60,
     "metadata": {},
     "output_type": "execute_result"
    }
   ],
   "source": [
    "business[business.state == 'CA'][['city','state_id','state']]"
   ]
  },
  {
   "cell_type": "markdown",
   "metadata": {},
   "source": [
    "There are some obvious errors like marking Las Vegas in CA or marking Charlotte as in South Carolina and some typos like 'pittsburg' instead of 'pittsburgh'. Instead of going into fixing the errors, we will drop these very few rows for now. "
   ]
  },
  {
   "cell_type": "code",
   "execution_count": 61,
   "metadata": {},
   "outputs": [],
   "source": [
    "business = business[pd.notnull(business.state_id)]"
   ]
  },
  {
   "cell_type": "code",
   "execution_count": 62,
   "metadata": {},
   "outputs": [],
   "source": [
    "business = business.drop(['state_id'], axis=1)"
   ]
  },
  {
   "cell_type": "code",
   "execution_count": 63,
   "metadata": {},
   "outputs": [
    {
     "name": "stdout",
     "output_type": "stream",
     "text": [
      "<class 'pandas.core.frame.DataFrame'>\n",
      "Int64Index: 115118 entries, 0 to 116249\n",
      "Data columns (total 69 columns):\n",
      "is_open                                  115118 non-null int64\n",
      "hours.Monday                             87417 non-null object\n",
      "attributes.BusinessAcceptsCreditCards    90809 non-null object\n",
      "hours.Tuesday                            91076 non-null object\n",
      "attributes.HappyHour                     4867 non-null object\n",
      "attributes.Ambience                      22072 non-null object\n",
      "attributes.NoiseLevel                    19579 non-null object\n",
      "hours.Wednesday                          91564 non-null object\n",
      "attributes.GoodForKids                   31607 non-null object\n",
      "attributes.AgesAllowed                   152 non-null object\n",
      "neighborhood                             32945 non-null object\n",
      "attributes.Corkage                       427 non-null object\n",
      "categories                               114726 non-null object\n",
      "attributes.AcceptsInsurance              9888 non-null object\n",
      "attributes.Alcohol                       21711 non-null object\n",
      "attributes.WiFi                          24235 non-null object\n",
      "attributes.Music                         4473 non-null object\n",
      "attributes.RestaurantsReservations       23007 non-null object\n",
      "postal_code                              114753 non-null object\n",
      "attributes.HairSpecializesIn             1314 non-null object\n",
      "name                                     115118 non-null object\n",
      "longitude                                115115 non-null float64\n",
      "attributes.BikeParking                   50721 non-null object\n",
      "attributes.RestaurantsTableService       18702 non-null object\n",
      "attributes.RestaurantsDelivery           23407 non-null object\n",
      "attributes.RestaurantsTakeOut            28463 non-null object\n",
      "hours.Friday                             91171 non-null object\n",
      "attributes.RestaurantsPriceRange2        54917 non-null float64\n",
      "attributes.DriveThru                     4382 non-null object\n",
      "city                                     115118 non-null object\n",
      "attributes.DogsAllowed                   7554 non-null object\n",
      "attributes.GoodForMeal                   21083 non-null object\n",
      "attributes.RestaurantsCounterService     263 non-null object\n",
      "attributes.DietaryRestrictions           69 non-null object\n",
      "latitude                                 115115 non-null float64\n",
      "attributes                               98113 non-null object\n",
      "attributes.BusinessParking               55120 non-null object\n",
      "stars                                    115118 non-null category\n",
      "business_id                              115118 non-null object\n",
      "attributes.BestNights                    3556 non-null object\n",
      "address                                  108721 non-null object\n",
      "attributes.ByAppointmentOnly             35016 non-null object\n",
      "attributes.BYOB                          557 non-null object\n",
      "attributes.BusinessAcceptsBitcoin        11324 non-null object\n",
      "attributes.BYOBCorkage                   875 non-null object\n",
      "attributes.Caters                        21389 non-null object\n",
      "attributes.Open24Hours                   228 non-null object\n",
      "attributes.HasTV                         21877 non-null object\n",
      "attributes.OutdoorSeating                23731 non-null object\n",
      "hours.Sunday                             56038 non-null object\n",
      "attributes.GoodForDancing                4763 non-null object\n",
      "attributes.WheelchairAccessible          29453 non-null object\n",
      "attributes.RestaurantsGoodForGroups      23397 non-null object\n",
      "attributes.Smoking                       3988 non-null object\n",
      "attributes.CoatCheck                     4301 non-null object\n",
      "hours.Saturday                           77631 non-null object\n",
      "review_count                             115118 non-null int64\n",
      "hours.Thursday                           91773 non-null object\n",
      "state                                    115118 non-null object\n",
      "hours                                    92664 non-null object\n",
      "attributes.RestaurantsAttire             20768 non-null object\n",
      "census_region                            115118 non-null float64\n",
      "census_division                          115118 non-null float64\n",
      "state_name                               115118 non-null object\n",
      "county_name                              115118 non-null object\n",
      "population                               113558 non-null float64\n",
      "population_proper                        113558 non-null float64\n",
      "density                                  115118 non-null float64\n",
      "zips                                     115118 non-null object\n",
      "dtypes: category(1), float64(8), int64(2), object(58)\n",
      "memory usage: 60.7+ MB\n"
     ]
    }
   ],
   "source": [
    "business.info()"
   ]
  },
  {
   "cell_type": "code",
   "execution_count": 64,
   "metadata": {},
   "outputs": [
    {
     "data": {
      "text/plain": [
       "False    115118\n",
       "Name: city, dtype: int64"
      ]
     },
     "execution_count": 64,
     "metadata": {},
     "output_type": "execute_result"
    }
   ],
   "source": [
    "business.city.isnull().value_counts()"
   ]
  },
  {
   "cell_type": "code",
   "execution_count": 65,
   "metadata": {},
   "outputs": [
    {
     "data": {
      "text/plain": [
       "False    115118\n",
       "Name: state, dtype: int64"
      ]
     },
     "execution_count": 65,
     "metadata": {},
     "output_type": "execute_result"
    }
   ],
   "source": [
    "business.state.isnull().value_counts()"
   ]
  },
  {
   "cell_type": "code",
   "execution_count": 66,
   "metadata": {},
   "outputs": [
    {
     "data": {
      "text/plain": [
       "las vegas           23562\n",
       "phoenix             15469\n",
       "charlotte            7740\n",
       "scottsdale           7138\n",
       "pittsburgh           5613\n",
       "mesa                 5469\n",
       "henderson            3982\n",
       "tempe                3569\n",
       "chandler             3518\n",
       "gilbert              2937\n",
       "glendale             2928\n",
       "cleveland            2893\n",
       "madison              2843\n",
       "peoria               1631\n",
       "north las vegas      1285\n",
       "champaign             996\n",
       "surprise              984\n",
       "concord               745\n",
       "goodyear              732\n",
       "matthews              598\n",
       "avondale              567\n",
       "huntersville          526\n",
       "fort mill             520\n",
       "gastonia              450\n",
       "lakewood              415\n",
       "mentor                395\n",
       "cornelius             388\n",
       "cave creek            340\n",
       "monroeville           337\n",
       "urbana                322\n",
       "                    ...  \n",
       "mooers                  1\n",
       "ranlo                   1\n",
       "ingram                  1\n",
       "paw creek               1\n",
       "harwick                 1\n",
       "larimer                 1\n",
       "bratenahl               1\n",
       "fox chapel              1\n",
       "rosewood                1\n",
       "rankin                  1\n",
       "auburn                  1\n",
       "argos                   1\n",
       "port vue                1\n",
       "shorewood hills         1\n",
       "broadlands              1\n",
       "whitney                 1\n",
       "edgeworth               1\n",
       "fithian                 1\n",
       "newburgh heights        1\n",
       "thomasboro              1\n",
       "gifford                 1\n",
       "ben avon                1\n",
       "camargo                 1\n",
       "green tree              1\n",
       "lawrence                1\n",
       "elrama                  1\n",
       "lake park               1\n",
       "forest grove            1\n",
       "mansfield               1\n",
       "tolono                  1\n",
       "Name: city, Length: 346, dtype: int64"
      ]
     },
     "execution_count": 66,
     "metadata": {},
     "output_type": "execute_result"
    }
   ],
   "source": [
    "business.city.value_counts()"
   ]
  },
  {
   "cell_type": "markdown",
   "metadata": {},
   "source": [
    "## 5. review_count feature"
   ]
  },
  {
   "cell_type": "code",
   "execution_count": 67,
   "metadata": {},
   "outputs": [
    {
     "data": {
      "text/plain": [
       "count    115118.000000\n",
       "mean         38.221382\n",
       "std         124.272411\n",
       "min           3.000000\n",
       "25%           4.000000\n",
       "50%          10.000000\n",
       "75%          28.000000\n",
       "max        7968.000000\n",
       "Name: review_count, dtype: float64"
      ]
     },
     "execution_count": 67,
     "metadata": {},
     "output_type": "execute_result"
    }
   ],
   "source": [
    "business.review_count.describe()"
   ]
  },
  {
   "cell_type": "code",
   "execution_count": 68,
   "metadata": {},
   "outputs": [
    {
     "data": {
      "image/png": "[encoded data removed]",
      "text/plain": [
       "<Figure size 432x288 with 1 Axes>"
      ]
     },
     "metadata": {},
     "output_type": "display_data"
    }
   ],
   "source": [
    "sns_plot = sns.boxplot(x = \"stars\", y = \"review_count\", data=business)\n",
    "sns_plot.figure.savefig(\"review-count-boxplot.png\")"
   ]
  },
  {
   "cell_type": "code",
   "execution_count": 69,
   "metadata": {},
   "outputs": [
    {
     "name": "stderr",
     "output_type": "stream",
     "text": [
      "/Users/amangal/anaconda3/lib/python3.6/site-packages/scipy/stats/stats.py:1713: FutureWarning: Using a non-tuple sequence for multidimensional indexing is deprecated; use `arr[tuple(seq)]` instead of `arr[seq]`. In the future this will be interpreted as an array index, `arr[np.array(seq)]`, which will result either in an error or a different result.\n",
      "  return np.add.reduce(sorted[indexer] * weights, axis=axis) / sumval\n"
     ]
    },
    {
     "data": {
      "image/png": "[encoded data removed]",
      "text/plain": [
       "<Figure size 432x288 with 1 Axes>"
      ]
     },
     "metadata": {},
     "output_type": "display_data"
    }
   ],
   "source": [
    "sns_plot = sns.distplot(business.review_count)\n",
    "sns_plot.figure.savefig(\"review-count-distplot.png\")"
   ]
  },
  {
   "cell_type": "code",
   "execution_count": 70,
   "metadata": {},
   "outputs": [
    {
     "data": {
      "text/plain": [
       "0.7500      28.0000\n",
       "0.9000      80.0000\n",
       "0.9500     151.0000\n",
       "0.9900     459.0000\n",
       "0.9990    1555.6490\n",
       "0.9999    3736.8596\n",
       "Name: review_count, dtype: float64"
      ]
     },
     "execution_count": 70,
     "metadata": {},
     "output_type": "execute_result"
    }
   ],
   "source": [
    "business.review_count.quantile([.75, .9, .95, .99, .999, .9999])"
   ]
  },
  {
   "cell_type": "code",
   "execution_count": 71,
   "metadata": {},
   "outputs": [
    {
     "data": {
      "text/plain": [
       "17.42100553694458"
      ]
     },
     "execution_count": 71,
     "metadata": {},
     "output_type": "execute_result"
    }
   ],
   "source": [
    "business.review_count.skew()"
   ]
  },
  {
   "cell_type": "markdown",
   "metadata": {},
   "source": [
    "There's heavy positive skew in the review_count feature, lets see if this valid data or not."
   ]
  },
  {
   "cell_type": "code",
   "execution_count": 72,
   "metadata": {},
   "outputs": [
    {
     "data": {
      "text/plain": [
       "is_open                                                                                  1\n",
       "hours.Monday                                                                      7:0-23:0\n",
       "attributes.BusinessAcceptsCreditCards                                                 True\n",
       "hours.Tuesday                                                                     7:0-23:0\n",
       "attributes.HappyHour                                                                   NaN\n",
       "attributes.Ambience                      {'romantic': True, 'intimate': False, 'classy'...\n",
       "attributes.NoiseLevel                                                              average\n",
       "hours.Wednesday                                                                   7:0-23:0\n",
       "attributes.GoodForKids                                                                True\n",
       "attributes.AgesAllowed                                                                 NaN\n",
       "neighborhood                                                                     The Strip\n",
       "attributes.Corkage                                                                    True\n",
       "categories                               Steakhouses, Breakfast & Brunch, Restaurants, ...\n",
       "attributes.AcceptsInsurance                                                            NaN\n",
       "attributes.Alcohol                                                                full_bar\n",
       "attributes.WiFi                                                                         no\n",
       "attributes.Music                                                                       NaN\n",
       "attributes.RestaurantsReservations                                                    True\n",
       "postal_code                                                                          89109\n",
       "attributes.HairSpecializesIn                                                           NaN\n",
       "name                                                                          Mon Ami Gabi\n",
       "longitude                                                                         -115.173\n",
       "attributes.BikeParking                                                               False\n",
       "attributes.RestaurantsTableService                                                    True\n",
       "attributes.RestaurantsDelivery                                                       False\n",
       "attributes.RestaurantsTakeOut                                                        False\n",
       "hours.Friday                                                                       7:0-0:0\n",
       "attributes.RestaurantsPriceRange2                                                        2\n",
       "attributes.DriveThru                                                                   NaN\n",
       "city                                                                             las vegas\n",
       "                                                               ...                        \n",
       "attributes.BestNights                                                                  NaN\n",
       "address                                                              3655 Las Vegas Blvd S\n",
       "attributes.ByAppointmentOnly                                                           NaN\n",
       "attributes.BYOB                                                                      False\n",
       "attributes.BusinessAcceptsBitcoin                                                      NaN\n",
       "attributes.BYOBCorkage                                                                  no\n",
       "attributes.Caters                                                                    False\n",
       "attributes.Open24Hours                                                               False\n",
       "attributes.HasTV                                                                     False\n",
       "attributes.OutdoorSeating                                                             True\n",
       "hours.Sunday                                                                      7:0-23:0\n",
       "attributes.GoodForDancing                                                              NaN\n",
       "attributes.WheelchairAccessible                                                       True\n",
       "attributes.RestaurantsGoodForGroups                                                   True\n",
       "attributes.Smoking                                                                     NaN\n",
       "attributes.CoatCheck                                                                   NaN\n",
       "hours.Saturday                                                                     7:0-0:0\n",
       "review_count                                                                          7968\n",
       "hours.Thursday                                                                    7:0-23:0\n",
       "state                                                                                   NV\n",
       "hours                                    {'Monday': '7:0-23:0', 'Tuesday': '7:0-23:0', ...\n",
       "attributes.RestaurantsAttire                                                        casual\n",
       "census_region                                                                            4\n",
       "census_division                                                                          8\n",
       "state_name                                                                          Nevada\n",
       "county_name                                                                          Clark\n",
       "population                                                                     2.04473e+06\n",
       "population_proper                                                                   632912\n",
       "density                                                                               1829\n",
       "zips                                     89149 89107 89106 89104 89102 89101 89108 8913...\n",
       "Name: 84083, Length: 69, dtype: object"
      ]
     },
     "execution_count": 72,
     "metadata": {},
     "output_type": "execute_result"
    }
   ],
   "source": [
    "business.sort_values(by=['review_count'], ascending=False).iloc[0]"
   ]
  },
  {
   "cell_type": "markdown",
   "metadata": {},
   "source": [
    "Manually validated from yelp the top few businesses and their corresponding review counts. Looks good. Lets see if we can transform the feature to make it more gaussian and better distributed"
   ]
  },
  {
   "cell_type": "code",
   "execution_count": 73,
   "metadata": {},
   "outputs": [
    {
     "name": "stderr",
     "output_type": "stream",
     "text": [
      "/Users/amangal/anaconda3/lib/python3.6/site-packages/scipy/stats/stats.py:1713: FutureWarning: Using a non-tuple sequence for multidimensional indexing is deprecated; use `arr[tuple(seq)]` instead of `arr[seq]`. In the future this will be interpreted as an array index, `arr[np.array(seq)]`, which will result either in an error or a different result.\n",
      "  return np.add.reduce(sorted[indexer] * weights, axis=axis) / sumval\n"
     ]
    },
    {
     "data": {
      "image/png": "[encoded data removed]",
      "text/plain": [
       "<Figure size 432x288 with 1 Axes>"
      ]
     },
     "metadata": {},
     "output_type": "display_data"
    }
   ],
   "source": [
    "sns_plot = sns.distplot(np.log10(business.review_count))\n",
    "sns_plot.figure.savefig(\"log-review-count-distplot.png\")"
   ]
  },
  {
   "cell_type": "code",
   "execution_count": 74,
   "metadata": {},
   "outputs": [
    {
     "data": {
      "image/png": "[encoded data removed]",
      "text/plain": [
       "<Figure size 432x288 with 1 Axes>"
      ]
     },
     "metadata": {},
     "output_type": "display_data"
    }
   ],
   "source": [
    "sns_plot = sns.boxplot(x=business.stars, y=np.log10(business.review_count))\n",
    "sns_plot.figure.savefig(\"log-review-count-boxplot.png\")"
   ]
  },
  {
   "cell_type": "markdown",
   "metadata": {},
   "source": [
    "As we see above, there are usually lesser number of reviews for very low and very high ratings. The inter-quartile range is similar for each of them which implies people generally have concensus on a business' star ratings. The more common star ratings, i.e. 3-4.5 have higher median number of review counts. "
   ]
  },
  {
   "cell_type": "code",
   "execution_count": 55,
   "metadata": {},
   "outputs": [
    {
     "data": {
      "text/plain": [
       "0.9148509346237852"
      ]
     },
     "execution_count": 55,
     "metadata": {},
     "output_type": "execute_result"
    }
   ],
   "source": [
    "np.log10(business.review_count).skew()"
   ]
  },
  {
   "cell_type": "markdown",
   "metadata": {},
   "source": [
    "Log10 transform of review counts looks like a good valid feature to have. Keeping the transform. Making sure correlation with 'stars' remains unaffected before doing the transform."
   ]
  },
  {
   "cell_type": "code",
   "execution_count": 56,
   "metadata": {},
   "outputs": [
    {
     "data": {
      "text/plain": [
       "0.021186980095157702"
      ]
     },
     "execution_count": 56,
     "metadata": {},
     "output_type": "execute_result"
    }
   ],
   "source": [
    "business.stars.corr(business.review_count)"
   ]
  },
  {
   "cell_type": "code",
   "execution_count": 57,
   "metadata": {},
   "outputs": [
    {
     "data": {
      "text/plain": [
       "0.024090286842396055"
      ]
     },
     "execution_count": 57,
     "metadata": {},
     "output_type": "execute_result"
    }
   ],
   "source": [
    "business.stars.corr(np.log10(business.review_count))"
   ]
  },
  {
   "cell_type": "code",
   "execution_count": 58,
   "metadata": {},
   "outputs": [],
   "source": [
    "business.review_count = np.log10(business.review_count)"
   ]
  },
  {
   "cell_type": "code",
   "execution_count": 59,
   "metadata": {},
   "outputs": [
    {
     "data": {
      "text/plain": [
       "False    115118\n",
       "Name: review_count, dtype: int64"
      ]
     },
     "execution_count": 59,
     "metadata": {},
     "output_type": "execute_result"
    }
   ],
   "source": [
    "business.review_count.isnull().value_counts()"
   ]
  },
  {
   "cell_type": "markdown",
   "metadata": {},
   "source": [
    "## 6. name feature"
   ]
  },
  {
   "cell_type": "code",
   "execution_count": 60,
   "metadata": {},
   "outputs": [
    {
     "data": {
      "text/plain": [
       "0               Geico Insurance\n",
       "1    The Coffee Bean & Tea Leaf\n",
       "2      Filiberto's Mexican Food\n",
       "3       Maggie & Stella's Gifts\n",
       "4      Original Hamburger Works\n",
       "Name: name, dtype: object"
      ]
     },
     "execution_count": 60,
     "metadata": {},
     "output_type": "execute_result"
    }
   ],
   "source": [
    "business.name.head()"
   ]
  },
  {
   "cell_type": "code",
   "execution_count": 61,
   "metadata": {},
   "outputs": [
    {
     "data": {
      "text/plain": [
       "False    115118\n",
       "Name: name, dtype: int64"
      ]
     },
     "execution_count": 61,
     "metadata": {},
     "output_type": "execute_result"
    }
   ],
   "source": [
    "business.name.isnull().value_counts()"
   ]
  },
  {
   "cell_type": "code",
   "execution_count": 62,
   "metadata": {},
   "outputs": [],
   "source": [
    "business.name = business.name.str.lower()"
   ]
  },
  {
   "cell_type": "markdown",
   "metadata": {},
   "source": [
    "## 7. neighborhood feature"
   ]
  },
  {
   "cell_type": "code",
   "execution_count": 63,
   "metadata": {},
   "outputs": [
    {
     "data": {
      "text/plain": [
       "0        NaN\n",
       "1        NaN\n",
       "2        NaN\n",
       "3    Oakland\n",
       "4        NaN\n",
       "Name: neighborhood, dtype: object"
      ]
     },
     "execution_count": 63,
     "metadata": {},
     "output_type": "execute_result"
    }
   ],
   "source": [
    "business.neighborhood.head()"
   ]
  },
  {
   "cell_type": "code",
   "execution_count": 64,
   "metadata": {},
   "outputs": [
    {
     "data": {
      "text/html": [
       "<div>\n",
       "<style scoped>\n",
       "    .dataframe tbody tr th:only-of-type {\n",
       "        vertical-align: middle;\n",
       "    }\n",
       "\n",
       "    .dataframe tbody tr th {\n",
       "        vertical-align: top;\n",
       "    }\n",
       "\n",
       "    .dataframe thead th {\n",
       "        text-align: right;\n",
       "    }\n",
       "</style>\n",
       "<table border=\"1\" class=\"dataframe\">\n",
       "  <thead>\n",
       "    <tr style=\"text-align: right;\">\n",
       "      <th></th>\n",
       "      <th>city</th>\n",
       "      <th>neighborhood</th>\n",
       "      <th>address</th>\n",
       "      <th>name</th>\n",
       "      <th>postal_code</th>\n",
       "    </tr>\n",
       "  </thead>\n",
       "  <tbody>\n",
       "    <tr>\n",
       "      <th>0</th>\n",
       "      <td>phoenix</td>\n",
       "      <td>NaN</td>\n",
       "      <td>211 W Monroe St</td>\n",
       "      <td>geico insurance</td>\n",
       "      <td>85003</td>\n",
       "    </tr>\n",
       "    <tr>\n",
       "      <th>1</th>\n",
       "      <td>phoenix</td>\n",
       "      <td>NaN</td>\n",
       "      <td>20235 N Cave Creek Rd, Ste 1115</td>\n",
       "      <td>the coffee bean &amp; tea leaf</td>\n",
       "      <td>85024</td>\n",
       "    </tr>\n",
       "    <tr>\n",
       "      <th>2</th>\n",
       "      <td>avondale</td>\n",
       "      <td>NaN</td>\n",
       "      <td>1440 N. Dysart Ave</td>\n",
       "      <td>filiberto's mexican food</td>\n",
       "      <td>85323</td>\n",
       "    </tr>\n",
       "    <tr>\n",
       "      <th>3</th>\n",
       "      <td>pittsburgh</td>\n",
       "      <td>Oakland</td>\n",
       "      <td>209 Oakland Ave</td>\n",
       "      <td>maggie &amp; stella's gifts</td>\n",
       "      <td>15213</td>\n",
       "    </tr>\n",
       "    <tr>\n",
       "      <th>4</th>\n",
       "      <td>phoenix</td>\n",
       "      <td>NaN</td>\n",
       "      <td>2801 N 15th Ave</td>\n",
       "      <td>original hamburger works</td>\n",
       "      <td>85007</td>\n",
       "    </tr>\n",
       "  </tbody>\n",
       "</table>\n",
       "</div>"
      ],
      "text/plain": [
       "         city neighborhood                          address  \\\n",
       "0     phoenix          NaN                  211 W Monroe St   \n",
       "1     phoenix          NaN  20235 N Cave Creek Rd, Ste 1115   \n",
       "2    avondale          NaN               1440 N. Dysart Ave   \n",
       "3  pittsburgh      Oakland                  209 Oakland Ave   \n",
       "4     phoenix          NaN                  2801 N 15th Ave   \n",
       "\n",
       "                         name postal_code  \n",
       "0             geico insurance       85003  \n",
       "1  the coffee bean & tea leaf       85024  \n",
       "2    filiberto's mexican food       85323  \n",
       "3     maggie & stella's gifts       15213  \n",
       "4    original hamburger works       85007  "
      ]
     },
     "execution_count": 64,
     "metadata": {},
     "output_type": "execute_result"
    }
   ],
   "source": [
    "business[['city','neighborhood','address','name','postal_code']].head()"
   ]
  },
  {
   "cell_type": "code",
   "execution_count": 65,
   "metadata": {},
   "outputs": [
    {
     "data": {
      "text/plain": [
       "True     82173\n",
       "False    32945\n",
       "Name: neighborhood, dtype: int64"
      ]
     },
     "execution_count": 65,
     "metadata": {},
     "output_type": "execute_result"
    }
   ],
   "source": [
    "business.neighborhood.isnull().value_counts()"
   ]
  },
  {
   "cell_type": "code",
   "execution_count": 66,
   "metadata": {},
   "outputs": [
    {
     "data": {
      "text/plain": [
       "city            neighborhood     \n",
       "aspinwall       Aspinwall             15\n",
       "avalon          Avalon                 4\n",
       "                Bellevue               1\n",
       "bainbridge      Riverside              1\n",
       "bellevue        Bellevue              28\n",
       "ben avon        Ben Avon               1\n",
       "boulder city    Southeast              1\n",
       "                Spring Valley          1\n",
       "brook park      Riverside              1\n",
       "brooklyn        Brooklyn Acres         2\n",
       "                Cascade Crossing      17\n",
       "                Old Brooklyn           1\n",
       "                Ridge & Memphis        6\n",
       "carnegie        Carnegie              52\n",
       "                East Carnegie          2\n",
       "                Greentree              2\n",
       "charlotte       Arboretum             89\n",
       "                Ballantyne           480\n",
       "                Biddleville           54\n",
       "                Cotswold             143\n",
       "                Derita               121\n",
       "                Dilworth             171\n",
       "                Eastland             388\n",
       "                Elizabeth            330\n",
       "                First Ward            90\n",
       "                Fourth Ward           52\n",
       "                Hampden                1\n",
       "                Highland Creek       142\n",
       "                Myers Park           140\n",
       "                NoDa                 131\n",
       "                                    ... \n",
       "pittsburgh      Point Breeze          38\n",
       "                Polish Hill           15\n",
       "                Regent Square          3\n",
       "                Sewickley              4\n",
       "                Shadyside            263\n",
       "                Sharpsburg            19\n",
       "                Sheraden               6\n",
       "                South Side           353\n",
       "                South Side Slopes      7\n",
       "                Squirrel Hill        253\n",
       "                Stanton Heights        2\n",
       "                Strip District       180\n",
       "                The Hill District     50\n",
       "                Troy Hill             17\n",
       "                West End              45\n",
       "                West View              1\n",
       "                Windgap                2\n",
       "rocky river     Detroit-Shoreway       1\n",
       "sewickley       Sewickley             81\n",
       "sharpsburg      Aspinwall              2\n",
       "                Sharpsburg             6\n",
       "solon           Civic Center           1\n",
       "spring valley   Chinatown              1\n",
       "                Spring Valley          2\n",
       "                Westside               1\n",
       "verona          Hawk's Landing         3\n",
       "west homestead  Homestead             18\n",
       "westlake        Jefferson              1\n",
       "wexford         Duquesne Heights       1\n",
       "whitney         Southeast              1\n",
       "Name: business_id, Length: 320, dtype: int64"
      ]
     },
     "execution_count": 66,
     "metadata": {},
     "output_type": "execute_result"
    }
   ],
   "source": [
    "business.groupby(['city','neighborhood'])['business_id'].count()"
   ]
  },
  {
   "cell_type": "markdown",
   "metadata": {},
   "source": [
    "Instead of replacing neighborhoods with the most common neighborhood, I'm replacing NAs with a generic 'NOT_AVAILABLE' value."
   ]
  },
  {
   "cell_type": "code",
   "execution_count": 67,
   "metadata": {},
   "outputs": [],
   "source": [
    "business.neighborhood = business.neighborhood.fillna('NOT_AVAILABLE')"
   ]
  },
  {
   "cell_type": "code",
   "execution_count": 68,
   "metadata": {},
   "outputs": [],
   "source": [
    "business.neighborhood = business.neighborhood.str.lower()"
   ]
  },
  {
   "cell_type": "code",
   "execution_count": 69,
   "metadata": {},
   "outputs": [
    {
     "data": {
      "text/plain": [
       "False    115118\n",
       "Name: neighborhood, dtype: int64"
      ]
     },
     "execution_count": 69,
     "metadata": {},
     "output_type": "execute_result"
    }
   ],
   "source": [
    "business.neighborhood.isnull().value_counts()"
   ]
  },
  {
   "cell_type": "markdown",
   "metadata": {},
   "source": [
    "## 8. postal_code feature"
   ]
  },
  {
   "cell_type": "code",
   "execution_count": 70,
   "metadata": {},
   "outputs": [
    {
     "data": {
      "text/plain": [
       "0    85003\n",
       "1    85024\n",
       "2    85323\n",
       "3    15213\n",
       "4    85007\n",
       "Name: postal_code, dtype: object"
      ]
     },
     "execution_count": 70,
     "metadata": {},
     "output_type": "execute_result"
    }
   ],
   "source": [
    "business.postal_code.head()"
   ]
  },
  {
   "cell_type": "code",
   "execution_count": 71,
   "metadata": {},
   "outputs": [
    {
     "data": {
      "text/plain": [
       "False    114753\n",
       "True        365\n",
       "Name: postal_code, dtype: int64"
      ]
     },
     "execution_count": 71,
     "metadata": {},
     "output_type": "execute_result"
    }
   ],
   "source": [
    "business.postal_code.isnull().value_counts()"
   ]
  },
  {
   "cell_type": "code",
   "execution_count": 72,
   "metadata": {},
   "outputs": [
    {
     "data": {
      "text/html": [
       "<div>\n",
       "<style scoped>\n",
       "    .dataframe tbody tr th:only-of-type {\n",
       "        vertical-align: middle;\n",
       "    }\n",
       "\n",
       "    .dataframe tbody tr th {\n",
       "        vertical-align: top;\n",
       "    }\n",
       "\n",
       "    .dataframe thead th {\n",
       "        text-align: right;\n",
       "    }\n",
       "</style>\n",
       "<table border=\"1\" class=\"dataframe\">\n",
       "  <thead>\n",
       "    <tr style=\"text-align: right;\">\n",
       "      <th></th>\n",
       "      <th>name</th>\n",
       "      <th>address</th>\n",
       "      <th>city</th>\n",
       "      <th>state</th>\n",
       "    </tr>\n",
       "  </thead>\n",
       "  <tbody>\n",
       "    <tr>\n",
       "      <th>1421</th>\n",
       "      <td>cvs pharmacy</td>\n",
       "      <td>S Gilbert Rd</td>\n",
       "      <td>chandler</td>\n",
       "      <td>AZ</td>\n",
       "    </tr>\n",
       "    <tr>\n",
       "      <th>1494</th>\n",
       "      <td>dan the honeyman</td>\n",
       "      <td>NaN</td>\n",
       "      <td>peoria</td>\n",
       "      <td>AZ</td>\n",
       "    </tr>\n",
       "    <tr>\n",
       "      <th>1835</th>\n",
       "      <td>advantage brands</td>\n",
       "      <td>NaN</td>\n",
       "      <td>phoenix</td>\n",
       "      <td>AZ</td>\n",
       "    </tr>\n",
       "    <tr>\n",
       "      <th>2373</th>\n",
       "      <td>rosa mexicano</td>\n",
       "      <td>Archdale Dr</td>\n",
       "      <td>charlotte</td>\n",
       "      <td>NC</td>\n",
       "    </tr>\n",
       "    <tr>\n",
       "      <th>3632</th>\n",
       "      <td>xtreme cleaning az</td>\n",
       "      <td>NaN</td>\n",
       "      <td>phoenix</td>\n",
       "      <td>AZ</td>\n",
       "    </tr>\n",
       "  </tbody>\n",
       "</table>\n",
       "</div>"
      ],
      "text/plain": [
       "                    name       address       city state\n",
       "1421        cvs pharmacy  S Gilbert Rd   chandler    AZ\n",
       "1494    dan the honeyman           NaN     peoria    AZ\n",
       "1835    advantage brands           NaN    phoenix    AZ\n",
       "2373       rosa mexicano   Archdale Dr  charlotte    NC\n",
       "3632  xtreme cleaning az           NaN    phoenix    AZ"
      ]
     },
     "execution_count": 72,
     "metadata": {},
     "output_type": "execute_result"
    }
   ],
   "source": [
    "business[business.postal_code.isnull()][['name','address', 'city', 'state']].head()"
   ]
  },
  {
   "cell_type": "markdown",
   "metadata": {},
   "source": [
    "Checked on Yelp, looks like the businesses with NaN addresses actually have address missing on Yelp. e.g. https://www.yelp.com/biz/xtreme-cleaning-az-phoenix-2?osq=Xtreme+Cleaning+AZ"
   ]
  },
  {
   "cell_type": "code",
   "execution_count": 73,
   "metadata": {},
   "outputs": [
    {
     "data": {
      "text/html": [
       "<div>\n",
       "<style scoped>\n",
       "    .dataframe tbody tr th:only-of-type {\n",
       "        vertical-align: middle;\n",
       "    }\n",
       "\n",
       "    .dataframe tbody tr th {\n",
       "        vertical-align: top;\n",
       "    }\n",
       "\n",
       "    .dataframe thead th {\n",
       "        text-align: right;\n",
       "    }\n",
       "</style>\n",
       "<table border=\"1\" class=\"dataframe\">\n",
       "  <thead>\n",
       "    <tr style=\"text-align: right;\">\n",
       "      <th></th>\n",
       "      <th>name</th>\n",
       "      <th>address</th>\n",
       "      <th>city</th>\n",
       "      <th>state</th>\n",
       "    </tr>\n",
       "  </thead>\n",
       "  <tbody>\n",
       "    <tr>\n",
       "      <th>1421</th>\n",
       "      <td>cvs pharmacy</td>\n",
       "      <td>S Gilbert Rd</td>\n",
       "      <td>chandler</td>\n",
       "      <td>AZ</td>\n",
       "    </tr>\n",
       "    <tr>\n",
       "      <th>2373</th>\n",
       "      <td>rosa mexicano</td>\n",
       "      <td>Archdale Dr</td>\n",
       "      <td>charlotte</td>\n",
       "      <td>NC</td>\n",
       "    </tr>\n",
       "    <tr>\n",
       "      <th>7513</th>\n",
       "      <td>monroe street farmer's market</td>\n",
       "      <td>2219 Monroe St</td>\n",
       "      <td>madison</td>\n",
       "      <td>WI</td>\n",
       "    </tr>\n",
       "    <tr>\n",
       "      <th>18691</th>\n",
       "      <td>barkingham park</td>\n",
       "      <td>2900 Reedy Creek Park Rd</td>\n",
       "      <td>charlotte</td>\n",
       "      <td>NC</td>\n",
       "    </tr>\n",
       "    <tr>\n",
       "      <th>19091</th>\n",
       "      <td>menchies</td>\n",
       "      <td>Detroit Rd</td>\n",
       "      <td>avon</td>\n",
       "      <td>OH</td>\n",
       "    </tr>\n",
       "  </tbody>\n",
       "</table>\n",
       "</div>"
      ],
      "text/plain": [
       "                                name                   address       city  \\\n",
       "1421                    cvs pharmacy              S Gilbert Rd   chandler   \n",
       "2373                   rosa mexicano               Archdale Dr  charlotte   \n",
       "7513   monroe street farmer's market            2219 Monroe St    madison   \n",
       "18691                barkingham park  2900 Reedy Creek Park Rd  charlotte   \n",
       "19091                       menchies                Detroit Rd       avon   \n",
       "\n",
       "      state  \n",
       "1421     AZ  \n",
       "2373     NC  \n",
       "7513     WI  \n",
       "18691    NC  \n",
       "19091    OH  "
      ]
     },
     "execution_count": 73,
     "metadata": {},
     "output_type": "execute_result"
    }
   ],
   "source": [
    "business[pd.notnull(business.address) & business.postal_code.isnull()][['name','address', 'city', 'state']].head()"
   ]
  },
  {
   "cell_type": "markdown",
   "metadata": {},
   "source": [
    "Even the rows where address is not NaN, there are postal_code missing for these listings on Yelp. e.g. https://www.yelp.com/biz/monroe-street-farmers-market-madison?osq=Monroe+Street+Farmer%27s+Market. Replacing all NaN values with 'NOT_AVAILABLE'"
   ]
  },
  {
   "cell_type": "code",
   "execution_count": 74,
   "metadata": {},
   "outputs": [],
   "source": [
    "business.postal_code = business.postal_code.fillna('NOT_AVAILABLE')"
   ]
  },
  {
   "cell_type": "code",
   "execution_count": 75,
   "metadata": {},
   "outputs": [],
   "source": [
    "business.postal_code = business.postal_code.str.lower()"
   ]
  },
  {
   "cell_type": "code",
   "execution_count": 76,
   "metadata": {},
   "outputs": [
    {
     "data": {
      "text/plain": [
       "False    115118\n",
       "Name: postal_code, dtype: int64"
      ]
     },
     "execution_count": 76,
     "metadata": {},
     "output_type": "execute_result"
    }
   ],
   "source": [
    "business.postal_code.isnull().value_counts()"
   ]
  },
  {
   "cell_type": "markdown",
   "metadata": {},
   "source": [
    "## 9. categories feature"
   ]
  },
  {
   "cell_type": "code",
   "execution_count": 77,
   "metadata": {},
   "outputs": [
    {
     "data": {
      "text/plain": [
       "0                        Insurance, Financial Services\n",
       "1                                   Coffee & Tea, Food\n",
       "2                                 Mexican, Restaurants\n",
       "3                Flowers & Gifts, Gift Shops, Shopping\n",
       "4    Bars, Sports Bars, Dive Bars, Burgers, Nightli...\n",
       "Name: categories, dtype: object"
      ]
     },
     "execution_count": 77,
     "metadata": {},
     "output_type": "execute_result"
    }
   ],
   "source": [
    "business.categories.head()"
   ]
  },
  {
   "cell_type": "code",
   "execution_count": 78,
   "metadata": {},
   "outputs": [
    {
     "data": {
      "text/plain": [
       "False    114726\n",
       "True        392\n",
       "Name: categories, dtype: int64"
      ]
     },
     "execution_count": 78,
     "metadata": {},
     "output_type": "execute_result"
    }
   ],
   "source": [
    "business.categories.isnull().value_counts()"
   ]
  },
  {
   "cell_type": "code",
   "execution_count": 79,
   "metadata": {},
   "outputs": [
    {
     "data": {
      "text/html": [
       "<div>\n",
       "<style scoped>\n",
       "    .dataframe tbody tr th:only-of-type {\n",
       "        vertical-align: middle;\n",
       "    }\n",
       "\n",
       "    .dataframe tbody tr th {\n",
       "        vertical-align: top;\n",
       "    }\n",
       "\n",
       "    .dataframe thead th {\n",
       "        text-align: right;\n",
       "    }\n",
       "</style>\n",
       "<table border=\"1\" class=\"dataframe\">\n",
       "  <thead>\n",
       "    <tr style=\"text-align: right;\">\n",
       "      <th></th>\n",
       "      <th>name</th>\n",
       "      <th>city</th>\n",
       "      <th>state</th>\n",
       "    </tr>\n",
       "  </thead>\n",
       "  <tbody>\n",
       "    <tr>\n",
       "      <th>348</th>\n",
       "      <td>fuzziwigs candy factory</td>\n",
       "      <td>glendale</td>\n",
       "      <td>AZ</td>\n",
       "    </tr>\n",
       "    <tr>\n",
       "      <th>636</th>\n",
       "      <td>center for effective living</td>\n",
       "      <td>rocky river</td>\n",
       "      <td>OH</td>\n",
       "    </tr>\n",
       "    <tr>\n",
       "      <th>686</th>\n",
       "      <td>a l financial</td>\n",
       "      <td>phoenix</td>\n",
       "      <td>AZ</td>\n",
       "    </tr>\n",
       "    <tr>\n",
       "      <th>1092</th>\n",
       "      <td>ray's</td>\n",
       "      <td>dallas</td>\n",
       "      <td>NC</td>\n",
       "    </tr>\n",
       "    <tr>\n",
       "      <th>1556</th>\n",
       "      <td>vista grove prep academy</td>\n",
       "      <td>mesa</td>\n",
       "      <td>AZ</td>\n",
       "    </tr>\n",
       "  </tbody>\n",
       "</table>\n",
       "</div>"
      ],
      "text/plain": [
       "                             name         city state\n",
       "348       fuzziwigs candy factory     glendale    AZ\n",
       "636   center for effective living  rocky river    OH\n",
       "686                 a l financial      phoenix    AZ\n",
       "1092                        ray's       dallas    NC\n",
       "1556     vista grove prep academy         mesa    AZ"
      ]
     },
     "execution_count": 79,
     "metadata": {},
     "output_type": "execute_result"
    }
   ],
   "source": [
    "business[business.categories.isnull()][['name','city','state']].head()"
   ]
  },
  {
   "cell_type": "markdown",
   "metadata": {},
   "source": [
    "Dropping 392 rows with Null categories."
   ]
  },
  {
   "cell_type": "code",
   "execution_count": 80,
   "metadata": {},
   "outputs": [],
   "source": [
    "business = business[pd.notnull(business.categories)]"
   ]
  },
  {
   "cell_type": "code",
   "execution_count": 81,
   "metadata": {},
   "outputs": [],
   "source": [
    "business.categories = business.categories.str.lower()"
   ]
  },
  {
   "cell_type": "code",
   "execution_count": 82,
   "metadata": {},
   "outputs": [
    {
     "data": {
      "text/plain": [
       "False    82964\n",
       "True     31762\n",
       "Name: categories, dtype: int64"
      ]
     },
     "execution_count": 82,
     "metadata": {},
     "output_type": "execute_result"
    }
   ],
   "source": [
    "business.categories.str.contains('restaurant|food').value_counts()"
   ]
  },
  {
   "cell_type": "markdown",
   "metadata": {},
   "source": [
    "Keeping only food/restaurant related listings for our study."
   ]
  },
  {
   "cell_type": "code",
   "execution_count": 83,
   "metadata": {},
   "outputs": [],
   "source": [
    "business = business[business.categories.str.contains('restaurant|food')]"
   ]
  },
  {
   "cell_type": "markdown",
   "metadata": {},
   "source": [
    "## 10. latitude/longitude feature"
   ]
  },
  {
   "cell_type": "code",
   "execution_count": 84,
   "metadata": {},
   "outputs": [
    {
     "data": {
      "text/plain": [
       "False    31761\n",
       "True         1\n",
       "Name: latitude, dtype: int64"
      ]
     },
     "execution_count": 84,
     "metadata": {},
     "output_type": "execute_result"
    }
   ],
   "source": [
    "business.latitude.isnull().value_counts()"
   ]
  },
  {
   "cell_type": "code",
   "execution_count": 85,
   "metadata": {},
   "outputs": [
    {
     "data": {
      "text/plain": [
       "False    31762\n",
       "Name: longitude, dtype: int64"
      ]
     },
     "execution_count": 85,
     "metadata": {},
     "output_type": "execute_result"
    }
   ],
   "source": [
    "business.longitude.isnull().value_counts()"
   ]
  },
  {
   "cell_type": "code",
   "execution_count": 86,
   "metadata": {},
   "outputs": [
    {
     "data": {
      "text/plain": [
       "Series([], Name: latitude, dtype: float64)"
      ]
     },
     "execution_count": 86,
     "metadata": {},
     "output_type": "execute_result"
    }
   ],
   "source": [
    "business[business.longitude.isnull()]['latitude']"
   ]
  },
  {
   "cell_type": "code",
   "execution_count": 87,
   "metadata": {},
   "outputs": [
    {
     "data": {
      "text/plain": [
       "95254   -115.154606\n",
       "Name: longitude, dtype: float64"
      ]
     },
     "execution_count": 87,
     "metadata": {},
     "output_type": "execute_result"
    }
   ],
   "source": [
    "business[business.latitude.isnull()]['longitude']"
   ]
  },
  {
   "cell_type": "code",
   "execution_count": 88,
   "metadata": {},
   "outputs": [],
   "source": [
    "business = business[pd.notnull(business.latitude) & pd.notnull(business.longitude)]"
   ]
  },
  {
   "cell_type": "code",
   "execution_count": 89,
   "metadata": {},
   "outputs": [
    {
     "data": {
      "text/html": [
       "<div>\n",
       "<style scoped>\n",
       "    .dataframe tbody tr th:only-of-type {\n",
       "        vertical-align: middle;\n",
       "    }\n",
       "\n",
       "    .dataframe tbody tr th {\n",
       "        vertical-align: top;\n",
       "    }\n",
       "\n",
       "    .dataframe thead th {\n",
       "        text-align: right;\n",
       "    }\n",
       "</style>\n",
       "<table border=\"1\" class=\"dataframe\">\n",
       "  <thead>\n",
       "    <tr style=\"text-align: right;\">\n",
       "      <th></th>\n",
       "      <th>latitude</th>\n",
       "      <th>longitude</th>\n",
       "    </tr>\n",
       "  </thead>\n",
       "  <tbody>\n",
       "    <tr>\n",
       "      <th>count</th>\n",
       "      <td>31761.000000</td>\n",
       "      <td>31761.000000</td>\n",
       "    </tr>\n",
       "    <tr>\n",
       "      <th>mean</th>\n",
       "      <td>36.863435</td>\n",
       "      <td>-98.616598</td>\n",
       "    </tr>\n",
       "    <tr>\n",
       "      <th>std</th>\n",
       "      <td>3.315280</td>\n",
       "      <td>15.789453</td>\n",
       "    </tr>\n",
       "    <tr>\n",
       "      <th>min</th>\n",
       "      <td>-33.508570</td>\n",
       "      <td>-122.823162</td>\n",
       "    </tr>\n",
       "    <tr>\n",
       "      <th>25%</th>\n",
       "      <td>33.598879</td>\n",
       "      <td>-112.235082</td>\n",
       "    </tr>\n",
       "    <tr>\n",
       "      <th>50%</th>\n",
       "      <td>36.063274</td>\n",
       "      <td>-111.773404</td>\n",
       "    </tr>\n",
       "    <tr>\n",
       "      <th>75%</th>\n",
       "      <td>40.446084</td>\n",
       "      <td>-81.214690</td>\n",
       "    </tr>\n",
       "    <tr>\n",
       "      <th>max</th>\n",
       "      <td>44.999192</td>\n",
       "      <td>79.946718</td>\n",
       "    </tr>\n",
       "  </tbody>\n",
       "</table>\n",
       "</div>"
      ],
      "text/plain": [
       "           latitude     longitude\n",
       "count  31761.000000  31761.000000\n",
       "mean      36.863435    -98.616598\n",
       "std        3.315280     15.789453\n",
       "min      -33.508570   -122.823162\n",
       "25%       33.598879   -112.235082\n",
       "50%       36.063274   -111.773404\n",
       "75%       40.446084    -81.214690\n",
       "max       44.999192     79.946718"
      ]
     },
     "execution_count": 89,
     "metadata": {},
     "output_type": "execute_result"
    }
   ],
   "source": [
    "business[['latitude','longitude']].describe()"
   ]
  },
  {
   "cell_type": "markdown",
   "metadata": {},
   "source": [
    "Got the bounding box i.e. max/min lat longs for continental United States from here - https://en.wikipedia.org/wiki/List_of_extreme_points_of_the_United_States"
   ]
  },
  {
   "cell_type": "code",
   "execution_count": 90,
   "metadata": {},
   "outputs": [],
   "source": [
    "top = 49.3457868 # north lat\n",
    "left = -124.7844079 # west long\n",
    "right = -66.9513812 # east long\n",
    "bottom =  24.7433195 # south lat"
   ]
  },
  {
   "cell_type": "code",
   "execution_count": 91,
   "metadata": {},
   "outputs": [
    {
     "data": {
      "text/html": [
       "<div>\n",
       "<style scoped>\n",
       "    .dataframe tbody tr th:only-of-type {\n",
       "        vertical-align: middle;\n",
       "    }\n",
       "\n",
       "    .dataframe tbody tr th {\n",
       "        vertical-align: top;\n",
       "    }\n",
       "\n",
       "    .dataframe thead th {\n",
       "        text-align: right;\n",
       "    }\n",
       "</style>\n",
       "<table border=\"1\" class=\"dataframe\">\n",
       "  <thead>\n",
       "    <tr style=\"text-align: right;\">\n",
       "      <th></th>\n",
       "      <th>name</th>\n",
       "      <th>city</th>\n",
       "      <th>state</th>\n",
       "    </tr>\n",
       "  </thead>\n",
       "  <tbody>\n",
       "    <tr>\n",
       "      <th>35544</th>\n",
       "      <td>k asian bistro</td>\n",
       "      <td>allison park</td>\n",
       "      <td>PA</td>\n",
       "    </tr>\n",
       "    <tr>\n",
       "      <th>48607</th>\n",
       "      <td>rustico restaurant and pizzeria</td>\n",
       "      <td>pittsburgh</td>\n",
       "      <td>PA</td>\n",
       "    </tr>\n",
       "    <tr>\n",
       "      <th>60318</th>\n",
       "      <td>city market deli &amp; catering</td>\n",
       "      <td>phoenix</td>\n",
       "      <td>AZ</td>\n",
       "    </tr>\n",
       "  </tbody>\n",
       "</table>\n",
       "</div>"
      ],
      "text/plain": [
       "                                  name          city state\n",
       "35544                   k asian bistro  allison park    PA\n",
       "48607  rustico restaurant and pizzeria    pittsburgh    PA\n",
       "60318      city market deli & catering       phoenix    AZ"
      ]
     },
     "execution_count": 91,
     "metadata": {},
     "output_type": "execute_result"
    }
   ],
   "source": [
    "business[(business.latitude > top) | (business.latitude < bottom) | (business.longitude > right) | (business.longitude < left)][['name','city','state']]"
   ]
  },
  {
   "cell_type": "markdown",
   "metadata": {},
   "source": [
    "There are about 12 business who's latitude/longitude fall outside the bounding box of continental USA. Dropping them"
   ]
  },
  {
   "cell_type": "code",
   "execution_count": 92,
   "metadata": {},
   "outputs": [],
   "source": [
    "business = business[(business.latitude <= top) & (business.latitude >= bottom) & (business.longitude<=right) & (business.longitude>=left)]"
   ]
  },
  {
   "cell_type": "markdown",
   "metadata": {},
   "source": [
    "## 11. Address"
   ]
  },
  {
   "cell_type": "code",
   "execution_count": 93,
   "metadata": {},
   "outputs": [
    {
     "data": {
      "text/plain": [
       "False    31241\n",
       "True       517\n",
       "Name: address, dtype: int64"
      ]
     },
     "execution_count": 93,
     "metadata": {},
     "output_type": "execute_result"
    }
   ],
   "source": [
    "business.address.isnull().value_counts()"
   ]
  },
  {
   "cell_type": "code",
   "execution_count": 94,
   "metadata": {},
   "outputs": [
    {
     "data": {
      "text/html": [
       "<div>\n",
       "<style scoped>\n",
       "    .dataframe tbody tr th:only-of-type {\n",
       "        vertical-align: middle;\n",
       "    }\n",
       "\n",
       "    .dataframe tbody tr th {\n",
       "        vertical-align: top;\n",
       "    }\n",
       "\n",
       "    .dataframe thead th {\n",
       "        text-align: right;\n",
       "    }\n",
       "</style>\n",
       "<table border=\"1\" class=\"dataframe\">\n",
       "  <thead>\n",
       "    <tr style=\"text-align: right;\">\n",
       "      <th></th>\n",
       "      <th>name</th>\n",
       "      <th>address</th>\n",
       "      <th>city</th>\n",
       "      <th>state</th>\n",
       "    </tr>\n",
       "  </thead>\n",
       "  <tbody>\n",
       "    <tr>\n",
       "      <th>62</th>\n",
       "      <td>tipsy ryde</td>\n",
       "      <td>NaN</td>\n",
       "      <td>gastonia</td>\n",
       "      <td>NC</td>\n",
       "    </tr>\n",
       "    <tr>\n",
       "      <th>455</th>\n",
       "      <td>doghaus cafe</td>\n",
       "      <td>NaN</td>\n",
       "      <td>san tan valley</td>\n",
       "      <td>AZ</td>\n",
       "    </tr>\n",
       "    <tr>\n",
       "      <th>503</th>\n",
       "      <td>hungry street grille</td>\n",
       "      <td>NaN</td>\n",
       "      <td>phoenix</td>\n",
       "      <td>AZ</td>\n",
       "    </tr>\n",
       "    <tr>\n",
       "      <th>889</th>\n",
       "      <td>arizona event catering</td>\n",
       "      <td>NaN</td>\n",
       "      <td>mesa</td>\n",
       "      <td>AZ</td>\n",
       "    </tr>\n",
       "    <tr>\n",
       "      <th>1006</th>\n",
       "      <td>grouchy john's coffee truck</td>\n",
       "      <td>NaN</td>\n",
       "      <td>las vegas</td>\n",
       "      <td>NV</td>\n",
       "    </tr>\n",
       "  </tbody>\n",
       "</table>\n",
       "</div>"
      ],
      "text/plain": [
       "                             name address            city state\n",
       "62                     tipsy ryde     NaN        gastonia    NC\n",
       "455                  doghaus cafe     NaN  san tan valley    AZ\n",
       "503          hungry street grille     NaN         phoenix    AZ\n",
       "889        arizona event catering     NaN            mesa    AZ\n",
       "1006  grouchy john's coffee truck     NaN       las vegas    NV"
      ]
     },
     "execution_count": 94,
     "metadata": {},
     "output_type": "execute_result"
    }
   ],
   "source": [
    "business[business.address.isnull()][['name','address','city','state']].head()"
   ]
  },
  {
   "cell_type": "markdown",
   "metadata": {},
   "source": [
    "As we see a lot of the places above with null address are actually mobile restaurants, like food trucks etc. Marking all these addresses as 'NOT_AVAILABLE'."
   ]
  },
  {
   "cell_type": "code",
   "execution_count": 95,
   "metadata": {},
   "outputs": [],
   "source": [
    "business.address = business.address.fillna('NOT_AVAILABLE')"
   ]
  },
  {
   "cell_type": "code",
   "execution_count": 96,
   "metadata": {},
   "outputs": [],
   "source": [
    "business.address = business.address.str.lower()"
   ]
  },
  {
   "cell_type": "code",
   "execution_count": 97,
   "metadata": {},
   "outputs": [
    {
     "data": {
      "text/plain": [
       "False    31758\n",
       "Name: address, dtype: int64"
      ]
     },
     "execution_count": 97,
     "metadata": {},
     "output_type": "execute_result"
    }
   ],
   "source": [
    "business.address.isnull().value_counts()"
   ]
  },
  {
   "cell_type": "markdown",
   "metadata": {},
   "source": [
    "# Join Data"
   ]
  },
  {
   "cell_type": "markdown",
   "metadata": {},
   "source": [
    "## Joining with tip data"
   ]
  },
  {
   "cell_type": "markdown",
   "metadata": {},
   "source": [
    "Get all user_ids that provided tips for this business"
   ]
  },
  {
   "cell_type": "code",
   "execution_count": 100,
   "metadata": {},
   "outputs": [],
   "source": [
    "tip = pd.read_csv('yelp_academic_dataset_tip.csv')"
   ]
  },
  {
   "cell_type": "code",
   "execution_count": 102,
   "metadata": {},
   "outputs": [
    {
     "data": {
      "text/html": [
       "<div>\n",
       "<style scoped>\n",
       "    .dataframe tbody tr th:only-of-type {\n",
       "        vertical-align: middle;\n",
       "    }\n",
       "\n",
       "    .dataframe tbody tr th {\n",
       "        vertical-align: top;\n",
       "    }\n",
       "\n",
       "    .dataframe thead th {\n",
       "        text-align: right;\n",
       "    }\n",
       "</style>\n",
       "<table border=\"1\" class=\"dataframe\">\n",
       "  <thead>\n",
       "    <tr style=\"text-align: right;\">\n",
       "      <th></th>\n",
       "      <th>likes</th>\n",
       "      <th>business_id</th>\n",
       "      <th>user_id</th>\n",
       "      <th>date</th>\n",
       "      <th>text</th>\n",
       "    </tr>\n",
       "  </thead>\n",
       "  <tbody>\n",
       "    <tr>\n",
       "      <th>0</th>\n",
       "      <td>0</td>\n",
       "      <td>tJRDll5yqpZwehenzE2cSg</td>\n",
       "      <td>zcTZk7OG8ovAmh_fenH21g</td>\n",
       "      <td>2012-07-15</td>\n",
       "      <td>Get here early enough to have dinner.</td>\n",
       "    </tr>\n",
       "    <tr>\n",
       "      <th>1</th>\n",
       "      <td>0</td>\n",
       "      <td>2ThtBbeDqFkVi6LugUOcVA</td>\n",
       "      <td>M5n8mMFoeXjnJEV2gxyGGA</td>\n",
       "      <td>2012-11-25</td>\n",
       "      <td>Don't use them! Double charged my boyfriend an...</td>\n",
       "    </tr>\n",
       "    <tr>\n",
       "      <th>2</th>\n",
       "      <td>0</td>\n",
       "      <td>jH19V2I9fIslnNhDzPmdkA</td>\n",
       "      <td>ZcLKXikTHYOnYt5VYRO5sg</td>\n",
       "      <td>2015-08-12</td>\n",
       "      <td>Great breakfast large portions and friendly wa...</td>\n",
       "    </tr>\n",
       "    <tr>\n",
       "      <th>3</th>\n",
       "      <td>0</td>\n",
       "      <td>dAa0hB2yrnHzVmsCkN4YvQ</td>\n",
       "      <td>oaYhjqBbh18ZhU0bpyzSuw</td>\n",
       "      <td>2014-06-20</td>\n",
       "      <td>Nice place. Great staff.  A fixture in the tow...</td>\n",
       "    </tr>\n",
       "    <tr>\n",
       "      <th>4</th>\n",
       "      <td>0</td>\n",
       "      <td>dAa0hB2yrnHzVmsCkN4YvQ</td>\n",
       "      <td>ulQ8Nyj7jCUR8M83SUMoRQ</td>\n",
       "      <td>2016-10-12</td>\n",
       "      <td>Happy hour 5-7 Monday - Friday</td>\n",
       "    </tr>\n",
       "  </tbody>\n",
       "</table>\n",
       "</div>"
      ],
      "text/plain": [
       "   likes             business_id                 user_id        date  \\\n",
       "0      0  tJRDll5yqpZwehenzE2cSg  zcTZk7OG8ovAmh_fenH21g  2012-07-15   \n",
       "1      0  2ThtBbeDqFkVi6LugUOcVA  M5n8mMFoeXjnJEV2gxyGGA  2012-11-25   \n",
       "2      0  jH19V2I9fIslnNhDzPmdkA  ZcLKXikTHYOnYt5VYRO5sg  2015-08-12   \n",
       "3      0  dAa0hB2yrnHzVmsCkN4YvQ  oaYhjqBbh18ZhU0bpyzSuw  2014-06-20   \n",
       "4      0  dAa0hB2yrnHzVmsCkN4YvQ  ulQ8Nyj7jCUR8M83SUMoRQ  2016-10-12   \n",
       "\n",
       "                                                text  \n",
       "0              Get here early enough to have dinner.  \n",
       "1  Don't use them! Double charged my boyfriend an...  \n",
       "2  Great breakfast large portions and friendly wa...  \n",
       "3  Nice place. Great staff.  A fixture in the tow...  \n",
       "4                     Happy hour 5-7 Monday - Friday  "
      ]
     },
     "execution_count": 102,
     "metadata": {},
     "output_type": "execute_result"
    }
   ],
   "source": [
    "tip.head()"
   ]
  },
  {
   "cell_type": "code",
   "execution_count": 105,
   "metadata": {},
   "outputs": [],
   "source": [
    "business = business.merge(tip[['business_id','user_id']], left_on='business_id', right_on='business_id', how='left')"
   ]
  },
  {
   "cell_type": "code",
   "execution_count": 110,
   "metadata": {},
   "outputs": [],
   "source": [
    "business = business.merge(business.groupby('business_id').apply(lambda x: x['user_id'].unique()).reset_index(), \n",
    "               left_on='business_id', right_on='business_id', how='left')"
   ]
  },
  {
   "cell_type": "code",
   "execution_count": 118,
   "metadata": {},
   "outputs": [],
   "source": [
    "business = business.drop_duplicates(subset='business_id')"
   ]
  },
  {
   "cell_type": "code",
   "execution_count": 121,
   "metadata": {},
   "outputs": [
    {
     "name": "stderr",
     "output_type": "stream",
     "text": [
      "/Users/amangal/anaconda3/lib/python3.6/site-packages/ipykernel_launcher.py:1: SettingWithCopyWarning: \n",
      "A value is trying to be set on a copy of a slice from a DataFrame.\n",
      "Try using .loc[row_indexer,col_indexer] = value instead\n",
      "\n",
      "See the caveats in the documentation: http://pandas.pydata.org/pandas-docs/stable/indexing.html#indexing-view-versus-copy\n",
      "  \"\"\"Entry point for launching an IPython kernel.\n"
     ]
    }
   ],
   "source": [
    "business['users'] = business[0]"
   ]
  },
  {
   "cell_type": "code",
   "execution_count": 124,
   "metadata": {},
   "outputs": [],
   "source": [
    "business = business.drop(['user_id',0], axis=1)"
   ]
  },
  {
   "cell_type": "markdown",
   "metadata": {},
   "source": [
    "## Joining with review data"
   ]
  },
  {
   "cell_type": "markdown",
   "metadata": {},
   "source": [
    "Get all user_ids that provided reviews for this business"
   ]
  },
  {
   "cell_type": "code",
   "execution_count": 125,
   "metadata": {},
   "outputs": [],
   "source": [
    "review = pd.read_csv('yelp_academic_dataset_review.csv')"
   ]
  },
  {
   "cell_type": "code",
   "execution_count": 127,
   "metadata": {},
   "outputs": [
    {
     "data": {
      "text/html": [
       "<div>\n",
       "<style scoped>\n",
       "    .dataframe tbody tr th:only-of-type {\n",
       "        vertical-align: middle;\n",
       "    }\n",
       "\n",
       "    .dataframe tbody tr th {\n",
       "        vertical-align: top;\n",
       "    }\n",
       "\n",
       "    .dataframe thead th {\n",
       "        text-align: right;\n",
       "    }\n",
       "</style>\n",
       "<table border=\"1\" class=\"dataframe\">\n",
       "  <thead>\n",
       "    <tr style=\"text-align: right;\">\n",
       "      <th></th>\n",
       "      <th>stars</th>\n",
       "      <th>useful</th>\n",
       "      <th>date</th>\n",
       "      <th>review_id</th>\n",
       "      <th>business_id</th>\n",
       "      <th>cool</th>\n",
       "      <th>text</th>\n",
       "      <th>user_id</th>\n",
       "      <th>funny</th>\n",
       "    </tr>\n",
       "  </thead>\n",
       "  <tbody>\n",
       "    <tr>\n",
       "      <th>0</th>\n",
       "      <td>2</td>\n",
       "      <td>0</td>\n",
       "      <td>2011-02-25</td>\n",
       "      <td>x7mDIiDB3jEiPGPHOmDzyw</td>\n",
       "      <td>iCQpiavjjPzJ5_3gPD5Ebg</td>\n",
       "      <td>0</td>\n",
       "      <td>The pizza was okay. Not the best I've had. I p...</td>\n",
       "      <td>msQe1u7Z_XuqjGoqhB0J5g</td>\n",
       "      <td>0</td>\n",
       "    </tr>\n",
       "    <tr>\n",
       "      <th>1</th>\n",
       "      <td>5</td>\n",
       "      <td>0</td>\n",
       "      <td>2012-11-13</td>\n",
       "      <td>dDl8zu1vWPdKGihJrwQbpw</td>\n",
       "      <td>pomGBqfbxcqPv14c3XH-ZQ</td>\n",
       "      <td>0</td>\n",
       "      <td>I love this place! My fiance And I go here atl...</td>\n",
       "      <td>msQe1u7Z_XuqjGoqhB0J5g</td>\n",
       "      <td>0</td>\n",
       "    </tr>\n",
       "    <tr>\n",
       "      <th>2</th>\n",
       "      <td>1</td>\n",
       "      <td>3</td>\n",
       "      <td>2014-10-23</td>\n",
       "      <td>LZp4UX5zK3e-c5ZGSeo3kA</td>\n",
       "      <td>jtQARsP6P-LbkyjbO1qNGg</td>\n",
       "      <td>1</td>\n",
       "      <td>Terrible. Dry corn bread. Rib tips were all fa...</td>\n",
       "      <td>msQe1u7Z_XuqjGoqhB0J5g</td>\n",
       "      <td>1</td>\n",
       "    </tr>\n",
       "    <tr>\n",
       "      <th>3</th>\n",
       "      <td>2</td>\n",
       "      <td>2</td>\n",
       "      <td>2011-02-25</td>\n",
       "      <td>Er4NBWCmCD4nM8_p1GRdow</td>\n",
       "      <td>elqbBhBfElMNSrjFqW3now</td>\n",
       "      <td>0</td>\n",
       "      <td>Back in 2005-2007 this place was my FAVORITE t...</td>\n",
       "      <td>msQe1u7Z_XuqjGoqhB0J5g</td>\n",
       "      <td>0</td>\n",
       "    </tr>\n",
       "    <tr>\n",
       "      <th>4</th>\n",
       "      <td>5</td>\n",
       "      <td>0</td>\n",
       "      <td>2014-09-05</td>\n",
       "      <td>jsDu6QEJHbwP2Blom1PLCA</td>\n",
       "      <td>Ums3gaP2qM3W1XcA5r6SsQ</td>\n",
       "      <td>0</td>\n",
       "      <td>Delicious healthy food. The steak is amazing. ...</td>\n",
       "      <td>msQe1u7Z_XuqjGoqhB0J5g</td>\n",
       "      <td>0</td>\n",
       "    </tr>\n",
       "  </tbody>\n",
       "</table>\n",
       "</div>"
      ],
      "text/plain": [
       "   stars  useful        date               review_id             business_id  \\\n",
       "0      2       0  2011-02-25  x7mDIiDB3jEiPGPHOmDzyw  iCQpiavjjPzJ5_3gPD5Ebg   \n",
       "1      5       0  2012-11-13  dDl8zu1vWPdKGihJrwQbpw  pomGBqfbxcqPv14c3XH-ZQ   \n",
       "2      1       3  2014-10-23  LZp4UX5zK3e-c5ZGSeo3kA  jtQARsP6P-LbkyjbO1qNGg   \n",
       "3      2       2  2011-02-25  Er4NBWCmCD4nM8_p1GRdow  elqbBhBfElMNSrjFqW3now   \n",
       "4      5       0  2014-09-05  jsDu6QEJHbwP2Blom1PLCA  Ums3gaP2qM3W1XcA5r6SsQ   \n",
       "\n",
       "   cool                                               text  \\\n",
       "0     0  The pizza was okay. Not the best I've had. I p...   \n",
       "1     0  I love this place! My fiance And I go here atl...   \n",
       "2     1  Terrible. Dry corn bread. Rib tips were all fa...   \n",
       "3     0  Back in 2005-2007 this place was my FAVORITE t...   \n",
       "4     0  Delicious healthy food. The steak is amazing. ...   \n",
       "\n",
       "                  user_id  funny  \n",
       "0  msQe1u7Z_XuqjGoqhB0J5g      0  \n",
       "1  msQe1u7Z_XuqjGoqhB0J5g      0  \n",
       "2  msQe1u7Z_XuqjGoqhB0J5g      1  \n",
       "3  msQe1u7Z_XuqjGoqhB0J5g      0  \n",
       "4  msQe1u7Z_XuqjGoqhB0J5g      0  "
      ]
     },
     "execution_count": 127,
     "metadata": {},
     "output_type": "execute_result"
    }
   ],
   "source": [
    "review.head()"
   ]
  },
  {
   "cell_type": "code",
   "execution_count": 128,
   "metadata": {},
   "outputs": [],
   "source": [
    "business = business.merge(review[['business_id','user_id']], left_on='business_id', right_on='business_id', how='left')"
   ]
  },
  {
   "cell_type": "code",
   "execution_count": 131,
   "metadata": {},
   "outputs": [],
   "source": [
    "business = business.merge(business.groupby('business_id').apply(lambda x: x['user_id'].unique()).reset_index(), \n",
    "               left_on='business_id', right_on='business_id', how='left')"
   ]
  },
  {
   "cell_type": "code",
   "execution_count": 132,
   "metadata": {},
   "outputs": [],
   "source": [
    "business = business.drop_duplicates(subset='business_id')"
   ]
  },
  {
   "cell_type": "code",
   "execution_count": 135,
   "metadata": {},
   "outputs": [],
   "source": [
    "business['users2'] = business[0]"
   ]
  },
  {
   "cell_type": "code",
   "execution_count": 137,
   "metadata": {},
   "outputs": [],
   "source": [
    "business = business.drop(['user_id',0], axis=1)"
   ]
  },
  {
   "cell_type": "code",
   "execution_count": 155,
   "metadata": {},
   "outputs": [],
   "source": [
    "business = business.reset_index(drop=True)"
   ]
  },
  {
   "cell_type": "markdown",
   "metadata": {},
   "source": [
    "## Union of all users interacting with this business"
   ]
  },
  {
   "cell_type": "code",
   "execution_count": 171,
   "metadata": {},
   "outputs": [],
   "source": [
    "def union(x):\n",
    "    a = x['users']\n",
    "    b = x['users2']\n",
    "    return list(set(a) | set(b))"
   ]
  },
  {
   "cell_type": "code",
   "execution_count": 173,
   "metadata": {},
   "outputs": [],
   "source": [
    "business.users = business.apply(union, axis=1)"
   ]
  },
  {
   "cell_type": "code",
   "execution_count": 176,
   "metadata": {},
   "outputs": [],
   "source": [
    "business = business.drop(['users2'], axis=1)"
   ]
  },
  {
   "cell_type": "markdown",
   "metadata": {},
   "source": [
    "## Joining user profiles with business"
   ]
  },
  {
   "cell_type": "code",
   "execution_count": 177,
   "metadata": {},
   "outputs": [],
   "source": [
    "users = pd.read_csv('yelp_academic_dataset_user.csv')"
   ]
  },
  {
   "cell_type": "code",
   "execution_count": 212,
   "metadata": {},
   "outputs": [
    {
     "data": {
      "text/html": [
       "<div>\n",
       "<style scoped>\n",
       "    .dataframe tbody tr th:only-of-type {\n",
       "        vertical-align: middle;\n",
       "    }\n",
       "\n",
       "    .dataframe tbody tr th {\n",
       "        vertical-align: top;\n",
       "    }\n",
       "\n",
       "    .dataframe thead th {\n",
       "        text-align: right;\n",
       "    }\n",
       "</style>\n",
       "<table border=\"1\" class=\"dataframe\">\n",
       "  <thead>\n",
       "    <tr style=\"text-align: right;\">\n",
       "      <th></th>\n",
       "      <th>elite</th>\n",
       "      <th>fans</th>\n",
       "      <th>compliment_writer</th>\n",
       "      <th>cool</th>\n",
       "      <th>compliment_photos</th>\n",
       "      <th>friends</th>\n",
       "      <th>compliment_hot</th>\n",
       "      <th>compliment_note</th>\n",
       "      <th>yelping_since</th>\n",
       "      <th>compliment_plain</th>\n",
       "      <th>...</th>\n",
       "      <th>compliment_profile</th>\n",
       "      <th>compliment_list</th>\n",
       "      <th>funny</th>\n",
       "      <th>review_count</th>\n",
       "      <th>name</th>\n",
       "      <th>compliment_cute</th>\n",
       "      <th>user_id</th>\n",
       "      <th>compliment_cool</th>\n",
       "      <th>average_stars</th>\n",
       "      <th>months_since_yelping</th>\n",
       "    </tr>\n",
       "  </thead>\n",
       "  <tbody>\n",
       "    <tr>\n",
       "      <th>0</th>\n",
       "      <td>None</td>\n",
       "      <td>0</td>\n",
       "      <td>0</td>\n",
       "      <td>0</td>\n",
       "      <td>0</td>\n",
       "      <td>None</td>\n",
       "      <td>0</td>\n",
       "      <td>0</td>\n",
       "      <td>2015-09-28</td>\n",
       "      <td>0</td>\n",
       "      <td>...</td>\n",
       "      <td>0</td>\n",
       "      <td>0</td>\n",
       "      <td>0</td>\n",
       "      <td>1</td>\n",
       "      <td>Susan</td>\n",
       "      <td>0</td>\n",
       "      <td>lzlZwIpuSWXEnNS91wxjHw</td>\n",
       "      <td>0</td>\n",
       "      <td>2.00</td>\n",
       "      <td>38.033063</td>\n",
       "    </tr>\n",
       "    <tr>\n",
       "      <th>1</th>\n",
       "      <td>None</td>\n",
       "      <td>0</td>\n",
       "      <td>0</td>\n",
       "      <td>0</td>\n",
       "      <td>0</td>\n",
       "      <td>None</td>\n",
       "      <td>0</td>\n",
       "      <td>0</td>\n",
       "      <td>2015-09-05</td>\n",
       "      <td>0</td>\n",
       "      <td>...</td>\n",
       "      <td>0</td>\n",
       "      <td>0</td>\n",
       "      <td>0</td>\n",
       "      <td>2</td>\n",
       "      <td>Daipayan</td>\n",
       "      <td>0</td>\n",
       "      <td>XvLBr-9smbI0m_a7dXtB7w</td>\n",
       "      <td>0</td>\n",
       "      <td>5.00</td>\n",
       "      <td>38.788725</td>\n",
       "    </tr>\n",
       "    <tr>\n",
       "      <th>2</th>\n",
       "      <td>None</td>\n",
       "      <td>0</td>\n",
       "      <td>0</td>\n",
       "      <td>0</td>\n",
       "      <td>0</td>\n",
       "      <td>None</td>\n",
       "      <td>0</td>\n",
       "      <td>0</td>\n",
       "      <td>2016-07-21</td>\n",
       "      <td>0</td>\n",
       "      <td>...</td>\n",
       "      <td>0</td>\n",
       "      <td>0</td>\n",
       "      <td>0</td>\n",
       "      <td>1</td>\n",
       "      <td>Andy</td>\n",
       "      <td>0</td>\n",
       "      <td>QPT4Ud4H5sJVr68yXhoWFw</td>\n",
       "      <td>0</td>\n",
       "      <td>4.00</td>\n",
       "      <td>28.275162</td>\n",
       "    </tr>\n",
       "    <tr>\n",
       "      <th>3</th>\n",
       "      <td>None</td>\n",
       "      <td>0</td>\n",
       "      <td>0</td>\n",
       "      <td>0</td>\n",
       "      <td>0</td>\n",
       "      <td>None</td>\n",
       "      <td>0</td>\n",
       "      <td>0</td>\n",
       "      <td>2014-08-04</td>\n",
       "      <td>0</td>\n",
       "      <td>...</td>\n",
       "      <td>0</td>\n",
       "      <td>0</td>\n",
       "      <td>0</td>\n",
       "      <td>19</td>\n",
       "      <td>Jonathan</td>\n",
       "      <td>0</td>\n",
       "      <td>i5YitlHZpf0B3R0s_8NVuw</td>\n",
       "      <td>0</td>\n",
       "      <td>4.05</td>\n",
       "      <td>51.832114</td>\n",
       "    </tr>\n",
       "    <tr>\n",
       "      <th>4</th>\n",
       "      <td>None</td>\n",
       "      <td>0</td>\n",
       "      <td>0</td>\n",
       "      <td>0</td>\n",
       "      <td>0</td>\n",
       "      <td>None</td>\n",
       "      <td>0</td>\n",
       "      <td>0</td>\n",
       "      <td>2017-06-18</td>\n",
       "      <td>0</td>\n",
       "      <td>...</td>\n",
       "      <td>0</td>\n",
       "      <td>0</td>\n",
       "      <td>0</td>\n",
       "      <td>3</td>\n",
       "      <td>Shashank</td>\n",
       "      <td>0</td>\n",
       "      <td>s4FoIXE_LSGviTHBe8dmcg</td>\n",
       "      <td>0</td>\n",
       "      <td>3.00</td>\n",
       "      <td>17.367341</td>\n",
       "    </tr>\n",
       "  </tbody>\n",
       "</table>\n",
       "<p>5 rows × 23 columns</p>\n",
       "</div>"
      ],
      "text/plain": [
       "  elite  fans  compliment_writer  cool  compliment_photos friends  \\\n",
       "0  None     0                  0     0                  0    None   \n",
       "1  None     0                  0     0                  0    None   \n",
       "2  None     0                  0     0                  0    None   \n",
       "3  None     0                  0     0                  0    None   \n",
       "4  None     0                  0     0                  0    None   \n",
       "\n",
       "   compliment_hot  compliment_note yelping_since  compliment_plain  \\\n",
       "0               0                0    2015-09-28                 0   \n",
       "1               0                0    2015-09-05                 0   \n",
       "2               0                0    2016-07-21                 0   \n",
       "3               0                0    2014-08-04                 0   \n",
       "4               0                0    2017-06-18                 0   \n",
       "\n",
       "          ...           compliment_profile  compliment_list  funny  \\\n",
       "0         ...                            0                0      0   \n",
       "1         ...                            0                0      0   \n",
       "2         ...                            0                0      0   \n",
       "3         ...                            0                0      0   \n",
       "4         ...                            0                0      0   \n",
       "\n",
       "   review_count      name  compliment_cute                 user_id  \\\n",
       "0             1     Susan                0  lzlZwIpuSWXEnNS91wxjHw   \n",
       "1             2  Daipayan                0  XvLBr-9smbI0m_a7dXtB7w   \n",
       "2             1      Andy                0  QPT4Ud4H5sJVr68yXhoWFw   \n",
       "3            19  Jonathan                0  i5YitlHZpf0B3R0s_8NVuw   \n",
       "4             3  Shashank                0  s4FoIXE_LSGviTHBe8dmcg   \n",
       "\n",
       "  compliment_cool  average_stars months_since_yelping  \n",
       "0               0           2.00            38.033063  \n",
       "1               0           5.00            38.788725  \n",
       "2               0           4.00            28.275162  \n",
       "3               0           4.05            51.832114  \n",
       "4               0           3.00            17.367341  \n",
       "\n",
       "[5 rows x 23 columns]"
      ]
     },
     "execution_count": 212,
     "metadata": {},
     "output_type": "execute_result"
    }
   ],
   "source": [
    "users.head()"
   ]
  },
  {
   "cell_type": "code",
   "execution_count": 205,
   "metadata": {},
   "outputs": [],
   "source": [
    "users.yelping_since = users.yelping_since.astype(np.datetime64)"
   ]
  },
  {
   "cell_type": "code",
   "execution_count": 218,
   "metadata": {},
   "outputs": [],
   "source": [
    "users['months_since_yelping'] = ((pd.to_datetime('today') - users.yelping_since)/np.timedelta64(1, 'M'))"
   ]
  },
  {
   "cell_type": "code",
   "execution_count": 221,
   "metadata": {},
   "outputs": [
    {
     "data": {
      "text/plain": [
       "Index(['elite', 'fans', 'compliment_writer', 'cool', 'compliment_photos',\n",
       "       'friends', 'compliment_hot', 'compliment_note', 'yelping_since',\n",
       "       'compliment_plain', 'useful', 'compliment_more', 'compliment_funny',\n",
       "       'compliment_profile', 'compliment_list', 'funny', 'review_count',\n",
       "       'name', 'compliment_cute', 'user_id', 'compliment_cool',\n",
       "       'average_stars', 'months_since_yelping'],\n",
       "      dtype='object')"
      ]
     },
     "execution_count": 221,
     "metadata": {},
     "output_type": "execute_result"
    }
   ],
   "source": [
    "users.columns"
   ]
  },
  {
   "cell_type": "code",
   "execution_count": 243,
   "metadata": {},
   "outputs": [],
   "source": [
    "users['total_compliments'] = users[users.columns[users.columns.to_series().str.contains('compliment')]].sum(axis=1)"
   ]
  },
  {
   "cell_type": "code",
   "execution_count": 244,
   "metadata": {},
   "outputs": [],
   "source": [
    "def get_user_stats(x):\n",
    "    data = users[users.user_id.isin(x['users'])]\n",
    "    result = x[['business_id']]\n",
    "    result['mean_user_review_counts'] = data.review_count.mean()\n",
    "    result['mean_months_since_yelping'] = data.months_since_yelping.mean()\n",
    "    result['mean_user_fans'] = data.fans.mean()\n",
    "    result['mean_total_compliments'] = data.total_compliments.mean()\n",
    "    return result"
   ]
  },
  {
   "cell_type": "code",
   "execution_count": 247,
   "metadata": {},
   "outputs": [],
   "source": [
    "business = business.merge(business.apply(get_user_stats, axis=1), left_on='business_id', right_on='business_id', how='left')"
   ]
  },
  {
   "cell_type": "code",
   "execution_count": 250,
   "metadata": {},
   "outputs": [
    {
     "name": "stdout",
     "output_type": "stream",
     "text": [
      "<class 'pandas.core.frame.DataFrame'>\n",
      "Int64Index: 31758 entries, 0 to 31757\n",
      "Data columns (total 74 columns):\n",
      "is_open                                  31758 non-null int64\n",
      "hours.Monday                             24429 non-null object\n",
      "attributes.BusinessAcceptsCreditCards    30325 non-null object\n",
      "hours.Tuesday                            25478 non-null object\n",
      "attributes.HappyHour                     3476 non-null object\n",
      "attributes.Ambience                      20660 non-null object\n",
      "attributes.NoiseLevel                    18368 non-null object\n",
      "hours.Wednesday                          25755 non-null object\n",
      "attributes.GoodForKids                   21882 non-null object\n",
      "attributes.AgesAllowed                   32 non-null object\n",
      "neighborhood                             31758 non-null object\n",
      "attributes.Corkage                       427 non-null object\n",
      "categories                               31758 non-null object\n",
      "attributes.AcceptsInsurance              92 non-null object\n",
      "attributes.Alcohol                       20273 non-null object\n",
      "attributes.WiFi                          21346 non-null object\n",
      "attributes.Music                         3168 non-null object\n",
      "attributes.RestaurantsReservations       22044 non-null object\n",
      "postal_code                              31758 non-null object\n",
      "attributes.HairSpecializesIn             5 non-null object\n",
      "name                                     31758 non-null object\n",
      "longitude                                31758 non-null float64\n",
      "attributes.BikeParking                   26108 non-null object\n",
      "attributes.RestaurantsTableService       18694 non-null object\n",
      "attributes.RestaurantsDelivery           22964 non-null object\n",
      "attributes.RestaurantsTakeOut            28444 non-null object\n",
      "hours.Friday                             25882 non-null object\n",
      "attributes.RestaurantsPriceRange2        29177 non-null float64\n",
      "attributes.DriveThru                     4382 non-null object\n",
      "city                                     31758 non-null object\n",
      "attributes.DogsAllowed                   4121 non-null object\n",
      "attributes.GoodForMeal                   21070 non-null object\n",
      "attributes.RestaurantsCounterService     263 non-null object\n",
      "attributes.DietaryRestrictions           69 non-null object\n",
      "latitude                                 31758 non-null float64\n",
      "attributes                               31116 non-null object\n",
      "attributes.BusinessParking               27670 non-null object\n",
      "stars                                    31758 non-null category\n",
      "business_id                              31758 non-null object\n",
      "attributes.BestNights                    2551 non-null object\n",
      "address                                  31758 non-null object\n",
      "attributes.ByAppointmentOnly             1083 non-null object\n",
      "attributes.BYOB                          557 non-null object\n",
      "attributes.BusinessAcceptsBitcoin        3206 non-null object\n",
      "attributes.BYOBCorkage                   875 non-null object\n",
      "attributes.Caters                        21378 non-null object\n",
      "attributes.Open24Hours                   182 non-null object\n",
      "attributes.HasTV                         20446 non-null object\n",
      "attributes.OutdoorSeating                22267 non-null object\n",
      "hours.Sunday                             22936 non-null object\n",
      "attributes.GoodForDancing                3401 non-null object\n",
      "attributes.WheelchairAccessible          14252 non-null object\n",
      "attributes.RestaurantsGoodForGroups      21873 non-null object\n",
      "attributes.Smoking                       2819 non-null object\n",
      "attributes.CoatCheck                     3075 non-null object\n",
      "hours.Saturday                           25408 non-null object\n",
      "review_count                             31758 non-null float64\n",
      "hours.Thursday                           25795 non-null object\n",
      "state                                    31758 non-null object\n",
      "hours                                    26000 non-null object\n",
      "attributes.RestaurantsAttire             20755 non-null object\n",
      "census_region                            31758 non-null float64\n",
      "census_division                          31758 non-null float64\n",
      "state_name                               31758 non-null object\n",
      "county_name                              31758 non-null object\n",
      "population                               31259 non-null float64\n",
      "population_proper                        31259 non-null float64\n",
      "density                                  31758 non-null float64\n",
      "zips                                     31758 non-null object\n",
      "users                                    31758 non-null object\n",
      "mean_user_review_counts                  31758 non-null float64\n",
      "mean_months_since_yelping                31758 non-null float64\n",
      "mean_user_fans                           31758 non-null float64\n",
      "mean_total_compliments                   31758 non-null float64\n",
      "dtypes: category(1), float64(13), int64(1), object(59)\n",
      "memory usage: 18.0+ MB\n"
     ]
    }
   ],
   "source": [
    "business.info()"
   ]
  },
  {
   "cell_type": "markdown",
   "metadata": {},
   "source": [
    "# Writing out cleaned data"
   ]
  },
  {
   "cell_type": "code",
   "execution_count": 251,
   "metadata": {},
   "outputs": [],
   "source": [
    "cleaned_cols = ['stars', 'business_id', 'name', 'neighborhood',\n",
    "               'city', 'state', 'postal_code', 'latitude', 'longitude',\n",
    "               'categories', 'review_count', 'mean_user_review_counts', \n",
    "                'mean_months_since_yelping', 'mean_user_fans', 'mean_total_compliments']"
   ]
  },
  {
   "cell_type": "code",
   "execution_count": 252,
   "metadata": {},
   "outputs": [
    {
     "data": {
      "text/html": [
       "<div>\n",
       "<style scoped>\n",
       "    .dataframe tbody tr th:only-of-type {\n",
       "        vertical-align: middle;\n",
       "    }\n",
       "\n",
       "    .dataframe tbody tr th {\n",
       "        vertical-align: top;\n",
       "    }\n",
       "\n",
       "    .dataframe thead th {\n",
       "        text-align: right;\n",
       "    }\n",
       "</style>\n",
       "<table border=\"1\" class=\"dataframe\">\n",
       "  <thead>\n",
       "    <tr style=\"text-align: right;\">\n",
       "      <th></th>\n",
       "      <th>stars</th>\n",
       "      <th>business_id</th>\n",
       "      <th>name</th>\n",
       "      <th>neighborhood</th>\n",
       "      <th>city</th>\n",
       "      <th>state</th>\n",
       "      <th>postal_code</th>\n",
       "      <th>latitude</th>\n",
       "      <th>longitude</th>\n",
       "      <th>categories</th>\n",
       "      <th>review_count</th>\n",
       "      <th>mean_user_review_counts</th>\n",
       "      <th>mean_months_since_yelping</th>\n",
       "      <th>mean_user_fans</th>\n",
       "      <th>mean_total_compliments</th>\n",
       "    </tr>\n",
       "  </thead>\n",
       "  <tbody>\n",
       "    <tr>\n",
       "      <th>0</th>\n",
       "      <td>4.0</td>\n",
       "      <td>45bWSZtniwPRiqlivpS8Og</td>\n",
       "      <td>the coffee bean &amp; tea leaf</td>\n",
       "      <td>not_available</td>\n",
       "      <td>phoenix</td>\n",
       "      <td>AZ</td>\n",
       "      <td>85024</td>\n",
       "      <td>33.671375</td>\n",
       "      <td>-112.030017</td>\n",
       "      <td>coffee &amp; tea, food</td>\n",
       "      <td>1.799341</td>\n",
       "      <td>71.855422</td>\n",
       "      <td>79.254341</td>\n",
       "      <td>8.807229</td>\n",
       "      <td>77.325301</td>\n",
       "    </tr>\n",
       "    <tr>\n",
       "      <th>1</th>\n",
       "      <td>2.5</td>\n",
       "      <td>8-NRKkPY1UiFXW20WXKiXg</td>\n",
       "      <td>filiberto's mexican food</td>\n",
       "      <td>not_available</td>\n",
       "      <td>avondale</td>\n",
       "      <td>AZ</td>\n",
       "      <td>85323</td>\n",
       "      <td>33.448106</td>\n",
       "      <td>-112.341302</td>\n",
       "      <td>mexican, restaurants</td>\n",
       "      <td>1.602060</td>\n",
       "      <td>96.235294</td>\n",
       "      <td>82.525937</td>\n",
       "      <td>5.960784</td>\n",
       "      <td>58.196078</td>\n",
       "    </tr>\n",
       "    <tr>\n",
       "      <th>2</th>\n",
       "      <td>4.0</td>\n",
       "      <td>_c3ixq9jYKxhLUB0czi0ug</td>\n",
       "      <td>original hamburger works</td>\n",
       "      <td>not_available</td>\n",
       "      <td>phoenix</td>\n",
       "      <td>AZ</td>\n",
       "      <td>85007</td>\n",
       "      <td>33.479807</td>\n",
       "      <td>-112.091188</td>\n",
       "      <td>bars, sports bars, dive bars, burgers, nightli...</td>\n",
       "      <td>2.442480</td>\n",
       "      <td>107.390244</td>\n",
       "      <td>83.152809</td>\n",
       "      <td>9.634146</td>\n",
       "      <td>144.167683</td>\n",
       "    </tr>\n",
       "    <tr>\n",
       "      <th>3</th>\n",
       "      <td>3.0</td>\n",
       "      <td>gJ5xSt6147gkcZ9Es0WxlA</td>\n",
       "      <td>rally's hamburgers</td>\n",
       "      <td>central</td>\n",
       "      <td>cleveland</td>\n",
       "      <td>OH</td>\n",
       "      <td>44115</td>\n",
       "      <td>41.499989</td>\n",
       "      <td>-81.666375</td>\n",
       "      <td>fast food, burgers, restaurants</td>\n",
       "      <td>0.698970</td>\n",
       "      <td>25.166667</td>\n",
       "      <td>36.790327</td>\n",
       "      <td>0.833333</td>\n",
       "      <td>2.333333</td>\n",
       "    </tr>\n",
       "    <tr>\n",
       "      <th>4</th>\n",
       "      <td>2.5</td>\n",
       "      <td>3ByGQOVgds2YEu6kzl-XEQ</td>\n",
       "      <td>rib shop</td>\n",
       "      <td>not_available</td>\n",
       "      <td>phoenix</td>\n",
       "      <td>AZ</td>\n",
       "      <td>85033</td>\n",
       "      <td>33.495298</td>\n",
       "      <td>-112.236076</td>\n",
       "      <td>nightlife, bars, american (traditional), sport...</td>\n",
       "      <td>0.477121</td>\n",
       "      <td>159.750000</td>\n",
       "      <td>79.200507</td>\n",
       "      <td>28.250000</td>\n",
       "      <td>546.250000</td>\n",
       "    </tr>\n",
       "  </tbody>\n",
       "</table>\n",
       "</div>"
      ],
      "text/plain": [
       "  stars             business_id                        name   neighborhood  \\\n",
       "0   4.0  45bWSZtniwPRiqlivpS8Og  the coffee bean & tea leaf  not_available   \n",
       "1   2.5  8-NRKkPY1UiFXW20WXKiXg    filiberto's mexican food  not_available   \n",
       "2   4.0  _c3ixq9jYKxhLUB0czi0ug    original hamburger works  not_available   \n",
       "3   3.0  gJ5xSt6147gkcZ9Es0WxlA          rally's hamburgers        central   \n",
       "4   2.5  3ByGQOVgds2YEu6kzl-XEQ                    rib shop  not_available   \n",
       "\n",
       "        city state postal_code   latitude   longitude  \\\n",
       "0    phoenix    AZ       85024  33.671375 -112.030017   \n",
       "1   avondale    AZ       85323  33.448106 -112.341302   \n",
       "2    phoenix    AZ       85007  33.479807 -112.091188   \n",
       "3  cleveland    OH       44115  41.499989  -81.666375   \n",
       "4    phoenix    AZ       85033  33.495298 -112.236076   \n",
       "\n",
       "                                          categories  review_count  \\\n",
       "0                                 coffee & tea, food      1.799341   \n",
       "1                               mexican, restaurants      1.602060   \n",
       "2  bars, sports bars, dive bars, burgers, nightli...      2.442480   \n",
       "3                    fast food, burgers, restaurants      0.698970   \n",
       "4  nightlife, bars, american (traditional), sport...      0.477121   \n",
       "\n",
       "   mean_user_review_counts  mean_months_since_yelping  mean_user_fans  \\\n",
       "0                71.855422                  79.254341        8.807229   \n",
       "1                96.235294                  82.525937        5.960784   \n",
       "2               107.390244                  83.152809        9.634146   \n",
       "3                25.166667                  36.790327        0.833333   \n",
       "4               159.750000                  79.200507       28.250000   \n",
       "\n",
       "   mean_total_compliments  \n",
       "0               77.325301  \n",
       "1               58.196078  \n",
       "2              144.167683  \n",
       "3                2.333333  \n",
       "4              546.250000  "
      ]
     },
     "execution_count": 252,
     "metadata": {},
     "output_type": "execute_result"
    }
   ],
   "source": [
    "business[cleaned_cols].head()"
   ]
  },
  {
   "cell_type": "code",
   "execution_count": 253,
   "metadata": {},
   "outputs": [],
   "source": [
    "business[cleaned_cols].to_csv('1.0-sm-business_cleaned-1.csv', index=False)"
   ]
  },
  {
   "cell_type": "code",
   "execution_count": 254,
   "metadata": {},
   "outputs": [],
   "source": [
    "business.to_csv('1.0-sm-business_cleaned-raw.csv', index=False)"
   ]
  },
  {
   "cell_type": "code",
   "execution_count": null,
   "metadata": {},
   "outputs": [],
   "source": []
  }
 ],
 "metadata": {
  "kernelspec": {
   "display_name": "Python 3",
   "language": "python",
   "name": "python3"
  },
  "language_info": {
   "codemirror_mode": {
    "name": "ipython",
    "version": 3
   },
   "file_extension": ".py",
   "mimetype": "text/x-python",
   "name": "python",
   "nbconvert_exporter": "python",
   "pygments_lexer": "ipython3",
   "version": "3.6.5"
  },
  "toc-autonumbering": false,
  "toc-showcode": false,
  "toc-showmarkdowntxt": false,
  "toc-showtags": true
 },
 "nbformat": 4,
 "nbformat_minor": 2
}
